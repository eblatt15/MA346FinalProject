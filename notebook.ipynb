{
 "cells": [
  {
   "cell_type": "markdown",
   "source": "# Inside Recent Trends in the NFL\n#### By Emily Blatt\n\nThis program examines patterns and trends in the National Football League over the 2010-2020 season. The main goal of this program is to help fans and coaches better understand trends in the NFL by examining the value of offensive and defensive ranking, overall offense trends, and teams' success history. This program uses three datasets: `NFL Team Defense Statistics.csv`, `NFL Team Offense Statistics.csv`, and `NFLteams.csv`. The program cleans the datasets to make them usable and then unites them to filter and make visuals of the data that can assess possible patterns. Lastly, this program creates a dashboard for users to explore this data further. The `NFL Team Defense Statistics.csv` is a CVS file that contains figures each team allowed to their opponents from the 2010-2020 seasons, like total rushing yards and total yards. The second database, the `NFL Team Offense Statistics.csv`, is a CVS file with overall offense statistics, including team rushing yardage, team passing yardage, and total team yardage during the 2010-2020 seasons. The last dataset `NFL teams.csv` a CVS file that contains each team's winning information from the 2002 to 2021 seasons.",
   "metadata": {
    "cell_id": "25ac7cf3643648399d50103eaedd0f23",
    "tags": [],
    "deepnote_cell_type": "markdown",
    "deepnote_cell_height": 358
   }
  },
  {
   "cell_type": "markdown",
   "source": "### Step 1: Load Data \nThe first step of this program is to load the data. I loaded each of the datasets and removed unnecessary columns to the goals of this project.",
   "metadata": {
    "cell_id": "b52ef648a66d4232995fafc72b2493d1",
    "tags": [],
    "deepnote_cell_type": "markdown",
    "deepnote_cell_height": 122.796875
   }
  },
  {
   "cell_type": "code",
   "metadata": {
    "tags": [],
    "cell_id": "7a6c7257-5749-4c19-ac11-b9a985467190",
    "deepnote_to_be_reexecuted": false,
    "source_hash": "6c0d0065",
    "execution_start": 1651099190082,
    "execution_millis": 1248,
    "deepnote_table_state": {
     "pageSize": 25,
     "pageIndex": 1,
     "filters": [],
     "sortBy": []
    },
    "deepnote_table_loading": false,
    "deepnote_cell_type": "code",
    "deepnote_cell_height": 1430
   },
   "source": "import pandas as pd\nimport numpy as np\nimport matplotlib.pyplot as plt\nimport seaborn as sns\nimport stat \n\n# Loads Data \ndefense = pd.read_csv( \"NFL Team Defense Statistics.csv\")\n\n# Drop unneccessary columns\ndefense.drop([\"Gms\", \"Pts/G\", \"RYds/G\", \"PYds/G\", \"Yds/G\"],  axis=1, inplace=True)\ndefense",
   "outputs": [],
   "execution_count": null
  },
  {
   "cell_type": "code",
   "metadata": {
    "cell_id": "1e7d254580ef47f299063d531fad82cf",
    "tags": [],
    "deepnote_to_be_reexecuted": true,
    "source_hash": "ab0dc194",
    "execution_start": 1651098310659,
    "execution_millis": 46,
    "deepnote_table_state": {
     "pageSize": 10,
     "pageIndex": 2,
     "filters": [],
     "sortBy": []
    },
    "deepnote_table_loading": false,
    "deepnote_cell_type": "code",
    "deepnote_cell_height": 725
   },
   "source": "# Loads Data \noffense = pd.read_csv (\"NFL Team Offense Statistics.csv\")\n\n# Drop unneccessary columns\noffense.drop([\"Pts/G\", \"RYds/G\", \"PYds/G\", \"Yds/G\" ],  axis=1, inplace=True)\n\noffense",
   "outputs": [
    {
     "output_type": "execute_result",
     "execution_count": 2,
     "data": {
      "application/vnd.deepnote.dataframe.v3+json": {
       "column_count": 8,
       "row_count": 352,
       "columns": [
        {
         "name": "season ",
         "dtype": "int64",
         "stats": {
          "unique_count": 11,
          "nan_count": 0,
          "min": "2010",
          "max": "2020",
          "histogram": [
           {
            "bin_start": 2010,
            "bin_end": 2011,
            "count": 32
           },
           {
            "bin_start": 2011,
            "bin_end": 2012,
            "count": 32
           },
           {
            "bin_start": 2012,
            "bin_end": 2013,
            "count": 32
           },
           {
            "bin_start": 2013,
            "bin_end": 2014,
            "count": 32
           },
           {
            "bin_start": 2014,
            "bin_end": 2015,
            "count": 32
           },
           {
            "bin_start": 2015,
            "bin_end": 2016,
            "count": 32
           },
           {
            "bin_start": 2016,
            "bin_end": 2017,
            "count": 32
           },
           {
            "bin_start": 2017,
            "bin_end": 2018,
            "count": 32
           },
           {
            "bin_start": 2018,
            "bin_end": 2019,
            "count": 32
           },
           {
            "bin_start": 2019,
            "bin_end": 2020,
            "count": 64
           }
          ]
         }
        },
        {
         "name": "Team",
         "dtype": "object",
         "stats": {
          "unique_count": 35,
          "nan_count": 0,
          "categories": [
           {
            "name": "Philadelphia Eagles",
            "count": 11
           },
           {
            "name": "Houston Texans",
            "count": 11
           },
           {
            "name": "33 others",
            "count": 330
           }
          ]
         }
        },
        {
         "name": "Gms",
         "dtype": "int64",
         "stats": {
          "unique_count": 1,
          "nan_count": 0,
          "min": "16",
          "max": "16",
          "histogram": [
           {
            "bin_start": 15.5,
            "bin_end": 15.6,
            "count": 0
           },
           {
            "bin_start": 15.6,
            "bin_end": 15.7,
            "count": 0
           },
           {
            "bin_start": 15.7,
            "bin_end": 15.8,
            "count": 0
           },
           {
            "bin_start": 15.8,
            "bin_end": 15.9,
            "count": 0
           },
           {
            "bin_start": 15.9,
            "bin_end": 16,
            "count": 0
           },
           {
            "bin_start": 16,
            "bin_end": 16.1,
            "count": 352
           },
           {
            "bin_start": 16.1,
            "bin_end": 16.2,
            "count": 0
           },
           {
            "bin_start": 16.2,
            "bin_end": 16.3,
            "count": 0
           },
           {
            "bin_start": 16.3,
            "bin_end": 16.4,
            "count": 0
           },
           {
            "bin_start": 16.4,
            "bin_end": 16.5,
            "count": 0
           }
          ]
         }
        },
        {
         "name": "Tot Pts",
         "dtype": "int64",
         "stats": {
          "unique_count": 188,
          "nan_count": 0,
          "min": "193",
          "max": "606",
          "histogram": [
           {
            "bin_start": 193,
            "bin_end": 234.3,
            "count": 8
           },
           {
            "bin_start": 234.3,
            "bin_end": 275.6,
            "count": 21
           },
           {
            "bin_start": 275.6,
            "bin_end": 316.9,
            "count": 58
           },
           {
            "bin_start": 316.9,
            "bin_end": 358.2,
            "count": 77
           },
           {
            "bin_start": 358.2,
            "bin_end": 399.5,
            "count": 84
           },
           {
            "bin_start": 399.5,
            "bin_end": 440.79999999999995,
            "count": 58
           },
           {
            "bin_start": 440.79999999999995,
            "bin_end": 482.09999999999997,
            "count": 28
           },
           {
            "bin_start": 482.09999999999997,
            "bin_end": 523.4,
            "count": 10
           },
           {
            "bin_start": 523.4,
            "bin_end": 564.7,
            "count": 6
           },
           {
            "bin_start": 564.7,
            "bin_end": 606,
            "count": 2
           }
          ]
         }
        },
        {
         "name": "RushYds",
         "dtype": "int64",
         "stats": {
          "unique_count": 303,
          "nan_count": 0,
          "min": "1156",
          "max": "3296",
          "histogram": [
           {
            "bin_start": 1156,
            "bin_end": 1370,
            "count": 22
           },
           {
            "bin_start": 1370,
            "bin_end": 1584,
            "count": 70
           },
           {
            "bin_start": 1584,
            "bin_end": 1798,
            "count": 94
           },
           {
            "bin_start": 1798,
            "bin_end": 2012,
            "count": 80
           },
           {
            "bin_start": 2012,
            "bin_end": 2226,
            "count": 48
           },
           {
            "bin_start": 2226,
            "bin_end": 2440,
            "count": 22
           },
           {
            "bin_start": 2440,
            "bin_end": 2654,
            "count": 11
           },
           {
            "bin_start": 2654,
            "bin_end": 2868,
            "count": 3
           },
           {
            "bin_start": 2868,
            "bin_end": 3082,
            "count": 1
           },
           {
            "bin_start": 3082,
            "bin_end": 3296,
            "count": 1
           }
          ]
         }
        },
        {
         "name": "PassYds",
         "dtype": "int64",
         "stats": {
          "unique_count": 321,
          "nan_count": 0,
          "min": "2179",
          "max": "5444",
          "histogram": [
           {
            "bin_start": 2179,
            "bin_end": 2505.5,
            "count": 3
           },
           {
            "bin_start": 2505.5,
            "bin_end": 2832,
            "count": 11
           },
           {
            "bin_start": 2832,
            "bin_end": 3158.5,
            "count": 49
           },
           {
            "bin_start": 3158.5,
            "bin_end": 3485,
            "count": 57
           },
           {
            "bin_start": 3485,
            "bin_end": 3811.5,
            "count": 77
           },
           {
            "bin_start": 3811.5,
            "bin_end": 4138,
            "count": 75
           },
           {
            "bin_start": 4138,
            "bin_end": 4464.5,
            "count": 37
           },
           {
            "bin_start": 4464.5,
            "bin_end": 4791,
            "count": 26
           },
           {
            "bin_start": 4791,
            "bin_end": 5117.5,
            "count": 14
           },
           {
            "bin_start": 5117.5,
            "bin_end": 5444,
            "count": 3
           }
          ]
         }
        },
        {
         "name": "TotYds",
         "dtype": "int64",
         "stats": {
          "unique_count": 322,
          "nan_count": 0,
          "min": "3865",
          "max": "7474",
          "histogram": [
           {
            "bin_start": 3865,
            "bin_end": 4225.9,
            "count": 5
           },
           {
            "bin_start": 4225.9,
            "bin_end": 4586.8,
            "count": 10
           },
           {
            "bin_start": 4586.8,
            "bin_end": 4947.7,
            "count": 37
           },
           {
            "bin_start": 4947.7,
            "bin_end": 5308.6,
            "count": 66
           },
           {
            "bin_start": 5308.6,
            "bin_end": 5669.5,
            "count": 82
           },
           {
            "bin_start": 5669.5,
            "bin_end": 6030.4,
            "count": 81
           },
           {
            "bin_start": 6030.4,
            "bin_end": 6391.299999999999,
            "count": 46
           },
           {
            "bin_start": 6391.299999999999,
            "bin_end": 6752.2,
            "count": 18
           },
           {
            "bin_start": 6752.2,
            "bin_end": 7113.1,
            "count": 5
           },
           {
            "bin_start": 7113.1,
            "bin_end": 7474,
            "count": 2
           }
          ]
         }
        },
        {
         "name": "Ranking",
         "dtype": "int64",
         "stats": {
          "unique_count": 32,
          "nan_count": 0,
          "min": "1",
          "max": "32",
          "histogram": [
           {
            "bin_start": 1,
            "bin_end": 4.1,
            "count": 44
           },
           {
            "bin_start": 4.1,
            "bin_end": 7.2,
            "count": 33
           },
           {
            "bin_start": 7.2,
            "bin_end": 10.3,
            "count": 33
           },
           {
            "bin_start": 10.3,
            "bin_end": 13.4,
            "count": 33
           },
           {
            "bin_start": 13.4,
            "bin_end": 16.5,
            "count": 33
           },
           {
            "bin_start": 16.5,
            "bin_end": 19.6,
            "count": 33
           },
           {
            "bin_start": 19.6,
            "bin_end": 22.7,
            "count": 33
           },
           {
            "bin_start": 22.7,
            "bin_end": 25.8,
            "count": 33
           },
           {
            "bin_start": 25.8,
            "bin_end": 28.900000000000002,
            "count": 33
           },
           {
            "bin_start": 28.900000000000002,
            "bin_end": 32,
            "count": 44
           }
          ]
         }
        },
        {
         "name": "_deepnote_index_column",
         "dtype": "int64"
        }
       ],
       "rows": [
        {
         "season ": 2010,
         "Team": "Miami Dolphins",
         "Gms": 16,
         "Tot Pts": 273,
         "RushYds": 1643,
         "PassYds": 3527,
         "TotYds": 5170,
         "Ranking": 21,
         "_deepnote_index_column": 20
        },
        {
         "season ": 2010,
         "Team": "Baltimore Ravens",
         "Gms": 16,
         "Tot Pts": 357,
         "RushYds": 1831,
         "PassYds": 3335,
         "TotYds": 5166,
         "Ranking": 22,
         "_deepnote_index_column": 21
        },
        {
         "season ": 2010,
         "Team": "Minnesota Vikings",
         "Gms": 16,
         "Tot Pts": 281,
         "RushYds": 1942,
         "PassYds": 3097,
         "TotYds": 5039,
         "Ranking": 23,
         "_deepnote_index_column": 22
        },
        {
         "season ": 2010,
         "Team": "San Francisco 49ers",
         "Gms": 16,
         "Tot Pts": 305,
         "RushYds": 1657,
         "PassYds": 3356,
         "TotYds": 5013,
         "Ranking": 24,
         "_deepnote_index_column": 23
        },
        {
         "season ": 2010,
         "Team": "Buffalo Bills",
         "Gms": 16,
         "Tot Pts": 283,
         "RushYds": 1720,
         "PassYds": 3158,
         "TotYds": 4878,
         "Ranking": 25,
         "_deepnote_index_column": 24
        },
        {
         "season ": 2010,
         "Team": "St. Louis Rams",
         "Gms": 16,
         "Tot Pts": 289,
         "RushYds": 1578,
         "PassYds": 3268,
         "TotYds": 4846,
         "Ranking": 26,
         "_deepnote_index_column": 25
        },
        {
         "season ": 2010,
         "Team": "Tennessee Titans",
         "Gms": 16,
         "Tot Pts": 356,
         "RushYds": 1727,
         "PassYds": 3107,
         "TotYds": 4834,
         "Ranking": 27,
         "_deepnote_index_column": 26
        },
        {
         "season ": 2010,
         "Team": "Seattle Seahawks",
         "Gms": 16,
         "Tot Pts": 310,
         "RushYds": 1424,
         "PassYds": 3341,
         "TotYds": 4765,
         "Ranking": 28,
         "_deepnote_index_column": 27
        },
        {
         "season ": 2010,
         "Team": "Cleveland Browns",
         "Gms": 16,
         "Tot Pts": 271,
         "RushYds": 1646,
         "PassYds": 2989,
         "TotYds": 4635,
         "Ranking": 29,
         "_deepnote_index_column": 28
        },
        {
         "season ": 2010,
         "Team": "Chicago Bears",
         "Gms": 16,
         "Tot Pts": 334,
         "RushYds": 1616,
         "PassYds": 3015,
         "TotYds": 4631,
         "Ranking": 30,
         "_deepnote_index_column": 29
        }
       ]
      },
      "text/plain": "     season                       Team  Gms  Tot Pts  RushYds  PassYds  \\\n0       2010        San Diego Chargers   16      441     1810     4519   \n1       2010       Philadelphia Eagles   16      439     2324     3906   \n2       2010            Houston Texans   16      390     2042     4144   \n3       2010        Indianapolis Colts   16      435     1483     4609   \n4       2010           New York Giants   16      394     2200     3885   \n..       ...                       ...  ...      ...      ...      ...   \n347     2020      Jacksonville Jaguars   16      306     1519     3699   \n348     2020        Cincinnati Bengals   16      311     1668     3448   \n349     2020  Washington Football Team   16      335     1611     3465   \n350     2020           New York Giants   16      280     1768     3026   \n351     2020             New York Jets   16      243     1683     2796   \n\n     TotYds  Ranking  \n0      6329        1  \n1      6230        2  \n2      6186        3  \n3      6092        4  \n4      6085        5  \n..      ...      ...  \n347    5218       28  \n348    5116       29  \n349    5076       30  \n350    4794       31  \n351    4479       32  \n\n[352 rows x 8 columns]",
      "text/html": "<div>\n<style scoped>\n    .dataframe tbody tr th:only-of-type {\n        vertical-align: middle;\n    }\n\n    .dataframe tbody tr th {\n        vertical-align: top;\n    }\n\n    .dataframe thead th {\n        text-align: right;\n    }\n</style>\n<table border=\"1\" class=\"dataframe\">\n  <thead>\n    <tr style=\"text-align: right;\">\n      <th></th>\n      <th>season</th>\n      <th>Team</th>\n      <th>Gms</th>\n      <th>Tot Pts</th>\n      <th>RushYds</th>\n      <th>PassYds</th>\n      <th>TotYds</th>\n      <th>Ranking</th>\n    </tr>\n  </thead>\n  <tbody>\n    <tr>\n      <th>0</th>\n      <td>2010</td>\n      <td>San Diego Chargers</td>\n      <td>16</td>\n      <td>441</td>\n      <td>1810</td>\n      <td>4519</td>\n      <td>6329</td>\n      <td>1</td>\n    </tr>\n    <tr>\n      <th>1</th>\n      <td>2010</td>\n      <td>Philadelphia Eagles</td>\n      <td>16</td>\n      <td>439</td>\n      <td>2324</td>\n      <td>3906</td>\n      <td>6230</td>\n      <td>2</td>\n    </tr>\n    <tr>\n      <th>2</th>\n      <td>2010</td>\n      <td>Houston Texans</td>\n      <td>16</td>\n      <td>390</td>\n      <td>2042</td>\n      <td>4144</td>\n      <td>6186</td>\n      <td>3</td>\n    </tr>\n    <tr>\n      <th>3</th>\n      <td>2010</td>\n      <td>Indianapolis Colts</td>\n      <td>16</td>\n      <td>435</td>\n      <td>1483</td>\n      <td>4609</td>\n      <td>6092</td>\n      <td>4</td>\n    </tr>\n    <tr>\n      <th>4</th>\n      <td>2010</td>\n      <td>New York Giants</td>\n      <td>16</td>\n      <td>394</td>\n      <td>2200</td>\n      <td>3885</td>\n      <td>6085</td>\n      <td>5</td>\n    </tr>\n    <tr>\n      <th>...</th>\n      <td>...</td>\n      <td>...</td>\n      <td>...</td>\n      <td>...</td>\n      <td>...</td>\n      <td>...</td>\n      <td>...</td>\n      <td>...</td>\n    </tr>\n    <tr>\n      <th>347</th>\n      <td>2020</td>\n      <td>Jacksonville Jaguars</td>\n      <td>16</td>\n      <td>306</td>\n      <td>1519</td>\n      <td>3699</td>\n      <td>5218</td>\n      <td>28</td>\n    </tr>\n    <tr>\n      <th>348</th>\n      <td>2020</td>\n      <td>Cincinnati Bengals</td>\n      <td>16</td>\n      <td>311</td>\n      <td>1668</td>\n      <td>3448</td>\n      <td>5116</td>\n      <td>29</td>\n    </tr>\n    <tr>\n      <th>349</th>\n      <td>2020</td>\n      <td>Washington Football Team</td>\n      <td>16</td>\n      <td>335</td>\n      <td>1611</td>\n      <td>3465</td>\n      <td>5076</td>\n      <td>30</td>\n    </tr>\n    <tr>\n      <th>350</th>\n      <td>2020</td>\n      <td>New York Giants</td>\n      <td>16</td>\n      <td>280</td>\n      <td>1768</td>\n      <td>3026</td>\n      <td>4794</td>\n      <td>31</td>\n    </tr>\n    <tr>\n      <th>351</th>\n      <td>2020</td>\n      <td>New York Jets</td>\n      <td>16</td>\n      <td>243</td>\n      <td>1683</td>\n      <td>2796</td>\n      <td>4479</td>\n      <td>32</td>\n    </tr>\n  </tbody>\n</table>\n<p>352 rows × 8 columns</p>\n</div>"
     },
     "metadata": {}
    }
   ],
   "execution_count": null
  },
  {
   "cell_type": "code",
   "metadata": {
    "cell_id": "5f5d1ae656e64e1b81994eb2e3723b84",
    "tags": [],
    "deepnote_to_be_reexecuted": true,
    "source_hash": "deadf060",
    "execution_start": 1651098310717,
    "execution_millis": 50,
    "deepnote_table_state": {
     "pageSize": 10,
     "pageIndex": 16,
     "filters": [],
     "sortBy": []
    },
    "deepnote_table_loading": false,
    "deepnote_cell_type": "code",
    "deepnote_cell_height": 706.796875
   },
   "source": "# Loads Data \nteamwins = pd.read_csv (\"NFLteams.csv\")\n\n# Drop unneccessary columns\nteamwins.drop([\"conf\", \"division\", \"div_rank\", \"sov\", \"sos\"],  axis=1, inplace=True)\nteamwins",
   "outputs": [
    {
     "output_type": "execute_result",
     "execution_count": 3,
     "data": {
      "application/vnd.deepnote.dataframe.v3+json": {
       "column_count": 11,
       "row_count": 640,
       "columns": [
        {
         "name": "season",
         "dtype": "int64",
         "stats": {
          "unique_count": 20,
          "nan_count": 0,
          "min": "2002",
          "max": "2021",
          "histogram": [
           {
            "bin_start": 2002,
            "bin_end": 2003.9,
            "count": 64
           },
           {
            "bin_start": 2003.9,
            "bin_end": 2005.8,
            "count": 64
           },
           {
            "bin_start": 2005.8,
            "bin_end": 2007.7,
            "count": 64
           },
           {
            "bin_start": 2007.7,
            "bin_end": 2009.6,
            "count": 64
           },
           {
            "bin_start": 2009.6,
            "bin_end": 2011.5,
            "count": 64
           },
           {
            "bin_start": 2011.5,
            "bin_end": 2013.4,
            "count": 64
           },
           {
            "bin_start": 2013.4,
            "bin_end": 2015.3,
            "count": 64
           },
           {
            "bin_start": 2015.3,
            "bin_end": 2017.2,
            "count": 64
           },
           {
            "bin_start": 2017.2,
            "bin_end": 2019.1,
            "count": 64
           },
           {
            "bin_start": 2019.1,
            "bin_end": 2021,
            "count": 64
           }
          ]
         }
        },
        {
         "name": "team",
         "dtype": "object",
         "stats": {
          "unique_count": 35,
          "nan_count": 0,
          "categories": [
           {
            "name": "BUF",
            "count": 20
           },
           {
            "name": "MIA",
            "count": 20
           },
           {
            "name": "33 others",
            "count": 600
           }
          ]
         }
        },
        {
         "name": "wins",
         "dtype": "int64",
         "stats": {
          "unique_count": 17,
          "nan_count": 0,
          "min": "0",
          "max": "16",
          "histogram": [
           {
            "bin_start": 0,
            "bin_end": 1.6,
            "count": 6
           },
           {
            "bin_start": 1.6,
            "bin_end": 3.2,
            "count": 37
           },
           {
            "bin_start": 3.2,
            "bin_end": 4.800000000000001,
            "count": 55
           },
           {
            "bin_start": 4.800000000000001,
            "bin_end": 6.4,
            "count": 108
           },
           {
            "bin_start": 6.4,
            "bin_end": 8,
            "count": 76
           },
           {
            "bin_start": 8,
            "bin_end": 9.600000000000001,
            "count": 140
           },
           {
            "bin_start": 9.600000000000001,
            "bin_end": 11.200000000000001,
            "count": 122
           },
           {
            "bin_start": 11.200000000000001,
            "bin_end": 12.8,
            "count": 48
           },
           {
            "bin_start": 12.8,
            "bin_end": 14.4,
            "count": 44
           },
           {
            "bin_start": 14.4,
            "bin_end": 16,
            "count": 4
           }
          ]
         }
        },
        {
         "name": "losses",
         "dtype": "int64",
         "stats": {
          "unique_count": 17,
          "nan_count": 0,
          "min": "0",
          "max": "16",
          "histogram": [
           {
            "bin_start": 0,
            "bin_end": 1.6,
            "count": 4
           },
           {
            "bin_start": 1.6,
            "bin_end": 3.2,
            "count": 42
           },
           {
            "bin_start": 3.2,
            "bin_end": 4.800000000000001,
            "count": 47
           },
           {
            "bin_start": 4.800000000000001,
            "bin_end": 6.4,
            "count": 124
           },
           {
            "bin_start": 6.4,
            "bin_end": 8,
            "count": 68
           },
           {
            "bin_start": 8,
            "bin_end": 9.600000000000001,
            "count": 147
           },
           {
            "bin_start": 9.600000000000001,
            "bin_end": 11.200000000000001,
            "count": 112
           },
           {
            "bin_start": 11.200000000000001,
            "bin_end": 12.8,
            "count": 51
           },
           {
            "bin_start": 12.8,
            "bin_end": 14.4,
            "count": 39
           },
           {
            "bin_start": 14.4,
            "bin_end": 16,
            "count": 6
           }
          ]
         }
        },
        {
         "name": "ties",
         "dtype": "int64",
         "stats": {
          "unique_count": 2,
          "nan_count": 0,
          "min": "0",
          "max": "1",
          "histogram": [
           {
            "bin_start": 0,
            "bin_end": 0.1,
            "count": 616
           },
           {
            "bin_start": 0.1,
            "bin_end": 0.2,
            "count": 0
           },
           {
            "bin_start": 0.2,
            "bin_end": 0.30000000000000004,
            "count": 0
           },
           {
            "bin_start": 0.30000000000000004,
            "bin_end": 0.4,
            "count": 0
           },
           {
            "bin_start": 0.4,
            "bin_end": 0.5,
            "count": 0
           },
           {
            "bin_start": 0.5,
            "bin_end": 0.6000000000000001,
            "count": 0
           },
           {
            "bin_start": 0.6000000000000001,
            "bin_end": 0.7000000000000001,
            "count": 0
           },
           {
            "bin_start": 0.7000000000000001,
            "bin_end": 0.8,
            "count": 0
           },
           {
            "bin_start": 0.8,
            "bin_end": 0.9,
            "count": 0
           },
           {
            "bin_start": 0.9,
            "bin_end": 1,
            "count": 24
           }
          ]
         }
        },
        {
         "name": "pct",
         "dtype": "float64",
         "stats": {
          "unique_count": 39,
          "nan_count": 0,
          "min": "0.0",
          "max": "1.0",
          "histogram": [
           {
            "bin_start": 0,
            "bin_end": 0.1,
            "count": 6
           },
           {
            "bin_start": 0.1,
            "bin_end": 0.2,
            "count": 35
           },
           {
            "bin_start": 0.2,
            "bin_end": 0.30000000000000004,
            "count": 58
           },
           {
            "bin_start": 0.30000000000000004,
            "bin_end": 0.4,
            "count": 105
           },
           {
            "bin_start": 0.4,
            "bin_end": 0.5,
            "count": 81
           },
           {
            "bin_start": 0.5,
            "bin_end": 0.6000000000000001,
            "count": 141
           },
           {
            "bin_start": 0.6000000000000001,
            "bin_end": 0.7000000000000001,
            "count": 117
           },
           {
            "bin_start": 0.7000000000000001,
            "bin_end": 0.8,
            "count": 51
           },
           {
            "bin_start": 0.8,
            "bin_end": 0.9,
            "count": 42
           },
           {
            "bin_start": 0.9,
            "bin_end": 1,
            "count": 4
           }
          ]
         }
        },
        {
         "name": "scored",
         "dtype": "int64",
         "stats": {
          "unique_count": 260,
          "nan_count": 0,
          "min": "168",
          "max": "606",
          "histogram": [
           {
            "bin_start": 168,
            "bin_end": 211.8,
            "count": 8
           },
           {
            "bin_start": 211.8,
            "bin_end": 255.6,
            "count": 40
           },
           {
            "bin_start": 255.6,
            "bin_end": 299.4,
            "count": 97
           },
           {
            "bin_start": 299.4,
            "bin_end": 343.2,
            "count": 136
           },
           {
            "bin_start": 343.2,
            "bin_end": 387,
            "count": 141
           },
           {
            "bin_start": 387,
            "bin_end": 430.79999999999995,
            "count": 124
           },
           {
            "bin_start": 430.79999999999995,
            "bin_end": 474.59999999999997,
            "count": 61
           },
           {
            "bin_start": 474.59999999999997,
            "bin_end": 518.4,
            "count": 22
           },
           {
            "bin_start": 518.4,
            "bin_end": 562.2,
            "count": 8
           },
           {
            "bin_start": 562.2,
            "bin_end": 606,
            "count": 3
           }
          ]
         }
        },
        {
         "name": "allowed",
         "dtype": "int64",
         "stats": {
          "unique_count": 223,
          "nan_count": 0,
          "min": "196",
          "max": "519",
          "histogram": [
           {
            "bin_start": 196,
            "bin_end": 228.3,
            "count": 6
           },
           {
            "bin_start": 228.3,
            "bin_end": 260.6,
            "count": 26
           },
           {
            "bin_start": 260.6,
            "bin_end": 292.9,
            "count": 51
           },
           {
            "bin_start": 292.9,
            "bin_end": 325.2,
            "count": 117
           },
           {
            "bin_start": 325.2,
            "bin_end": 357.5,
            "count": 134
           },
           {
            "bin_start": 357.5,
            "bin_end": 389.79999999999995,
            "count": 124
           },
           {
            "bin_start": 389.79999999999995,
            "bin_end": 422.09999999999997,
            "count": 79
           },
           {
            "bin_start": 422.09999999999997,
            "bin_end": 454.4,
            "count": 74
           },
           {
            "bin_start": 454.4,
            "bin_end": 486.7,
            "count": 22
           },
           {
            "bin_start": 486.7,
            "bin_end": 519,
            "count": 7
           }
          ]
         }
        },
        {
         "name": "net",
         "dtype": "int64",
         "stats": {
          "unique_count": 320,
          "nan_count": 0,
          "min": "-261",
          "max": "315",
          "histogram": [
           {
            "bin_start": -261,
            "bin_end": -203.4,
            "count": 11
           },
           {
            "bin_start": -203.4,
            "bin_end": -145.8,
            "count": 38
           },
           {
            "bin_start": -145.8,
            "bin_end": -88.19999999999999,
            "count": 87
           },
           {
            "bin_start": -88.19999999999999,
            "bin_end": -30.599999999999994,
            "count": 116
           },
           {
            "bin_start": -30.599999999999994,
            "bin_end": 27,
            "count": 132
           },
           {
            "bin_start": 27,
            "bin_end": 84.60000000000002,
            "count": 110
           },
           {
            "bin_start": 84.60000000000002,
            "bin_end": 142.2,
            "count": 93
           },
           {
            "bin_start": 142.2,
            "bin_end": 199.8,
            "count": 46
           },
           {
            "bin_start": 199.8,
            "bin_end": 257.4,
            "count": 6
           },
           {
            "bin_start": 257.4,
            "bin_end": 315,
            "count": 1
           }
          ]
         }
        },
        {
         "name": "seed",
         "dtype": "float64",
         "stats": {
          "unique_count": 7,
          "nan_count": 396,
          "min": "1.0",
          "max": "7.0",
          "histogram": [
           {
            "bin_start": 1,
            "bin_end": 1.6,
            "count": 40
           },
           {
            "bin_start": 1.6,
            "bin_end": 2.2,
            "count": 40
           },
           {
            "bin_start": 2.2,
            "bin_end": 2.8,
            "count": 0
           },
           {
            "bin_start": 2.8,
            "bin_end": 3.4,
            "count": 40
           },
           {
            "bin_start": 3.4,
            "bin_end": 4,
            "count": 0
           },
           {
            "bin_start": 4,
            "bin_end": 4.6,
            "count": 40
           },
           {
            "bin_start": 4.6,
            "bin_end": 5.2,
            "count": 40
           },
           {
            "bin_start": 5.2,
            "bin_end": 5.8,
            "count": 0
           },
           {
            "bin_start": 5.8,
            "bin_end": 6.3999999999999995,
            "count": 40
           },
           {
            "bin_start": 6.3999999999999995,
            "bin_end": 7,
            "count": 4
           }
          ]
         }
        },
        {
         "name": "playoff",
         "dtype": "object",
         "stats": {
          "unique_count": 5,
          "nan_count": 396,
          "categories": [
           {
            "name": "LostWC",
            "count": 84
           },
           {
            "name": "4 others",
            "count": 160
           },
           {
            "name": "Missing",
            "count": 396
           }
          ]
         }
        },
        {
         "name": "_deepnote_index_column",
         "dtype": "int64"
        }
       ],
       "rows": [
        {
         "season": 2007,
         "team": "BUF",
         "wins": 7,
         "losses": 9,
         "ties": 0,
         "pct": 0.4375,
         "scored": 252,
         "allowed": 354,
         "net": -102,
         "seed": "nan",
         "playoff": "nan",
         "_deepnote_index_column": 160
        },
        {
         "season": 2007,
         "team": "MIA",
         "wins": 1,
         "losses": 15,
         "ties": 0,
         "pct": 0.0625,
         "scored": 267,
         "allowed": 437,
         "net": -170,
         "seed": "nan",
         "playoff": "nan",
         "_deepnote_index_column": 161
        },
        {
         "season": 2007,
         "team": "NE",
         "wins": 16,
         "losses": 0,
         "ties": 0,
         "pct": 1,
         "scored": 589,
         "allowed": 274,
         "net": 315,
         "seed": 1,
         "playoff": "LostSB",
         "_deepnote_index_column": 162
        },
        {
         "season": 2007,
         "team": "NYJ",
         "wins": 4,
         "losses": 12,
         "ties": 0,
         "pct": 0.25,
         "scored": 268,
         "allowed": 355,
         "net": -87,
         "seed": "nan",
         "playoff": "nan",
         "_deepnote_index_column": 163
        },
        {
         "season": 2007,
         "team": "BAL",
         "wins": 5,
         "losses": 11,
         "ties": 0,
         "pct": 0.3125,
         "scored": 275,
         "allowed": 384,
         "net": -109,
         "seed": "nan",
         "playoff": "nan",
         "_deepnote_index_column": 164
        },
        {
         "season": 2007,
         "team": "CIN",
         "wins": 7,
         "losses": 9,
         "ties": 0,
         "pct": 0.4375,
         "scored": 380,
         "allowed": 385,
         "net": -5,
         "seed": "nan",
         "playoff": "nan",
         "_deepnote_index_column": 165
        },
        {
         "season": 2007,
         "team": "CLE",
         "wins": 10,
         "losses": 6,
         "ties": 0,
         "pct": 0.625,
         "scored": 402,
         "allowed": 382,
         "net": 20,
         "seed": "nan",
         "playoff": "nan",
         "_deepnote_index_column": 166
        },
        {
         "season": 2007,
         "team": "PIT",
         "wins": 10,
         "losses": 6,
         "ties": 0,
         "pct": 0.625,
         "scored": 393,
         "allowed": 269,
         "net": 124,
         "seed": 4,
         "playoff": "LostWC",
         "_deepnote_index_column": 167
        },
        {
         "season": 2007,
         "team": "HOU",
         "wins": 8,
         "losses": 8,
         "ties": 0,
         "pct": 0.5,
         "scored": 379,
         "allowed": 384,
         "net": -5,
         "seed": "nan",
         "playoff": "nan",
         "_deepnote_index_column": 168
        },
        {
         "season": 2007,
         "team": "IND",
         "wins": 13,
         "losses": 3,
         "ties": 0,
         "pct": 0.8125,
         "scored": 450,
         "allowed": 262,
         "net": 188,
         "seed": 2,
         "playoff": "LostDV",
         "_deepnote_index_column": 169
        }
       ]
      },
      "text/plain": "     season team  wins  losses  ties       pct  scored  allowed  net  seed  \\\n0      2002  BUF     8       8     0  0.500000     379      397  -18   NaN   \n1      2002  MIA     9       7     0  0.562500     378      301   77   NaN   \n2      2002   NE     9       7     0  0.562500     381      346   35   NaN   \n3      2002  NYJ     9       7     0  0.562500     359      336   23   4.0   \n4      2002  BAL     7       9     0  0.437500     316      354  -38   NaN   \n..      ...  ...   ...     ...   ...       ...     ...      ...  ...   ...   \n635    2021   TB    13       4     0  0.764706     511      353  158   2.0   \n636    2021  ARI    11       6     0  0.647059     449      366   83   5.0   \n637    2021   LA    12       5     0  0.705882     460      372   88   4.0   \n638    2021  SEA     7      10     0  0.411765     395      366   29   NaN   \n639    2021   SF    10       7     0  0.588235     427      365   62   6.0   \n\n    playoff  \n0       NaN  \n1       NaN  \n2       NaN  \n3    LostDV  \n4       NaN  \n..      ...  \n635  LostDV  \n636  LostWC  \n637   WonSB  \n638     NaN  \n639  LostCC  \n\n[640 rows x 11 columns]",
      "text/html": "<div>\n<style scoped>\n    .dataframe tbody tr th:only-of-type {\n        vertical-align: middle;\n    }\n\n    .dataframe tbody tr th {\n        vertical-align: top;\n    }\n\n    .dataframe thead th {\n        text-align: right;\n    }\n</style>\n<table border=\"1\" class=\"dataframe\">\n  <thead>\n    <tr style=\"text-align: right;\">\n      <th></th>\n      <th>season</th>\n      <th>team</th>\n      <th>wins</th>\n      <th>losses</th>\n      <th>ties</th>\n      <th>pct</th>\n      <th>scored</th>\n      <th>allowed</th>\n      <th>net</th>\n      <th>seed</th>\n      <th>playoff</th>\n    </tr>\n  </thead>\n  <tbody>\n    <tr>\n      <th>0</th>\n      <td>2002</td>\n      <td>BUF</td>\n      <td>8</td>\n      <td>8</td>\n      <td>0</td>\n      <td>0.500000</td>\n      <td>379</td>\n      <td>397</td>\n      <td>-18</td>\n      <td>NaN</td>\n      <td>NaN</td>\n    </tr>\n    <tr>\n      <th>1</th>\n      <td>2002</td>\n      <td>MIA</td>\n      <td>9</td>\n      <td>7</td>\n      <td>0</td>\n      <td>0.562500</td>\n      <td>378</td>\n      <td>301</td>\n      <td>77</td>\n      <td>NaN</td>\n      <td>NaN</td>\n    </tr>\n    <tr>\n      <th>2</th>\n      <td>2002</td>\n      <td>NE</td>\n      <td>9</td>\n      <td>7</td>\n      <td>0</td>\n      <td>0.562500</td>\n      <td>381</td>\n      <td>346</td>\n      <td>35</td>\n      <td>NaN</td>\n      <td>NaN</td>\n    </tr>\n    <tr>\n      <th>3</th>\n      <td>2002</td>\n      <td>NYJ</td>\n      <td>9</td>\n      <td>7</td>\n      <td>0</td>\n      <td>0.562500</td>\n      <td>359</td>\n      <td>336</td>\n      <td>23</td>\n      <td>4.0</td>\n      <td>LostDV</td>\n    </tr>\n    <tr>\n      <th>4</th>\n      <td>2002</td>\n      <td>BAL</td>\n      <td>7</td>\n      <td>9</td>\n      <td>0</td>\n      <td>0.437500</td>\n      <td>316</td>\n      <td>354</td>\n      <td>-38</td>\n      <td>NaN</td>\n      <td>NaN</td>\n    </tr>\n    <tr>\n      <th>...</th>\n      <td>...</td>\n      <td>...</td>\n      <td>...</td>\n      <td>...</td>\n      <td>...</td>\n      <td>...</td>\n      <td>...</td>\n      <td>...</td>\n      <td>...</td>\n      <td>...</td>\n      <td>...</td>\n    </tr>\n    <tr>\n      <th>635</th>\n      <td>2021</td>\n      <td>TB</td>\n      <td>13</td>\n      <td>4</td>\n      <td>0</td>\n      <td>0.764706</td>\n      <td>511</td>\n      <td>353</td>\n      <td>158</td>\n      <td>2.0</td>\n      <td>LostDV</td>\n    </tr>\n    <tr>\n      <th>636</th>\n      <td>2021</td>\n      <td>ARI</td>\n      <td>11</td>\n      <td>6</td>\n      <td>0</td>\n      <td>0.647059</td>\n      <td>449</td>\n      <td>366</td>\n      <td>83</td>\n      <td>5.0</td>\n      <td>LostWC</td>\n    </tr>\n    <tr>\n      <th>637</th>\n      <td>2021</td>\n      <td>LA</td>\n      <td>12</td>\n      <td>5</td>\n      <td>0</td>\n      <td>0.705882</td>\n      <td>460</td>\n      <td>372</td>\n      <td>88</td>\n      <td>4.0</td>\n      <td>WonSB</td>\n    </tr>\n    <tr>\n      <th>638</th>\n      <td>2021</td>\n      <td>SEA</td>\n      <td>7</td>\n      <td>10</td>\n      <td>0</td>\n      <td>0.411765</td>\n      <td>395</td>\n      <td>366</td>\n      <td>29</td>\n      <td>NaN</td>\n      <td>NaN</td>\n    </tr>\n    <tr>\n      <th>639</th>\n      <td>2021</td>\n      <td>SF</td>\n      <td>10</td>\n      <td>7</td>\n      <td>0</td>\n      <td>0.588235</td>\n      <td>427</td>\n      <td>365</td>\n      <td>62</td>\n      <td>6.0</td>\n      <td>LostCC</td>\n    </tr>\n  </tbody>\n</table>\n<p>640 rows × 11 columns</p>\n</div>"
     },
     "metadata": {}
    }
   ],
   "execution_count": null
  },
  {
   "cell_type": "markdown",
   "source": "### Step 2: Clean Data \nThe next step is to clean the data to use the data in later steps easily. First, The `teamwins` dataframe needs to have the teams' full name displayed instead of the teams' abbreviation. Therefore, the abbreviations from `teamwins` dataframe are created into a list without duplicates in alphabetical, and the full name from `defense` dataframe is also created without duplicates in alphabetical. Then these two lists are combined into one dictionary. Lastly, the dictionary replaces the abbreviation with the whole team name.  ",
   "metadata": {
    "cell_id": "318de66ed42b43c588f4d0e6e477d20b",
    "tags": [],
    "deepnote_cell_type": "markdown",
    "deepnote_cell_height": 190
   }
  },
  {
   "cell_type": "code",
   "metadata": {
    "cell_id": "255f59e0333b46a5b23a70142778ed9f",
    "tags": [],
    "deepnote_to_be_reexecuted": true,
    "source_hash": "7673bd0f",
    "execution_start": 1651098310770,
    "execution_millis": 44,
    "deepnote_table_state": {
     "pageSize": 10,
     "pageIndex": 0,
     "filters": [],
     "sortBy": []
    },
    "deepnote_table_loading": false,
    "deepnote_table_invalid": false,
    "deepnote_cell_type": "code",
    "deepnote_cell_height": 796.78125
   },
   "source": "df1 = teamwins['team']\ndf1 = df1.sort_values(ascending=True)\ndf1 = df1.drop_duplicates()\ndf2 = defense ['Team']\ndf2 = df2.sort_values(ascending=True)\ndf2 = df2.sort_values(ascending=True)\ndf2 = df2.drop_duplicates()\nconvert_abbreviation_to_name = dict( zip( df1, df2) )\nteamwins.replace( convert_abbreviation_to_name, inplace=True )\nconvert_abbreviation_to_name\nteamwins",
   "outputs": [
    {
     "output_type": "execute_result",
     "execution_count": 4,
     "data": {
      "application/vnd.deepnote.dataframe.v3+json": {
       "column_count": 11,
       "row_count": 640,
       "columns": [
        {
         "name": "season",
         "dtype": "int64",
         "stats": {
          "unique_count": 20,
          "nan_count": 0,
          "min": "2002",
          "max": "2021",
          "histogram": [
           {
            "bin_start": 2002,
            "bin_end": 2003.9,
            "count": 64
           },
           {
            "bin_start": 2003.9,
            "bin_end": 2005.8,
            "count": 64
           },
           {
            "bin_start": 2005.8,
            "bin_end": 2007.7,
            "count": 64
           },
           {
            "bin_start": 2007.7,
            "bin_end": 2009.6,
            "count": 64
           },
           {
            "bin_start": 2009.6,
            "bin_end": 2011.5,
            "count": 64
           },
           {
            "bin_start": 2011.5,
            "bin_end": 2013.4,
            "count": 64
           },
           {
            "bin_start": 2013.4,
            "bin_end": 2015.3,
            "count": 64
           },
           {
            "bin_start": 2015.3,
            "bin_end": 2017.2,
            "count": 64
           },
           {
            "bin_start": 2017.2,
            "bin_end": 2019.1,
            "count": 64
           },
           {
            "bin_start": 2019.1,
            "bin_end": 2021,
            "count": 64
           }
          ]
         }
        },
        {
         "name": "team",
         "dtype": "object",
         "stats": {
          "unique_count": 35,
          "nan_count": 0,
          "categories": [
           {
            "name": "Buffalo Bills",
            "count": 20
           },
           {
            "name": "Miami Dolphins",
            "count": 20
           },
           {
            "name": "33 others",
            "count": 600
           }
          ]
         }
        },
        {
         "name": "wins",
         "dtype": "int64",
         "stats": {
          "unique_count": 17,
          "nan_count": 0,
          "min": "0",
          "max": "16",
          "histogram": [
           {
            "bin_start": 0,
            "bin_end": 1.6,
            "count": 6
           },
           {
            "bin_start": 1.6,
            "bin_end": 3.2,
            "count": 37
           },
           {
            "bin_start": 3.2,
            "bin_end": 4.800000000000001,
            "count": 55
           },
           {
            "bin_start": 4.800000000000001,
            "bin_end": 6.4,
            "count": 108
           },
           {
            "bin_start": 6.4,
            "bin_end": 8,
            "count": 76
           },
           {
            "bin_start": 8,
            "bin_end": 9.600000000000001,
            "count": 140
           },
           {
            "bin_start": 9.600000000000001,
            "bin_end": 11.200000000000001,
            "count": 122
           },
           {
            "bin_start": 11.200000000000001,
            "bin_end": 12.8,
            "count": 48
           },
           {
            "bin_start": 12.8,
            "bin_end": 14.4,
            "count": 44
           },
           {
            "bin_start": 14.4,
            "bin_end": 16,
            "count": 4
           }
          ]
         }
        },
        {
         "name": "losses",
         "dtype": "int64",
         "stats": {
          "unique_count": 17,
          "nan_count": 0,
          "min": "0",
          "max": "16",
          "histogram": [
           {
            "bin_start": 0,
            "bin_end": 1.6,
            "count": 4
           },
           {
            "bin_start": 1.6,
            "bin_end": 3.2,
            "count": 42
           },
           {
            "bin_start": 3.2,
            "bin_end": 4.800000000000001,
            "count": 47
           },
           {
            "bin_start": 4.800000000000001,
            "bin_end": 6.4,
            "count": 124
           },
           {
            "bin_start": 6.4,
            "bin_end": 8,
            "count": 68
           },
           {
            "bin_start": 8,
            "bin_end": 9.600000000000001,
            "count": 147
           },
           {
            "bin_start": 9.600000000000001,
            "bin_end": 11.200000000000001,
            "count": 112
           },
           {
            "bin_start": 11.200000000000001,
            "bin_end": 12.8,
            "count": 51
           },
           {
            "bin_start": 12.8,
            "bin_end": 14.4,
            "count": 39
           },
           {
            "bin_start": 14.4,
            "bin_end": 16,
            "count": 6
           }
          ]
         }
        },
        {
         "name": "ties",
         "dtype": "int64",
         "stats": {
          "unique_count": 2,
          "nan_count": 0,
          "min": "0",
          "max": "1",
          "histogram": [
           {
            "bin_start": 0,
            "bin_end": 0.1,
            "count": 616
           },
           {
            "bin_start": 0.1,
            "bin_end": 0.2,
            "count": 0
           },
           {
            "bin_start": 0.2,
            "bin_end": 0.30000000000000004,
            "count": 0
           },
           {
            "bin_start": 0.30000000000000004,
            "bin_end": 0.4,
            "count": 0
           },
           {
            "bin_start": 0.4,
            "bin_end": 0.5,
            "count": 0
           },
           {
            "bin_start": 0.5,
            "bin_end": 0.6000000000000001,
            "count": 0
           },
           {
            "bin_start": 0.6000000000000001,
            "bin_end": 0.7000000000000001,
            "count": 0
           },
           {
            "bin_start": 0.7000000000000001,
            "bin_end": 0.8,
            "count": 0
           },
           {
            "bin_start": 0.8,
            "bin_end": 0.9,
            "count": 0
           },
           {
            "bin_start": 0.9,
            "bin_end": 1,
            "count": 24
           }
          ]
         }
        },
        {
         "name": "pct",
         "dtype": "float64",
         "stats": {
          "unique_count": 39,
          "nan_count": 0,
          "min": "0.0",
          "max": "1.0",
          "histogram": [
           {
            "bin_start": 0,
            "bin_end": 0.1,
            "count": 6
           },
           {
            "bin_start": 0.1,
            "bin_end": 0.2,
            "count": 35
           },
           {
            "bin_start": 0.2,
            "bin_end": 0.30000000000000004,
            "count": 58
           },
           {
            "bin_start": 0.30000000000000004,
            "bin_end": 0.4,
            "count": 105
           },
           {
            "bin_start": 0.4,
            "bin_end": 0.5,
            "count": 81
           },
           {
            "bin_start": 0.5,
            "bin_end": 0.6000000000000001,
            "count": 141
           },
           {
            "bin_start": 0.6000000000000001,
            "bin_end": 0.7000000000000001,
            "count": 117
           },
           {
            "bin_start": 0.7000000000000001,
            "bin_end": 0.8,
            "count": 51
           },
           {
            "bin_start": 0.8,
            "bin_end": 0.9,
            "count": 42
           },
           {
            "bin_start": 0.9,
            "bin_end": 1,
            "count": 4
           }
          ]
         }
        },
        {
         "name": "scored",
         "dtype": "int64",
         "stats": {
          "unique_count": 260,
          "nan_count": 0,
          "min": "168",
          "max": "606",
          "histogram": [
           {
            "bin_start": 168,
            "bin_end": 211.8,
            "count": 8
           },
           {
            "bin_start": 211.8,
            "bin_end": 255.6,
            "count": 40
           },
           {
            "bin_start": 255.6,
            "bin_end": 299.4,
            "count": 97
           },
           {
            "bin_start": 299.4,
            "bin_end": 343.2,
            "count": 136
           },
           {
            "bin_start": 343.2,
            "bin_end": 387,
            "count": 141
           },
           {
            "bin_start": 387,
            "bin_end": 430.79999999999995,
            "count": 124
           },
           {
            "bin_start": 430.79999999999995,
            "bin_end": 474.59999999999997,
            "count": 61
           },
           {
            "bin_start": 474.59999999999997,
            "bin_end": 518.4,
            "count": 22
           },
           {
            "bin_start": 518.4,
            "bin_end": 562.2,
            "count": 8
           },
           {
            "bin_start": 562.2,
            "bin_end": 606,
            "count": 3
           }
          ]
         }
        },
        {
         "name": "allowed",
         "dtype": "int64",
         "stats": {
          "unique_count": 223,
          "nan_count": 0,
          "min": "196",
          "max": "519",
          "histogram": [
           {
            "bin_start": 196,
            "bin_end": 228.3,
            "count": 6
           },
           {
            "bin_start": 228.3,
            "bin_end": 260.6,
            "count": 26
           },
           {
            "bin_start": 260.6,
            "bin_end": 292.9,
            "count": 51
           },
           {
            "bin_start": 292.9,
            "bin_end": 325.2,
            "count": 117
           },
           {
            "bin_start": 325.2,
            "bin_end": 357.5,
            "count": 134
           },
           {
            "bin_start": 357.5,
            "bin_end": 389.79999999999995,
            "count": 124
           },
           {
            "bin_start": 389.79999999999995,
            "bin_end": 422.09999999999997,
            "count": 79
           },
           {
            "bin_start": 422.09999999999997,
            "bin_end": 454.4,
            "count": 74
           },
           {
            "bin_start": 454.4,
            "bin_end": 486.7,
            "count": 22
           },
           {
            "bin_start": 486.7,
            "bin_end": 519,
            "count": 7
           }
          ]
         }
        },
        {
         "name": "net",
         "dtype": "int64",
         "stats": {
          "unique_count": 320,
          "nan_count": 0,
          "min": "-261",
          "max": "315",
          "histogram": [
           {
            "bin_start": -261,
            "bin_end": -203.4,
            "count": 11
           },
           {
            "bin_start": -203.4,
            "bin_end": -145.8,
            "count": 38
           },
           {
            "bin_start": -145.8,
            "bin_end": -88.19999999999999,
            "count": 87
           },
           {
            "bin_start": -88.19999999999999,
            "bin_end": -30.599999999999994,
            "count": 116
           },
           {
            "bin_start": -30.599999999999994,
            "bin_end": 27,
            "count": 132
           },
           {
            "bin_start": 27,
            "bin_end": 84.60000000000002,
            "count": 110
           },
           {
            "bin_start": 84.60000000000002,
            "bin_end": 142.2,
            "count": 93
           },
           {
            "bin_start": 142.2,
            "bin_end": 199.8,
            "count": 46
           },
           {
            "bin_start": 199.8,
            "bin_end": 257.4,
            "count": 6
           },
           {
            "bin_start": 257.4,
            "bin_end": 315,
            "count": 1
           }
          ]
         }
        },
        {
         "name": "seed",
         "dtype": "float64",
         "stats": {
          "unique_count": 7,
          "nan_count": 396,
          "min": "1.0",
          "max": "7.0",
          "histogram": [
           {
            "bin_start": 1,
            "bin_end": 1.6,
            "count": 40
           },
           {
            "bin_start": 1.6,
            "bin_end": 2.2,
            "count": 40
           },
           {
            "bin_start": 2.2,
            "bin_end": 2.8,
            "count": 0
           },
           {
            "bin_start": 2.8,
            "bin_end": 3.4,
            "count": 40
           },
           {
            "bin_start": 3.4,
            "bin_end": 4,
            "count": 0
           },
           {
            "bin_start": 4,
            "bin_end": 4.6,
            "count": 40
           },
           {
            "bin_start": 4.6,
            "bin_end": 5.2,
            "count": 40
           },
           {
            "bin_start": 5.2,
            "bin_end": 5.8,
            "count": 0
           },
           {
            "bin_start": 5.8,
            "bin_end": 6.3999999999999995,
            "count": 40
           },
           {
            "bin_start": 6.3999999999999995,
            "bin_end": 7,
            "count": 4
           }
          ]
         }
        },
        {
         "name": "playoff",
         "dtype": "object",
         "stats": {
          "unique_count": 5,
          "nan_count": 396,
          "categories": [
           {
            "name": "LostWC",
            "count": 84
           },
           {
            "name": "4 others",
            "count": 160
           },
           {
            "name": "Missing",
            "count": 396
           }
          ]
         }
        },
        {
         "name": "_deepnote_index_column",
         "dtype": "int64"
        }
       ],
       "rows": [
        {
         "season": 2002,
         "team": "Buffalo Bills",
         "wins": 8,
         "losses": 8,
         "ties": 0,
         "pct": 0.5,
         "scored": 379,
         "allowed": 397,
         "net": -18,
         "seed": "nan",
         "playoff": "nan",
         "_deepnote_index_column": 0
        },
        {
         "season": 2002,
         "team": "Miami Dolphins",
         "wins": 9,
         "losses": 7,
         "ties": 0,
         "pct": 0.5625,
         "scored": 378,
         "allowed": 301,
         "net": 77,
         "seed": "nan",
         "playoff": "nan",
         "_deepnote_index_column": 1
        },
        {
         "season": 2002,
         "team": "New England Patriots",
         "wins": 9,
         "losses": 7,
         "ties": 0,
         "pct": 0.5625,
         "scored": 381,
         "allowed": 346,
         "net": 35,
         "seed": "nan",
         "playoff": "nan",
         "_deepnote_index_column": 2
        },
        {
         "season": 2002,
         "team": "New York Jets",
         "wins": 9,
         "losses": 7,
         "ties": 0,
         "pct": 0.5625,
         "scored": 359,
         "allowed": 336,
         "net": 23,
         "seed": 4,
         "playoff": "LostDV",
         "_deepnote_index_column": 3
        },
        {
         "season": 2002,
         "team": "Baltimore Ravens",
         "wins": 7,
         "losses": 9,
         "ties": 0,
         "pct": 0.4375,
         "scored": 316,
         "allowed": 354,
         "net": -38,
         "seed": "nan",
         "playoff": "nan",
         "_deepnote_index_column": 4
        },
        {
         "season": 2002,
         "team": "Cincinnati Bengals",
         "wins": 2,
         "losses": 14,
         "ties": 0,
         "pct": 0.125,
         "scored": 279,
         "allowed": 456,
         "net": -177,
         "seed": "nan",
         "playoff": "nan",
         "_deepnote_index_column": 5
        },
        {
         "season": 2002,
         "team": "Cleveland Browns",
         "wins": 9,
         "losses": 7,
         "ties": 0,
         "pct": 0.5625,
         "scored": 344,
         "allowed": 320,
         "net": 24,
         "seed": 6,
         "playoff": "LostWC",
         "_deepnote_index_column": 6
        },
        {
         "season": 2002,
         "team": "Pittsburgh Steelers",
         "wins": 10,
         "losses": 5,
         "ties": 1,
         "pct": 0.65625,
         "scored": 390,
         "allowed": 345,
         "net": 45,
         "seed": 3,
         "playoff": "LostDV",
         "_deepnote_index_column": 7
        },
        {
         "season": 2002,
         "team": "Houston Texans",
         "wins": 4,
         "losses": 12,
         "ties": 0,
         "pct": 0.25,
         "scored": 213,
         "allowed": 356,
         "net": -143,
         "seed": "nan",
         "playoff": "nan",
         "_deepnote_index_column": 8
        },
        {
         "season": 2002,
         "team": "Indianapolis Colts",
         "wins": 10,
         "losses": 6,
         "ties": 0,
         "pct": 0.625,
         "scored": 349,
         "allowed": 313,
         "net": 36,
         "seed": 5,
         "playoff": "LostWC",
         "_deepnote_index_column": 9
        }
       ]
      },
      "text/plain": "     season                  team  wins  losses  ties       pct  scored  \\\n0      2002         Buffalo Bills     8       8     0  0.500000     379   \n1      2002        Miami Dolphins     9       7     0  0.562500     378   \n2      2002  New England Patriots     9       7     0  0.562500     381   \n3      2002         New York Jets     9       7     0  0.562500     359   \n4      2002      Baltimore Ravens     7       9     0  0.437500     316   \n..      ...                   ...   ...     ...   ...       ...     ...   \n635    2021  Tampa Bay Buccaneers    13       4     0  0.764706     511   \n636    2021     Arizona Cardinals    11       6     0  0.647059     449   \n637    2021     Las Vegas Raiders    12       5     0  0.705882     460   \n638    2021   San Francisco 49ers     7      10     0  0.411765     395   \n639    2021      Seattle Seahawks    10       7     0  0.588235     427   \n\n     allowed  net  seed playoff  \n0        397  -18   NaN     NaN  \n1        301   77   NaN     NaN  \n2        346   35   NaN     NaN  \n3        336   23   4.0  LostDV  \n4        354  -38   NaN     NaN  \n..       ...  ...   ...     ...  \n635      353  158   2.0  LostDV  \n636      366   83   5.0  LostWC  \n637      372   88   4.0   WonSB  \n638      366   29   NaN     NaN  \n639      365   62   6.0  LostCC  \n\n[640 rows x 11 columns]",
      "text/html": "<div>\n<style scoped>\n    .dataframe tbody tr th:only-of-type {\n        vertical-align: middle;\n    }\n\n    .dataframe tbody tr th {\n        vertical-align: top;\n    }\n\n    .dataframe thead th {\n        text-align: right;\n    }\n</style>\n<table border=\"1\" class=\"dataframe\">\n  <thead>\n    <tr style=\"text-align: right;\">\n      <th></th>\n      <th>season</th>\n      <th>team</th>\n      <th>wins</th>\n      <th>losses</th>\n      <th>ties</th>\n      <th>pct</th>\n      <th>scored</th>\n      <th>allowed</th>\n      <th>net</th>\n      <th>seed</th>\n      <th>playoff</th>\n    </tr>\n  </thead>\n  <tbody>\n    <tr>\n      <th>0</th>\n      <td>2002</td>\n      <td>Buffalo Bills</td>\n      <td>8</td>\n      <td>8</td>\n      <td>0</td>\n      <td>0.500000</td>\n      <td>379</td>\n      <td>397</td>\n      <td>-18</td>\n      <td>NaN</td>\n      <td>NaN</td>\n    </tr>\n    <tr>\n      <th>1</th>\n      <td>2002</td>\n      <td>Miami Dolphins</td>\n      <td>9</td>\n      <td>7</td>\n      <td>0</td>\n      <td>0.562500</td>\n      <td>378</td>\n      <td>301</td>\n      <td>77</td>\n      <td>NaN</td>\n      <td>NaN</td>\n    </tr>\n    <tr>\n      <th>2</th>\n      <td>2002</td>\n      <td>New England Patriots</td>\n      <td>9</td>\n      <td>7</td>\n      <td>0</td>\n      <td>0.562500</td>\n      <td>381</td>\n      <td>346</td>\n      <td>35</td>\n      <td>NaN</td>\n      <td>NaN</td>\n    </tr>\n    <tr>\n      <th>3</th>\n      <td>2002</td>\n      <td>New York Jets</td>\n      <td>9</td>\n      <td>7</td>\n      <td>0</td>\n      <td>0.562500</td>\n      <td>359</td>\n      <td>336</td>\n      <td>23</td>\n      <td>4.0</td>\n      <td>LostDV</td>\n    </tr>\n    <tr>\n      <th>4</th>\n      <td>2002</td>\n      <td>Baltimore Ravens</td>\n      <td>7</td>\n      <td>9</td>\n      <td>0</td>\n      <td>0.437500</td>\n      <td>316</td>\n      <td>354</td>\n      <td>-38</td>\n      <td>NaN</td>\n      <td>NaN</td>\n    </tr>\n    <tr>\n      <th>...</th>\n      <td>...</td>\n      <td>...</td>\n      <td>...</td>\n      <td>...</td>\n      <td>...</td>\n      <td>...</td>\n      <td>...</td>\n      <td>...</td>\n      <td>...</td>\n      <td>...</td>\n      <td>...</td>\n    </tr>\n    <tr>\n      <th>635</th>\n      <td>2021</td>\n      <td>Tampa Bay Buccaneers</td>\n      <td>13</td>\n      <td>4</td>\n      <td>0</td>\n      <td>0.764706</td>\n      <td>511</td>\n      <td>353</td>\n      <td>158</td>\n      <td>2.0</td>\n      <td>LostDV</td>\n    </tr>\n    <tr>\n      <th>636</th>\n      <td>2021</td>\n      <td>Arizona Cardinals</td>\n      <td>11</td>\n      <td>6</td>\n      <td>0</td>\n      <td>0.647059</td>\n      <td>449</td>\n      <td>366</td>\n      <td>83</td>\n      <td>5.0</td>\n      <td>LostWC</td>\n    </tr>\n    <tr>\n      <th>637</th>\n      <td>2021</td>\n      <td>Las Vegas Raiders</td>\n      <td>12</td>\n      <td>5</td>\n      <td>0</td>\n      <td>0.705882</td>\n      <td>460</td>\n      <td>372</td>\n      <td>88</td>\n      <td>4.0</td>\n      <td>WonSB</td>\n    </tr>\n    <tr>\n      <th>638</th>\n      <td>2021</td>\n      <td>San Francisco 49ers</td>\n      <td>7</td>\n      <td>10</td>\n      <td>0</td>\n      <td>0.411765</td>\n      <td>395</td>\n      <td>366</td>\n      <td>29</td>\n      <td>NaN</td>\n      <td>NaN</td>\n    </tr>\n    <tr>\n      <th>639</th>\n      <td>2021</td>\n      <td>Seattle Seahawks</td>\n      <td>10</td>\n      <td>7</td>\n      <td>0</td>\n      <td>0.588235</td>\n      <td>427</td>\n      <td>365</td>\n      <td>62</td>\n      <td>6.0</td>\n      <td>LostCC</td>\n    </tr>\n  </tbody>\n</table>\n<p>640 rows × 11 columns</p>\n</div>"
     },
     "metadata": {}
    }
   ],
   "execution_count": null
  },
  {
   "cell_type": "markdown",
   "source": "The `teamwins` dataframe should now have the full names of teams displayed in the team column.",
   "metadata": {
    "cell_id": "181d2a7fb8014f788e490775a1f3ff6a",
    "tags": [],
    "deepnote_cell_type": "markdown"
   }
  },
  {
   "cell_type": "markdown",
   "source": "The second problem of the data that needs to be fixed is that some of the teams have changed their names over the past 11 seasons. To fix this problem, I replace these name changing teams with their current names in both data frames of offense and defense.",
   "metadata": {
    "cell_id": "2e04e714de144b2cb2b1f2beb8eeeadb",
    "tags": [],
    "deepnote_cell_type": "markdown"
   }
  },
  {
   "cell_type": "code",
   "metadata": {
    "cell_id": "031655e0335641d8b0c86b54880b07d4",
    "tags": [],
    "deepnote_to_be_reexecuted": true,
    "source_hash": "734d60f1",
    "execution_start": 1651098310831,
    "execution_millis": 72,
    "deepnote_table_state": {
     "pageSize": 10,
     "pageIndex": 4,
     "filters": [],
     "sortBy": []
    },
    "deepnote_table_loading": false,
    "deepnote_cell_type": "code"
   },
   "source": "offense['Team'] = offense['Team'].replace(['San Diego Chargers'],'Los Angeles Chargers')\noffense['Team'] = offense['Team'].replace(['Oakland Raiders'],'Las Vegas Raiders')\noffense['Team'] = offense['Team'].replace(['St. Louis Rams'],'Los Angeles Rams')\ndefense['Team'] = defense['Team'].replace(['San Diego Chargers'],'Los Angeles Chargers')\ndefense['Team'] = defense['Team'].replace(['Oakland Raiders'],'Las Vegas Raiders')\ndefense['Team'] = defense['Team'].replace(['St. Louis Rams'],'Los Angeles Rams')\nteamwins['team'] = teamwins['team'].replace(['San Diego Chargers'],'Los Angeles Chargers')\nteamwins['team'] = teamwins['team'].replace(['Oakland Raiders'],'Las Vegas Raiders')\nteamwins['team'] = teamwins['team'].replace(['St. Louis Rams'],'Los Angeles Rams')\nteamwins",
   "outputs": [
    {
     "output_type": "execute_result",
     "execution_count": 5,
     "data": {
      "application/vnd.deepnote.dataframe.v3+json": {
       "column_count": 11,
       "row_count": 640,
       "columns": [
        {
         "name": "season",
         "dtype": "int64",
         "stats": {
          "unique_count": 20,
          "nan_count": 0,
          "min": "2002",
          "max": "2021",
          "histogram": [
           {
            "bin_start": 2002,
            "bin_end": 2003.9,
            "count": 64
           },
           {
            "bin_start": 2003.9,
            "bin_end": 2005.8,
            "count": 64
           },
           {
            "bin_start": 2005.8,
            "bin_end": 2007.7,
            "count": 64
           },
           {
            "bin_start": 2007.7,
            "bin_end": 2009.6,
            "count": 64
           },
           {
            "bin_start": 2009.6,
            "bin_end": 2011.5,
            "count": 64
           },
           {
            "bin_start": 2011.5,
            "bin_end": 2013.4,
            "count": 64
           },
           {
            "bin_start": 2013.4,
            "bin_end": 2015.3,
            "count": 64
           },
           {
            "bin_start": 2015.3,
            "bin_end": 2017.2,
            "count": 64
           },
           {
            "bin_start": 2017.2,
            "bin_end": 2019.1,
            "count": 64
           },
           {
            "bin_start": 2019.1,
            "bin_end": 2021,
            "count": 64
           }
          ]
         }
        },
        {
         "name": "team",
         "dtype": "object",
         "stats": {
          "unique_count": 32,
          "nan_count": 0,
          "categories": [
           {
            "name": "Las Vegas Raiders",
            "count": 24
           },
           {
            "name": "Buffalo Bills",
            "count": 20
           },
           {
            "name": "30 others",
            "count": 596
           }
          ]
         }
        },
        {
         "name": "wins",
         "dtype": "int64",
         "stats": {
          "unique_count": 17,
          "nan_count": 0,
          "min": "0",
          "max": "16",
          "histogram": [
           {
            "bin_start": 0,
            "bin_end": 1.6,
            "count": 6
           },
           {
            "bin_start": 1.6,
            "bin_end": 3.2,
            "count": 37
           },
           {
            "bin_start": 3.2,
            "bin_end": 4.800000000000001,
            "count": 55
           },
           {
            "bin_start": 4.800000000000001,
            "bin_end": 6.4,
            "count": 108
           },
           {
            "bin_start": 6.4,
            "bin_end": 8,
            "count": 76
           },
           {
            "bin_start": 8,
            "bin_end": 9.600000000000001,
            "count": 140
           },
           {
            "bin_start": 9.600000000000001,
            "bin_end": 11.200000000000001,
            "count": 122
           },
           {
            "bin_start": 11.200000000000001,
            "bin_end": 12.8,
            "count": 48
           },
           {
            "bin_start": 12.8,
            "bin_end": 14.4,
            "count": 44
           },
           {
            "bin_start": 14.4,
            "bin_end": 16,
            "count": 4
           }
          ]
         }
        },
        {
         "name": "losses",
         "dtype": "int64",
         "stats": {
          "unique_count": 17,
          "nan_count": 0,
          "min": "0",
          "max": "16",
          "histogram": [
           {
            "bin_start": 0,
            "bin_end": 1.6,
            "count": 4
           },
           {
            "bin_start": 1.6,
            "bin_end": 3.2,
            "count": 42
           },
           {
            "bin_start": 3.2,
            "bin_end": 4.800000000000001,
            "count": 47
           },
           {
            "bin_start": 4.800000000000001,
            "bin_end": 6.4,
            "count": 124
           },
           {
            "bin_start": 6.4,
            "bin_end": 8,
            "count": 68
           },
           {
            "bin_start": 8,
            "bin_end": 9.600000000000001,
            "count": 147
           },
           {
            "bin_start": 9.600000000000001,
            "bin_end": 11.200000000000001,
            "count": 112
           },
           {
            "bin_start": 11.200000000000001,
            "bin_end": 12.8,
            "count": 51
           },
           {
            "bin_start": 12.8,
            "bin_end": 14.4,
            "count": 39
           },
           {
            "bin_start": 14.4,
            "bin_end": 16,
            "count": 6
           }
          ]
         }
        },
        {
         "name": "ties",
         "dtype": "int64",
         "stats": {
          "unique_count": 2,
          "nan_count": 0,
          "min": "0",
          "max": "1",
          "histogram": [
           {
            "bin_start": 0,
            "bin_end": 0.1,
            "count": 616
           },
           {
            "bin_start": 0.1,
            "bin_end": 0.2,
            "count": 0
           },
           {
            "bin_start": 0.2,
            "bin_end": 0.30000000000000004,
            "count": 0
           },
           {
            "bin_start": 0.30000000000000004,
            "bin_end": 0.4,
            "count": 0
           },
           {
            "bin_start": 0.4,
            "bin_end": 0.5,
            "count": 0
           },
           {
            "bin_start": 0.5,
            "bin_end": 0.6000000000000001,
            "count": 0
           },
           {
            "bin_start": 0.6000000000000001,
            "bin_end": 0.7000000000000001,
            "count": 0
           },
           {
            "bin_start": 0.7000000000000001,
            "bin_end": 0.8,
            "count": 0
           },
           {
            "bin_start": 0.8,
            "bin_end": 0.9,
            "count": 0
           },
           {
            "bin_start": 0.9,
            "bin_end": 1,
            "count": 24
           }
          ]
         }
        },
        {
         "name": "pct",
         "dtype": "float64",
         "stats": {
          "unique_count": 39,
          "nan_count": 0,
          "min": "0.0",
          "max": "1.0",
          "histogram": [
           {
            "bin_start": 0,
            "bin_end": 0.1,
            "count": 6
           },
           {
            "bin_start": 0.1,
            "bin_end": 0.2,
            "count": 35
           },
           {
            "bin_start": 0.2,
            "bin_end": 0.30000000000000004,
            "count": 58
           },
           {
            "bin_start": 0.30000000000000004,
            "bin_end": 0.4,
            "count": 105
           },
           {
            "bin_start": 0.4,
            "bin_end": 0.5,
            "count": 81
           },
           {
            "bin_start": 0.5,
            "bin_end": 0.6000000000000001,
            "count": 141
           },
           {
            "bin_start": 0.6000000000000001,
            "bin_end": 0.7000000000000001,
            "count": 117
           },
           {
            "bin_start": 0.7000000000000001,
            "bin_end": 0.8,
            "count": 51
           },
           {
            "bin_start": 0.8,
            "bin_end": 0.9,
            "count": 42
           },
           {
            "bin_start": 0.9,
            "bin_end": 1,
            "count": 4
           }
          ]
         }
        },
        {
         "name": "scored",
         "dtype": "int64",
         "stats": {
          "unique_count": 260,
          "nan_count": 0,
          "min": "168",
          "max": "606",
          "histogram": [
           {
            "bin_start": 168,
            "bin_end": 211.8,
            "count": 8
           },
           {
            "bin_start": 211.8,
            "bin_end": 255.6,
            "count": 40
           },
           {
            "bin_start": 255.6,
            "bin_end": 299.4,
            "count": 97
           },
           {
            "bin_start": 299.4,
            "bin_end": 343.2,
            "count": 136
           },
           {
            "bin_start": 343.2,
            "bin_end": 387,
            "count": 141
           },
           {
            "bin_start": 387,
            "bin_end": 430.79999999999995,
            "count": 124
           },
           {
            "bin_start": 430.79999999999995,
            "bin_end": 474.59999999999997,
            "count": 61
           },
           {
            "bin_start": 474.59999999999997,
            "bin_end": 518.4,
            "count": 22
           },
           {
            "bin_start": 518.4,
            "bin_end": 562.2,
            "count": 8
           },
           {
            "bin_start": 562.2,
            "bin_end": 606,
            "count": 3
           }
          ]
         }
        },
        {
         "name": "allowed",
         "dtype": "int64",
         "stats": {
          "unique_count": 223,
          "nan_count": 0,
          "min": "196",
          "max": "519",
          "histogram": [
           {
            "bin_start": 196,
            "bin_end": 228.3,
            "count": 6
           },
           {
            "bin_start": 228.3,
            "bin_end": 260.6,
            "count": 26
           },
           {
            "bin_start": 260.6,
            "bin_end": 292.9,
            "count": 51
           },
           {
            "bin_start": 292.9,
            "bin_end": 325.2,
            "count": 117
           },
           {
            "bin_start": 325.2,
            "bin_end": 357.5,
            "count": 134
           },
           {
            "bin_start": 357.5,
            "bin_end": 389.79999999999995,
            "count": 124
           },
           {
            "bin_start": 389.79999999999995,
            "bin_end": 422.09999999999997,
            "count": 79
           },
           {
            "bin_start": 422.09999999999997,
            "bin_end": 454.4,
            "count": 74
           },
           {
            "bin_start": 454.4,
            "bin_end": 486.7,
            "count": 22
           },
           {
            "bin_start": 486.7,
            "bin_end": 519,
            "count": 7
           }
          ]
         }
        },
        {
         "name": "net",
         "dtype": "int64",
         "stats": {
          "unique_count": 320,
          "nan_count": 0,
          "min": "-261",
          "max": "315",
          "histogram": [
           {
            "bin_start": -261,
            "bin_end": -203.4,
            "count": 11
           },
           {
            "bin_start": -203.4,
            "bin_end": -145.8,
            "count": 38
           },
           {
            "bin_start": -145.8,
            "bin_end": -88.19999999999999,
            "count": 87
           },
           {
            "bin_start": -88.19999999999999,
            "bin_end": -30.599999999999994,
            "count": 116
           },
           {
            "bin_start": -30.599999999999994,
            "bin_end": 27,
            "count": 132
           },
           {
            "bin_start": 27,
            "bin_end": 84.60000000000002,
            "count": 110
           },
           {
            "bin_start": 84.60000000000002,
            "bin_end": 142.2,
            "count": 93
           },
           {
            "bin_start": 142.2,
            "bin_end": 199.8,
            "count": 46
           },
           {
            "bin_start": 199.8,
            "bin_end": 257.4,
            "count": 6
           },
           {
            "bin_start": 257.4,
            "bin_end": 315,
            "count": 1
           }
          ]
         }
        },
        {
         "name": "seed",
         "dtype": "float64",
         "stats": {
          "unique_count": 7,
          "nan_count": 396,
          "min": "1.0",
          "max": "7.0",
          "histogram": [
           {
            "bin_start": 1,
            "bin_end": 1.6,
            "count": 40
           },
           {
            "bin_start": 1.6,
            "bin_end": 2.2,
            "count": 40
           },
           {
            "bin_start": 2.2,
            "bin_end": 2.8,
            "count": 0
           },
           {
            "bin_start": 2.8,
            "bin_end": 3.4,
            "count": 40
           },
           {
            "bin_start": 3.4,
            "bin_end": 4,
            "count": 0
           },
           {
            "bin_start": 4,
            "bin_end": 4.6,
            "count": 40
           },
           {
            "bin_start": 4.6,
            "bin_end": 5.2,
            "count": 40
           },
           {
            "bin_start": 5.2,
            "bin_end": 5.8,
            "count": 0
           },
           {
            "bin_start": 5.8,
            "bin_end": 6.3999999999999995,
            "count": 40
           },
           {
            "bin_start": 6.3999999999999995,
            "bin_end": 7,
            "count": 4
           }
          ]
         }
        },
        {
         "name": "playoff",
         "dtype": "object",
         "stats": {
          "unique_count": 5,
          "nan_count": 396,
          "categories": [
           {
            "name": "LostWC",
            "count": 84
           },
           {
            "name": "4 others",
            "count": 160
           },
           {
            "name": "Missing",
            "count": 396
           }
          ]
         }
        },
        {
         "name": "_deepnote_index_column",
         "dtype": "int64"
        }
       ],
       "rows": [
        {
         "season": 2003,
         "team": "Houston Texans",
         "wins": 5,
         "losses": 11,
         "ties": 0,
         "pct": 0.3125,
         "scored": 255,
         "allowed": 380,
         "net": -125,
         "seed": "nan",
         "playoff": "nan",
         "_deepnote_index_column": 40
        },
        {
         "season": 2003,
         "team": "Indianapolis Colts",
         "wins": 12,
         "losses": 4,
         "ties": 0,
         "pct": 0.75,
         "scored": 447,
         "allowed": 336,
         "net": 111,
         "seed": 3,
         "playoff": "LostCC",
         "_deepnote_index_column": 41
        },
        {
         "season": 2003,
         "team": "Jacksonville Jaguars",
         "wins": 5,
         "losses": 11,
         "ties": 0,
         "pct": 0.3125,
         "scored": 276,
         "allowed": 331,
         "net": -55,
         "seed": "nan",
         "playoff": "nan",
         "_deepnote_index_column": 42
        },
        {
         "season": 2003,
         "team": "Tennessee Titans",
         "wins": 12,
         "losses": 4,
         "ties": 0,
         "pct": 0.75,
         "scored": 435,
         "allowed": 324,
         "net": 111,
         "seed": 5,
         "playoff": "LostDV",
         "_deepnote_index_column": 43
        },
        {
         "season": 2003,
         "team": "Denver Broncos",
         "wins": 10,
         "losses": 6,
         "ties": 0,
         "pct": 0.625,
         "scored": 381,
         "allowed": 301,
         "net": 80,
         "seed": 6,
         "playoff": "LostWC",
         "_deepnote_index_column": 44
        },
        {
         "season": 2003,
         "team": "Kansas City Chiefs",
         "wins": 13,
         "losses": 3,
         "ties": 0,
         "pct": 0.8125,
         "scored": 484,
         "allowed": 332,
         "net": 152,
         "seed": 2,
         "playoff": "LostDV",
         "_deepnote_index_column": 45
        },
        {
         "season": 2003,
         "team": "Las Vegas Raiders",
         "wins": 4,
         "losses": 12,
         "ties": 0,
         "pct": 0.25,
         "scored": 270,
         "allowed": 379,
         "net": -109,
         "seed": "nan",
         "playoff": "nan",
         "_deepnote_index_column": 46
        },
        {
         "season": 2003,
         "team": "Los Angeles Chargers",
         "wins": 4,
         "losses": 12,
         "ties": 0,
         "pct": 0.25,
         "scored": 313,
         "allowed": 441,
         "net": -128,
         "seed": "nan",
         "playoff": "nan",
         "_deepnote_index_column": 47
        },
        {
         "season": 2003,
         "team": "Dallas Cowboys",
         "wins": 10,
         "losses": 6,
         "ties": 0,
         "pct": 0.625,
         "scored": 289,
         "allowed": 260,
         "net": 29,
         "seed": 6,
         "playoff": "LostWC",
         "_deepnote_index_column": 48
        },
        {
         "season": 2003,
         "team": "New York Giants",
         "wins": 4,
         "losses": 12,
         "ties": 0,
         "pct": 0.25,
         "scored": 243,
         "allowed": 387,
         "net": -144,
         "seed": "nan",
         "playoff": "nan",
         "_deepnote_index_column": 49
        }
       ]
      },
      "text/plain": "     season                  team  wins  losses  ties       pct  scored  \\\n0      2002         Buffalo Bills     8       8     0  0.500000     379   \n1      2002        Miami Dolphins     9       7     0  0.562500     378   \n2      2002  New England Patriots     9       7     0  0.562500     381   \n3      2002         New York Jets     9       7     0  0.562500     359   \n4      2002      Baltimore Ravens     7       9     0  0.437500     316   \n..      ...                   ...   ...     ...   ...       ...     ...   \n635    2021  Tampa Bay Buccaneers    13       4     0  0.764706     511   \n636    2021     Arizona Cardinals    11       6     0  0.647059     449   \n637    2021     Las Vegas Raiders    12       5     0  0.705882     460   \n638    2021   San Francisco 49ers     7      10     0  0.411765     395   \n639    2021      Seattle Seahawks    10       7     0  0.588235     427   \n\n     allowed  net  seed playoff  \n0        397  -18   NaN     NaN  \n1        301   77   NaN     NaN  \n2        346   35   NaN     NaN  \n3        336   23   4.0  LostDV  \n4        354  -38   NaN     NaN  \n..       ...  ...   ...     ...  \n635      353  158   2.0  LostDV  \n636      366   83   5.0  LostWC  \n637      372   88   4.0   WonSB  \n638      366   29   NaN     NaN  \n639      365   62   6.0  LostCC  \n\n[640 rows x 11 columns]",
      "text/html": "<div>\n<style scoped>\n    .dataframe tbody tr th:only-of-type {\n        vertical-align: middle;\n    }\n\n    .dataframe tbody tr th {\n        vertical-align: top;\n    }\n\n    .dataframe thead th {\n        text-align: right;\n    }\n</style>\n<table border=\"1\" class=\"dataframe\">\n  <thead>\n    <tr style=\"text-align: right;\">\n      <th></th>\n      <th>season</th>\n      <th>team</th>\n      <th>wins</th>\n      <th>losses</th>\n      <th>ties</th>\n      <th>pct</th>\n      <th>scored</th>\n      <th>allowed</th>\n      <th>net</th>\n      <th>seed</th>\n      <th>playoff</th>\n    </tr>\n  </thead>\n  <tbody>\n    <tr>\n      <th>0</th>\n      <td>2002</td>\n      <td>Buffalo Bills</td>\n      <td>8</td>\n      <td>8</td>\n      <td>0</td>\n      <td>0.500000</td>\n      <td>379</td>\n      <td>397</td>\n      <td>-18</td>\n      <td>NaN</td>\n      <td>NaN</td>\n    </tr>\n    <tr>\n      <th>1</th>\n      <td>2002</td>\n      <td>Miami Dolphins</td>\n      <td>9</td>\n      <td>7</td>\n      <td>0</td>\n      <td>0.562500</td>\n      <td>378</td>\n      <td>301</td>\n      <td>77</td>\n      <td>NaN</td>\n      <td>NaN</td>\n    </tr>\n    <tr>\n      <th>2</th>\n      <td>2002</td>\n      <td>New England Patriots</td>\n      <td>9</td>\n      <td>7</td>\n      <td>0</td>\n      <td>0.562500</td>\n      <td>381</td>\n      <td>346</td>\n      <td>35</td>\n      <td>NaN</td>\n      <td>NaN</td>\n    </tr>\n    <tr>\n      <th>3</th>\n      <td>2002</td>\n      <td>New York Jets</td>\n      <td>9</td>\n      <td>7</td>\n      <td>0</td>\n      <td>0.562500</td>\n      <td>359</td>\n      <td>336</td>\n      <td>23</td>\n      <td>4.0</td>\n      <td>LostDV</td>\n    </tr>\n    <tr>\n      <th>4</th>\n      <td>2002</td>\n      <td>Baltimore Ravens</td>\n      <td>7</td>\n      <td>9</td>\n      <td>0</td>\n      <td>0.437500</td>\n      <td>316</td>\n      <td>354</td>\n      <td>-38</td>\n      <td>NaN</td>\n      <td>NaN</td>\n    </tr>\n    <tr>\n      <th>...</th>\n      <td>...</td>\n      <td>...</td>\n      <td>...</td>\n      <td>...</td>\n      <td>...</td>\n      <td>...</td>\n      <td>...</td>\n      <td>...</td>\n      <td>...</td>\n      <td>...</td>\n      <td>...</td>\n    </tr>\n    <tr>\n      <th>635</th>\n      <td>2021</td>\n      <td>Tampa Bay Buccaneers</td>\n      <td>13</td>\n      <td>4</td>\n      <td>0</td>\n      <td>0.764706</td>\n      <td>511</td>\n      <td>353</td>\n      <td>158</td>\n      <td>2.0</td>\n      <td>LostDV</td>\n    </tr>\n    <tr>\n      <th>636</th>\n      <td>2021</td>\n      <td>Arizona Cardinals</td>\n      <td>11</td>\n      <td>6</td>\n      <td>0</td>\n      <td>0.647059</td>\n      <td>449</td>\n      <td>366</td>\n      <td>83</td>\n      <td>5.0</td>\n      <td>LostWC</td>\n    </tr>\n    <tr>\n      <th>637</th>\n      <td>2021</td>\n      <td>Las Vegas Raiders</td>\n      <td>12</td>\n      <td>5</td>\n      <td>0</td>\n      <td>0.705882</td>\n      <td>460</td>\n      <td>372</td>\n      <td>88</td>\n      <td>4.0</td>\n      <td>WonSB</td>\n    </tr>\n    <tr>\n      <th>638</th>\n      <td>2021</td>\n      <td>San Francisco 49ers</td>\n      <td>7</td>\n      <td>10</td>\n      <td>0</td>\n      <td>0.411765</td>\n      <td>395</td>\n      <td>366</td>\n      <td>29</td>\n      <td>NaN</td>\n      <td>NaN</td>\n    </tr>\n    <tr>\n      <th>639</th>\n      <td>2021</td>\n      <td>Seattle Seahawks</td>\n      <td>10</td>\n      <td>7</td>\n      <td>0</td>\n      <td>0.588235</td>\n      <td>427</td>\n      <td>365</td>\n      <td>62</td>\n      <td>6.0</td>\n      <td>LostCC</td>\n    </tr>\n  </tbody>\n</table>\n<p>640 rows × 11 columns</p>\n</div>"
     },
     "metadata": {}
    }
   ],
   "execution_count": null
  },
  {
   "cell_type": "markdown",
   "source": "The output should result in St. Louis Rams, Oakland Raiders, and San Diego Chargers not appearing in the data frames now but instead showing the current name of these teams.",
   "metadata": {
    "cell_id": "3ae0833e2d6f4794a5dd09d3931e9ed2",
    "tags": [],
    "deepnote_cell_type": "markdown"
   }
  },
  {
   "cell_type": "markdown",
   "source": "### Step 3: Merge Data  \nThe next step is to merge the dataframes to have two dataframes, one for the offense information plus the winning information and another for the defense information plus the winning information. Finally, the data is merged into the columns of team and season. An inner merge is performed because I only want to examine seasons from 2010 to 2020 and do not want any missing values in the new dataframes.",
   "metadata": {
    "cell_id": "e2321f84b6304eb783aec9e0b378cea0",
    "tags": [],
    "deepnote_cell_type": "markdown"
   }
  },
  {
   "cell_type": "code",
   "metadata": {
    "cell_id": "d91f95aba90a44088c505cc8079bc8fa",
    "tags": [],
    "deepnote_to_be_reexecuted": true,
    "source_hash": "ca4f2055",
    "execution_start": 1651098310909,
    "execution_millis": 63,
    "deepnote_table_state": {
     "pageSize": 10,
     "pageIndex": 0,
     "filters": [],
     "sortBy": []
    },
    "deepnote_table_loading": false,
    "deepnote_cell_type": "code",
    "deepnote_cell_height": 742.78125
   },
   "source": "# Merges offense with teamwin using the columns of team and season that does not included any missing data. \noffenseWins = pd.merge(offense, teamwins,\n    left_on=['Team','season '],\n    right_on=['team','season'], how= \"inner\" )\n\n# Drop repeating columns \noffenseWins.drop([\"season\", \"team\"],  axis=1, inplace=True)\noffenseWins",
   "outputs": [
    {
     "output_type": "execute_result",
     "execution_count": 6,
     "data": {
      "application/vnd.deepnote.dataframe.v3+json": {
       "column_count": 17,
       "row_count": 352,
       "columns": [
        {
         "name": "season ",
         "dtype": "int64",
         "stats": {
          "unique_count": 11,
          "nan_count": 0,
          "min": "2010",
          "max": "2020",
          "histogram": [
           {
            "bin_start": 2010,
            "bin_end": 2011,
            "count": 32
           },
           {
            "bin_start": 2011,
            "bin_end": 2012,
            "count": 32
           },
           {
            "bin_start": 2012,
            "bin_end": 2013,
            "count": 32
           },
           {
            "bin_start": 2013,
            "bin_end": 2014,
            "count": 32
           },
           {
            "bin_start": 2014,
            "bin_end": 2015,
            "count": 32
           },
           {
            "bin_start": 2015,
            "bin_end": 2016,
            "count": 32
           },
           {
            "bin_start": 2016,
            "bin_end": 2017,
            "count": 32
           },
           {
            "bin_start": 2017,
            "bin_end": 2018,
            "count": 32
           },
           {
            "bin_start": 2018,
            "bin_end": 2019,
            "count": 32
           },
           {
            "bin_start": 2019,
            "bin_end": 2020,
            "count": 64
           }
          ]
         }
        },
        {
         "name": "Team",
         "dtype": "object",
         "stats": {
          "unique_count": 32,
          "nan_count": 0,
          "categories": [
           {
            "name": "Las Vegas Raiders",
            "count": 15
           },
           {
            "name": "Los Angeles Chargers",
            "count": 11
           },
           {
            "name": "30 others",
            "count": 326
           }
          ]
         }
        },
        {
         "name": "Gms",
         "dtype": "int64",
         "stats": {
          "unique_count": 1,
          "nan_count": 0,
          "min": "16",
          "max": "16",
          "histogram": [
           {
            "bin_start": 15.5,
            "bin_end": 15.6,
            "count": 0
           },
           {
            "bin_start": 15.6,
            "bin_end": 15.7,
            "count": 0
           },
           {
            "bin_start": 15.7,
            "bin_end": 15.8,
            "count": 0
           },
           {
            "bin_start": 15.8,
            "bin_end": 15.9,
            "count": 0
           },
           {
            "bin_start": 15.9,
            "bin_end": 16,
            "count": 0
           },
           {
            "bin_start": 16,
            "bin_end": 16.1,
            "count": 352
           },
           {
            "bin_start": 16.1,
            "bin_end": 16.2,
            "count": 0
           },
           {
            "bin_start": 16.2,
            "bin_end": 16.3,
            "count": 0
           },
           {
            "bin_start": 16.3,
            "bin_end": 16.4,
            "count": 0
           },
           {
            "bin_start": 16.4,
            "bin_end": 16.5,
            "count": 0
           }
          ]
         }
        },
        {
         "name": "Tot Pts",
         "dtype": "int64",
         "stats": {
          "unique_count": 185,
          "nan_count": 0,
          "min": "193",
          "max": "606",
          "histogram": [
           {
            "bin_start": 193,
            "bin_end": 234.3,
            "count": 7
           },
           {
            "bin_start": 234.3,
            "bin_end": 275.6,
            "count": 21
           },
           {
            "bin_start": 275.6,
            "bin_end": 316.9,
            "count": 61
           },
           {
            "bin_start": 316.9,
            "bin_end": 358.2,
            "count": 77
           },
           {
            "bin_start": 358.2,
            "bin_end": 399.5,
            "count": 83
           },
           {
            "bin_start": 399.5,
            "bin_end": 440.79999999999995,
            "count": 59
           },
           {
            "bin_start": 440.79999999999995,
            "bin_end": 482.09999999999997,
            "count": 27
           },
           {
            "bin_start": 482.09999999999997,
            "bin_end": 523.4,
            "count": 10
           },
           {
            "bin_start": 523.4,
            "bin_end": 564.7,
            "count": 5
           },
           {
            "bin_start": 564.7,
            "bin_end": 606,
            "count": 2
           }
          ]
         }
        },
        {
         "name": "RushYds",
         "dtype": "int64",
         "stats": {
          "unique_count": 300,
          "nan_count": 0,
          "min": "1156",
          "max": "3296",
          "histogram": [
           {
            "bin_start": 1156,
            "bin_end": 1370,
            "count": 21
           },
           {
            "bin_start": 1370,
            "bin_end": 1584,
            "count": 70
           },
           {
            "bin_start": 1584,
            "bin_end": 1798,
            "count": 95
           },
           {
            "bin_start": 1798,
            "bin_end": 2012,
            "count": 81
           },
           {
            "bin_start": 2012,
            "bin_end": 2226,
            "count": 48
           },
           {
            "bin_start": 2226,
            "bin_end": 2440,
            "count": 21
           },
           {
            "bin_start": 2440,
            "bin_end": 2654,
            "count": 11
           },
           {
            "bin_start": 2654,
            "bin_end": 2868,
            "count": 3
           },
           {
            "bin_start": 2868,
            "bin_end": 3082,
            "count": 1
           },
           {
            "bin_start": 3082,
            "bin_end": 3296,
            "count": 1
           }
          ]
         }
        },
        {
         "name": "PassYds",
         "dtype": "int64",
         "stats": {
          "unique_count": 317,
          "nan_count": 0,
          "min": "2179",
          "max": "5444",
          "histogram": [
           {
            "bin_start": 2179,
            "bin_end": 2505.5,
            "count": 3
           },
           {
            "bin_start": 2505.5,
            "bin_end": 2832,
            "count": 11
           },
           {
            "bin_start": 2832,
            "bin_end": 3158.5,
            "count": 48
           },
           {
            "bin_start": 3158.5,
            "bin_end": 3485,
            "count": 57
           },
           {
            "bin_start": 3485,
            "bin_end": 3811.5,
            "count": 79
           },
           {
            "bin_start": 3811.5,
            "bin_end": 4138,
            "count": 76
           },
           {
            "bin_start": 4138,
            "bin_end": 4464.5,
            "count": 37
           },
           {
            "bin_start": 4464.5,
            "bin_end": 4791,
            "count": 24
           },
           {
            "bin_start": 4791,
            "bin_end": 5117.5,
            "count": 14
           },
           {
            "bin_start": 5117.5,
            "bin_end": 5444,
            "count": 3
           }
          ]
         }
        },
        {
         "name": "TotYds",
         "dtype": "int64",
         "stats": {
          "unique_count": 318,
          "nan_count": 0,
          "min": "3865",
          "max": "7474",
          "histogram": [
           {
            "bin_start": 3865,
            "bin_end": 4225.9,
            "count": 4
           },
           {
            "bin_start": 4225.9,
            "bin_end": 4586.8,
            "count": 10
           },
           {
            "bin_start": 4586.8,
            "bin_end": 4947.7,
            "count": 37
           },
           {
            "bin_start": 4947.7,
            "bin_end": 5308.6,
            "count": 67
           },
           {
            "bin_start": 5308.6,
            "bin_end": 5669.5,
            "count": 83
           },
           {
            "bin_start": 5669.5,
            "bin_end": 6030.4,
            "count": 81
           },
           {
            "bin_start": 6030.4,
            "bin_end": 6391.299999999999,
            "count": 46
           },
           {
            "bin_start": 6391.299999999999,
            "bin_end": 6752.2,
            "count": 17
           },
           {
            "bin_start": 6752.2,
            "bin_end": 7113.1,
            "count": 5
           },
           {
            "bin_start": 7113.1,
            "bin_end": 7474,
            "count": 2
           }
          ]
         }
        },
        {
         "name": "Ranking",
         "dtype": "int64",
         "stats": {
          "unique_count": 32,
          "nan_count": 0,
          "min": "1",
          "max": "32",
          "histogram": [
           {
            "bin_start": 1,
            "bin_end": 4.1,
            "count": 43
           },
           {
            "bin_start": 4.1,
            "bin_end": 7.2,
            "count": 33
           },
           {
            "bin_start": 7.2,
            "bin_end": 10.3,
            "count": 32
           },
           {
            "bin_start": 10.3,
            "bin_end": 13.4,
            "count": 34
           },
           {
            "bin_start": 13.4,
            "bin_end": 16.5,
            "count": 33
           },
           {
            "bin_start": 16.5,
            "bin_end": 19.6,
            "count": 34
           },
           {
            "bin_start": 19.6,
            "bin_end": 22.7,
            "count": 33
           },
           {
            "bin_start": 22.7,
            "bin_end": 25.8,
            "count": 34
           },
           {
            "bin_start": 25.8,
            "bin_end": 28.900000000000002,
            "count": 33
           },
           {
            "bin_start": 28.900000000000002,
            "bin_end": 32,
            "count": 43
           }
          ]
         }
        },
        {
         "name": "wins",
         "dtype": "int64",
         "stats": {
          "unique_count": 16,
          "nan_count": 0,
          "min": "0",
          "max": "15",
          "histogram": [
           {
            "bin_start": 0,
            "bin_end": 1.5,
            "count": 3
           },
           {
            "bin_start": 1.5,
            "bin_end": 3,
            "count": 11
           },
           {
            "bin_start": 3,
            "bin_end": 4.5,
            "count": 40
           },
           {
            "bin_start": 4.5,
            "bin_end": 6,
            "count": 27
           },
           {
            "bin_start": 6,
            "bin_end": 7.5,
            "count": 82
           },
           {
            "bin_start": 7.5,
            "bin_end": 9,
            "count": 36
           },
           {
            "bin_start": 9,
            "bin_end": 10.5,
            "count": 68
           },
           {
            "bin_start": 10.5,
            "bin_end": 12,
            "count": 31
           },
           {
            "bin_start": 12,
            "bin_end": 13.5,
            "count": 48
           },
           {
            "bin_start": 13.5,
            "bin_end": 15,
            "count": 6
           }
          ]
         }
        },
        {
         "name": "losses",
         "dtype": "int64",
         "stats": {
          "unique_count": 16,
          "nan_count": 0,
          "min": "1",
          "max": "16",
          "histogram": [
           {
            "bin_start": 1,
            "bin_end": 2.5,
            "count": 6
           },
           {
            "bin_start": 2.5,
            "bin_end": 4,
            "count": 21
           },
           {
            "bin_start": 4,
            "bin_end": 5.5,
            "count": 60
           },
           {
            "bin_start": 5.5,
            "bin_end": 7,
            "count": 37
           },
           {
            "bin_start": 7,
            "bin_end": 8.5,
            "count": 69
           },
           {
            "bin_start": 8.5,
            "bin_end": 10,
            "count": 44
           },
           {
            "bin_start": 10,
            "bin_end": 11.5,
            "count": 63
           },
           {
            "bin_start": 11.5,
            "bin_end": 13,
            "count": 27
           },
           {
            "bin_start": 13,
            "bin_end": 14.5,
            "count": 22
           },
           {
            "bin_start": 14.5,
            "bin_end": 16,
            "count": 3
           }
          ]
         }
        },
        {
         "name": "ties",
         "dtype": "int64",
         "stats": {
          "unique_count": 2,
          "nan_count": 0,
          "min": "0",
          "max": "1",
          "histogram": [
           {
            "bin_start": 0,
            "bin_end": 0.1,
            "count": 334
           },
           {
            "bin_start": 0.1,
            "bin_end": 0.2,
            "count": 0
           },
           {
            "bin_start": 0.2,
            "bin_end": 0.30000000000000004,
            "count": 0
           },
           {
            "bin_start": 0.30000000000000004,
            "bin_end": 0.4,
            "count": 0
           },
           {
            "bin_start": 0.4,
            "bin_end": 0.5,
            "count": 0
           },
           {
            "bin_start": 0.5,
            "bin_end": 0.6000000000000001,
            "count": 0
           },
           {
            "bin_start": 0.6000000000000001,
            "bin_end": 0.7000000000000001,
            "count": 0
           },
           {
            "bin_start": 0.7000000000000001,
            "bin_end": 0.8,
            "count": 0
           },
           {
            "bin_start": 0.8,
            "bin_end": 0.9,
            "count": 0
           },
           {
            "bin_start": 0.9,
            "bin_end": 1,
            "count": 18
           }
          ]
         }
        },
        {
         "name": "pct",
         "dtype": "float64",
         "stats": {
          "unique_count": 25,
          "nan_count": 0,
          "min": "0.0",
          "max": "0.9375",
          "histogram": [
           {
            "bin_start": 0,
            "bin_end": 0.09375,
            "count": 3
           },
           {
            "bin_start": 0.09375,
            "bin_end": 0.1875,
            "count": 11
           },
           {
            "bin_start": 0.1875,
            "bin_end": 0.28125,
            "count": 38
           },
           {
            "bin_start": 0.28125,
            "bin_end": 0.375,
            "count": 29
           },
           {
            "bin_start": 0.375,
            "bin_end": 0.46875,
            "count": 78
           },
           {
            "bin_start": 0.46875,
            "bin_end": 0.5625,
            "count": 40
           },
           {
            "bin_start": 0.5625,
            "bin_end": 0.65625,
            "count": 66
           },
           {
            "bin_start": 0.65625,
            "bin_end": 0.75,
            "count": 33
           },
           {
            "bin_start": 0.75,
            "bin_end": 0.84375,
            "count": 48
           },
           {
            "bin_start": 0.84375,
            "bin_end": 0.9375,
            "count": 6
           }
          ]
         }
        },
        {
         "name": "scored",
         "dtype": "int64",
         "stats": {
          "unique_count": 188,
          "nan_count": 0,
          "min": "193",
          "max": "606",
          "histogram": [
           {
            "bin_start": 193,
            "bin_end": 234.3,
            "count": 8
           },
           {
            "bin_start": 234.3,
            "bin_end": 275.6,
            "count": 21
           },
           {
            "bin_start": 275.6,
            "bin_end": 316.9,
            "count": 58
           },
           {
            "bin_start": 316.9,
            "bin_end": 358.2,
            "count": 77
           },
           {
            "bin_start": 358.2,
            "bin_end": 399.5,
            "count": 84
           },
           {
            "bin_start": 399.5,
            "bin_end": 440.79999999999995,
            "count": 58
           },
           {
            "bin_start": 440.79999999999995,
            "bin_end": 482.09999999999997,
            "count": 28
           },
           {
            "bin_start": 482.09999999999997,
            "bin_end": 523.4,
            "count": 10
           },
           {
            "bin_start": 523.4,
            "bin_end": 564.7,
            "count": 6
           },
           {
            "bin_start": 564.7,
            "bin_end": 606,
            "count": 2
           }
          ]
         }
        },
        {
         "name": "allowed",
         "dtype": "int64",
         "stats": {
          "unique_count": 180,
          "nan_count": 0,
          "min": "225",
          "max": "519",
          "histogram": [
           {
            "bin_start": 225,
            "bin_end": 254.4,
            "count": 11
           },
           {
            "bin_start": 254.4,
            "bin_end": 283.8,
            "count": 15
           },
           {
            "bin_start": 283.8,
            "bin_end": 313.2,
            "count": 44
           },
           {
            "bin_start": 313.2,
            "bin_end": 342.6,
            "count": 59
           },
           {
            "bin_start": 342.6,
            "bin_end": 372,
            "count": 62
           },
           {
            "bin_start": 372,
            "bin_end": 401.4,
            "count": 68
           },
           {
            "bin_start": 401.4,
            "bin_end": 430.79999999999995,
            "count": 39
           },
           {
            "bin_start": 430.79999999999995,
            "bin_end": 460.2,
            "count": 36
           },
           {
            "bin_start": 460.2,
            "bin_end": 489.59999999999997,
            "count": 14
           },
           {
            "bin_start": 489.59999999999997,
            "bin_end": 519,
            "count": 4
           }
          ]
         }
        },
        {
         "name": "net",
         "dtype": "int64",
         "stats": {
          "unique_count": 235,
          "nan_count": 0,
          "min": "-214",
          "max": "249",
          "histogram": [
           {
            "bin_start": -214,
            "bin_end": -167.7,
            "count": 19
           },
           {
            "bin_start": -167.7,
            "bin_end": -121.4,
            "count": 24
           },
           {
            "bin_start": -121.4,
            "bin_end": -75.10000000000002,
            "count": 42
           },
           {
            "bin_start": -75.10000000000002,
            "bin_end": -28.80000000000001,
            "count": 58
           },
           {
            "bin_start": -28.80000000000001,
            "bin_end": 17.5,
            "count": 58
           },
           {
            "bin_start": 17.5,
            "bin_end": 63.799999999999955,
            "count": 53
           },
           {
            "bin_start": 63.799999999999955,
            "bin_end": 110.09999999999997,
            "count": 40
           },
           {
            "bin_start": 110.09999999999997,
            "bin_end": 156.39999999999998,
            "count": 40
           },
           {
            "bin_start": 156.39999999999998,
            "bin_end": 202.7,
            "count": 13
           },
           {
            "bin_start": 202.7,
            "bin_end": 249,
            "count": 5
           }
          ]
         }
        },
        {
         "name": "seed",
         "dtype": "float64",
         "stats": {
          "unique_count": 7,
          "nan_count": 218,
          "min": "1.0",
          "max": "7.0",
          "histogram": [
           {
            "bin_start": 1,
            "bin_end": 1.6,
            "count": 22
           },
           {
            "bin_start": 1.6,
            "bin_end": 2.2,
            "count": 22
           },
           {
            "bin_start": 2.2,
            "bin_end": 2.8,
            "count": 0
           },
           {
            "bin_start": 2.8,
            "bin_end": 3.4,
            "count": 22
           },
           {
            "bin_start": 3.4,
            "bin_end": 4,
            "count": 0
           },
           {
            "bin_start": 4,
            "bin_end": 4.6,
            "count": 22
           },
           {
            "bin_start": 4.6,
            "bin_end": 5.2,
            "count": 22
           },
           {
            "bin_start": 5.2,
            "bin_end": 5.8,
            "count": 0
           },
           {
            "bin_start": 5.8,
            "bin_end": 6.3999999999999995,
            "count": 22
           },
           {
            "bin_start": 6.3999999999999995,
            "bin_end": 7,
            "count": 2
           }
          ]
         }
        },
        {
         "name": "playoff",
         "dtype": "object",
         "stats": {
          "unique_count": 5,
          "nan_count": 218,
          "categories": [
           {
            "name": "LostWC",
            "count": 46
           },
           {
            "name": "4 others",
            "count": 88
           },
           {
            "name": "Missing",
            "count": 218
           }
          ]
         }
        },
        {
         "name": "_deepnote_index_column",
         "dtype": "int64"
        }
       ],
       "rows": [
        {
         "season ": 2010,
         "Team": "Los Angeles Chargers",
         "Gms": 16,
         "Tot Pts": 441,
         "RushYds": 1810,
         "PassYds": 4519,
         "TotYds": 6329,
         "Ranking": 1,
         "wins": 9,
         "losses": 7,
         "ties": 0,
         "pct": 0.5625,
         "scored": 441,
         "allowed": 322,
         "net": 119,
         "seed": "nan",
         "playoff": "nan",
         "_deepnote_index_column": 0
        },
        {
         "season ": 2010,
         "Team": "Philadelphia Eagles",
         "Gms": 16,
         "Tot Pts": 439,
         "RushYds": 2324,
         "PassYds": 3906,
         "TotYds": 6230,
         "Ranking": 2,
         "wins": 10,
         "losses": 6,
         "ties": 0,
         "pct": 0.625,
         "scored": 439,
         "allowed": 377,
         "net": 62,
         "seed": 3,
         "playoff": "LostWC",
         "_deepnote_index_column": 1
        },
        {
         "season ": 2010,
         "Team": "Houston Texans",
         "Gms": 16,
         "Tot Pts": 390,
         "RushYds": 2042,
         "PassYds": 4144,
         "TotYds": 6186,
         "Ranking": 3,
         "wins": 6,
         "losses": 10,
         "ties": 0,
         "pct": 0.375,
         "scored": 390,
         "allowed": 427,
         "net": -37,
         "seed": "nan",
         "playoff": "nan",
         "_deepnote_index_column": 2
        },
        {
         "season ": 2010,
         "Team": "Indianapolis Colts",
         "Gms": 16,
         "Tot Pts": 435,
         "RushYds": 1483,
         "PassYds": 4609,
         "TotYds": 6092,
         "Ranking": 4,
         "wins": 10,
         "losses": 6,
         "ties": 0,
         "pct": 0.625,
         "scored": 435,
         "allowed": 388,
         "net": 47,
         "seed": 3,
         "playoff": "LostWC",
         "_deepnote_index_column": 3
        },
        {
         "season ": 2010,
         "Team": "New York Giants",
         "Gms": 16,
         "Tot Pts": 394,
         "RushYds": 2200,
         "PassYds": 3885,
         "TotYds": 6085,
         "Ranking": 5,
         "wins": 10,
         "losses": 6,
         "ties": 0,
         "pct": 0.625,
         "scored": 394,
         "allowed": 347,
         "net": 47,
         "seed": "nan",
         "playoff": "nan",
         "_deepnote_index_column": 4
        },
        {
         "season ": 2010,
         "Team": "New Orleans Saints",
         "Gms": 16,
         "Tot Pts": 384,
         "RushYds": 1519,
         "PassYds": 4441,
         "TotYds": 5960,
         "Ranking": 6,
         "wins": 11,
         "losses": 5,
         "ties": 0,
         "pct": 0.6875,
         "scored": 384,
         "allowed": 307,
         "net": 77,
         "seed": 5,
         "playoff": "LostWC",
         "_deepnote_index_column": 5
        },
        {
         "season ": 2010,
         "Team": "Dallas Cowboys",
         "Gms": 16,
         "Tot Pts": 394,
         "RushYds": 1786,
         "PassYds": 4042,
         "TotYds": 5828,
         "Ranking": 7,
         "wins": 6,
         "losses": 10,
         "ties": 0,
         "pct": 0.375,
         "scored": 394,
         "allowed": 436,
         "net": -42,
         "seed": "nan",
         "playoff": "nan",
         "_deepnote_index_column": 6
        },
        {
         "season ": 2010,
         "Team": "New England Patriots",
         "Gms": 16,
         "Tot Pts": 518,
         "RushYds": 1973,
         "PassYds": 3847,
         "TotYds": 5820,
         "Ranking": 8,
         "wins": 14,
         "losses": 2,
         "ties": 0,
         "pct": 0.875,
         "scored": 518,
         "allowed": 313,
         "net": 205,
         "seed": 1,
         "playoff": "LostDV",
         "_deepnote_index_column": 7
        },
        {
         "season ": 2010,
         "Team": "Green Bay Packers",
         "Gms": 16,
         "Tot Pts": 388,
         "RushYds": 1606,
         "PassYds": 4124,
         "TotYds": 5730,
         "Ranking": 9,
         "wins": 10,
         "losses": 6,
         "ties": 0,
         "pct": 0.625,
         "scored": 388,
         "allowed": 240,
         "net": 148,
         "seed": 6,
         "playoff": "WonSB",
         "_deepnote_index_column": 8
        },
        {
         "season ": 2010,
         "Team": "Las Vegas Raiders",
         "Gms": 16,
         "Tot Pts": 410,
         "RushYds": 2494,
         "PassYds": 3180,
         "TotYds": 5674,
         "Ranking": 10,
         "wins": 8,
         "losses": 8,
         "ties": 0,
         "pct": 0.5,
         "scored": 410,
         "allowed": 371,
         "net": 39,
         "seed": "nan",
         "playoff": "nan",
         "_deepnote_index_column": 9
        }
       ]
      },
      "text/plain": "     season                       Team  Gms  Tot Pts  RushYds  PassYds  \\\n0       2010      Los Angeles Chargers   16      441     1810     4519   \n1       2010       Philadelphia Eagles   16      439     2324     3906   \n2       2010            Houston Texans   16      390     2042     4144   \n3       2010        Indianapolis Colts   16      435     1483     4609   \n4       2010           New York Giants   16      394     2200     3885   \n..       ...                       ...  ...      ...      ...      ...   \n347     2020      Jacksonville Jaguars   16      306     1519     3699   \n348     2020        Cincinnati Bengals   16      311     1668     3448   \n349     2020  Washington Football Team   16      335     1611     3465   \n350     2020           New York Giants   16      280     1768     3026   \n351     2020             New York Jets   16      243     1683     2796   \n\n     TotYds  Ranking  wins  losses  ties      pct  scored  allowed  net  seed  \\\n0      6329        1     9       7     0  0.56250     441      322  119   NaN   \n1      6230        2    10       6     0  0.62500     439      377   62   3.0   \n2      6186        3     6      10     0  0.37500     390      427  -37   NaN   \n3      6092        4    10       6     0  0.62500     435      388   47   3.0   \n4      6085        5    10       6     0  0.62500     394      347   47   NaN   \n..      ...      ...   ...     ...   ...      ...     ...      ...  ...   ...   \n347    5218       28     1      15     0  0.06250     306      492 -186   NaN   \n348    5116       29     4      11     1  0.28125     311      424 -113   NaN   \n349    5076       30     7       9     0  0.43750     335      329    6   4.0   \n350    4794       31     6      10     0  0.37500     280      357  -77   NaN   \n351    4479       32     2      14     0  0.12500     243      457 -214   NaN   \n\n    playoff  \n0       NaN  \n1    LostWC  \n2       NaN  \n3    LostWC  \n4       NaN  \n..      ...  \n347     NaN  \n348     NaN  \n349  LostWC  \n350     NaN  \n351     NaN  \n\n[352 rows x 17 columns]",
      "text/html": "<div>\n<style scoped>\n    .dataframe tbody tr th:only-of-type {\n        vertical-align: middle;\n    }\n\n    .dataframe tbody tr th {\n        vertical-align: top;\n    }\n\n    .dataframe thead th {\n        text-align: right;\n    }\n</style>\n<table border=\"1\" class=\"dataframe\">\n  <thead>\n    <tr style=\"text-align: right;\">\n      <th></th>\n      <th>season</th>\n      <th>Team</th>\n      <th>Gms</th>\n      <th>Tot Pts</th>\n      <th>RushYds</th>\n      <th>PassYds</th>\n      <th>TotYds</th>\n      <th>Ranking</th>\n      <th>wins</th>\n      <th>losses</th>\n      <th>ties</th>\n      <th>pct</th>\n      <th>scored</th>\n      <th>allowed</th>\n      <th>net</th>\n      <th>seed</th>\n      <th>playoff</th>\n    </tr>\n  </thead>\n  <tbody>\n    <tr>\n      <th>0</th>\n      <td>2010</td>\n      <td>Los Angeles Chargers</td>\n      <td>16</td>\n      <td>441</td>\n      <td>1810</td>\n      <td>4519</td>\n      <td>6329</td>\n      <td>1</td>\n      <td>9</td>\n      <td>7</td>\n      <td>0</td>\n      <td>0.56250</td>\n      <td>441</td>\n      <td>322</td>\n      <td>119</td>\n      <td>NaN</td>\n      <td>NaN</td>\n    </tr>\n    <tr>\n      <th>1</th>\n      <td>2010</td>\n      <td>Philadelphia Eagles</td>\n      <td>16</td>\n      <td>439</td>\n      <td>2324</td>\n      <td>3906</td>\n      <td>6230</td>\n      <td>2</td>\n      <td>10</td>\n      <td>6</td>\n      <td>0</td>\n      <td>0.62500</td>\n      <td>439</td>\n      <td>377</td>\n      <td>62</td>\n      <td>3.0</td>\n      <td>LostWC</td>\n    </tr>\n    <tr>\n      <th>2</th>\n      <td>2010</td>\n      <td>Houston Texans</td>\n      <td>16</td>\n      <td>390</td>\n      <td>2042</td>\n      <td>4144</td>\n      <td>6186</td>\n      <td>3</td>\n      <td>6</td>\n      <td>10</td>\n      <td>0</td>\n      <td>0.37500</td>\n      <td>390</td>\n      <td>427</td>\n      <td>-37</td>\n      <td>NaN</td>\n      <td>NaN</td>\n    </tr>\n    <tr>\n      <th>3</th>\n      <td>2010</td>\n      <td>Indianapolis Colts</td>\n      <td>16</td>\n      <td>435</td>\n      <td>1483</td>\n      <td>4609</td>\n      <td>6092</td>\n      <td>4</td>\n      <td>10</td>\n      <td>6</td>\n      <td>0</td>\n      <td>0.62500</td>\n      <td>435</td>\n      <td>388</td>\n      <td>47</td>\n      <td>3.0</td>\n      <td>LostWC</td>\n    </tr>\n    <tr>\n      <th>4</th>\n      <td>2010</td>\n      <td>New York Giants</td>\n      <td>16</td>\n      <td>394</td>\n      <td>2200</td>\n      <td>3885</td>\n      <td>6085</td>\n      <td>5</td>\n      <td>10</td>\n      <td>6</td>\n      <td>0</td>\n      <td>0.62500</td>\n      <td>394</td>\n      <td>347</td>\n      <td>47</td>\n      <td>NaN</td>\n      <td>NaN</td>\n    </tr>\n    <tr>\n      <th>...</th>\n      <td>...</td>\n      <td>...</td>\n      <td>...</td>\n      <td>...</td>\n      <td>...</td>\n      <td>...</td>\n      <td>...</td>\n      <td>...</td>\n      <td>...</td>\n      <td>...</td>\n      <td>...</td>\n      <td>...</td>\n      <td>...</td>\n      <td>...</td>\n      <td>...</td>\n      <td>...</td>\n      <td>...</td>\n    </tr>\n    <tr>\n      <th>347</th>\n      <td>2020</td>\n      <td>Jacksonville Jaguars</td>\n      <td>16</td>\n      <td>306</td>\n      <td>1519</td>\n      <td>3699</td>\n      <td>5218</td>\n      <td>28</td>\n      <td>1</td>\n      <td>15</td>\n      <td>0</td>\n      <td>0.06250</td>\n      <td>306</td>\n      <td>492</td>\n      <td>-186</td>\n      <td>NaN</td>\n      <td>NaN</td>\n    </tr>\n    <tr>\n      <th>348</th>\n      <td>2020</td>\n      <td>Cincinnati Bengals</td>\n      <td>16</td>\n      <td>311</td>\n      <td>1668</td>\n      <td>3448</td>\n      <td>5116</td>\n      <td>29</td>\n      <td>4</td>\n      <td>11</td>\n      <td>1</td>\n      <td>0.28125</td>\n      <td>311</td>\n      <td>424</td>\n      <td>-113</td>\n      <td>NaN</td>\n      <td>NaN</td>\n    </tr>\n    <tr>\n      <th>349</th>\n      <td>2020</td>\n      <td>Washington Football Team</td>\n      <td>16</td>\n      <td>335</td>\n      <td>1611</td>\n      <td>3465</td>\n      <td>5076</td>\n      <td>30</td>\n      <td>7</td>\n      <td>9</td>\n      <td>0</td>\n      <td>0.43750</td>\n      <td>335</td>\n      <td>329</td>\n      <td>6</td>\n      <td>4.0</td>\n      <td>LostWC</td>\n    </tr>\n    <tr>\n      <th>350</th>\n      <td>2020</td>\n      <td>New York Giants</td>\n      <td>16</td>\n      <td>280</td>\n      <td>1768</td>\n      <td>3026</td>\n      <td>4794</td>\n      <td>31</td>\n      <td>6</td>\n      <td>10</td>\n      <td>0</td>\n      <td>0.37500</td>\n      <td>280</td>\n      <td>357</td>\n      <td>-77</td>\n      <td>NaN</td>\n      <td>NaN</td>\n    </tr>\n    <tr>\n      <th>351</th>\n      <td>2020</td>\n      <td>New York Jets</td>\n      <td>16</td>\n      <td>243</td>\n      <td>1683</td>\n      <td>2796</td>\n      <td>4479</td>\n      <td>32</td>\n      <td>2</td>\n      <td>14</td>\n      <td>0</td>\n      <td>0.12500</td>\n      <td>243</td>\n      <td>457</td>\n      <td>-214</td>\n      <td>NaN</td>\n      <td>NaN</td>\n    </tr>\n  </tbody>\n</table>\n<p>352 rows × 17 columns</p>\n</div>"
     },
     "metadata": {}
    }
   ],
   "execution_count": null
  },
  {
   "cell_type": "code",
   "metadata": {
    "cell_id": "c6fc6c6a0d844f3bace08e56f127954d",
    "tags": [],
    "deepnote_to_be_reexecuted": true,
    "source_hash": "f16f9e4c",
    "execution_start": 1651098311024,
    "execution_millis": 18,
    "deepnote_table_state": {
     "pageSize": 10,
     "pageIndex": 0,
     "filters": [],
     "sortBy": []
    },
    "deepnote_table_loading": false,
    "deepnote_cell_type": "code",
    "deepnote_cell_height": 742.78125
   },
   "source": "# Merges defense with teamwin using the columns of team and season that does not included any missing data. \nDefenseWins = pd.merge(defense, teamwins,\n    left_on=['Team','season'],\n    right_on=['team','season'], how = \"inner\" )\n\n# Drop repeating columns     \nDefenseWins.drop(\"team\",  axis=1, inplace=True)\nDefenseWins",
   "outputs": [
    {
     "output_type": "execute_result",
     "execution_count": 7,
     "data": {
      "application/vnd.deepnote.dataframe.v3+json": {
       "column_count": 16,
       "row_count": 352,
       "columns": [
        {
         "name": "season",
         "dtype": "int64",
         "stats": {
          "unique_count": 11,
          "nan_count": 0,
          "min": "2010",
          "max": "2020",
          "histogram": [
           {
            "bin_start": 2010,
            "bin_end": 2011,
            "count": 32
           },
           {
            "bin_start": 2011,
            "bin_end": 2012,
            "count": 32
           },
           {
            "bin_start": 2012,
            "bin_end": 2013,
            "count": 32
           },
           {
            "bin_start": 2013,
            "bin_end": 2014,
            "count": 32
           },
           {
            "bin_start": 2014,
            "bin_end": 2015,
            "count": 32
           },
           {
            "bin_start": 2015,
            "bin_end": 2016,
            "count": 32
           },
           {
            "bin_start": 2016,
            "bin_end": 2017,
            "count": 32
           },
           {
            "bin_start": 2017,
            "bin_end": 2018,
            "count": 32
           },
           {
            "bin_start": 2018,
            "bin_end": 2019,
            "count": 32
           },
           {
            "bin_start": 2019,
            "bin_end": 2020,
            "count": 64
           }
          ]
         }
        },
        {
         "name": "Team",
         "dtype": "object",
         "stats": {
          "unique_count": 32,
          "nan_count": 0,
          "categories": [
           {
            "name": "Las Vegas Raiders",
            "count": 15
           },
           {
            "name": "Buffalo Bills",
            "count": 11
           },
           {
            "name": "30 others",
            "count": 326
           }
          ]
         }
        },
        {
         "name": "Tot Pts",
         "dtype": "int64",
         "stats": {
          "unique_count": 176,
          "nan_count": 0,
          "min": "225",
          "max": "519",
          "histogram": [
           {
            "bin_start": 225,
            "bin_end": 254.4,
            "count": 9
           },
           {
            "bin_start": 254.4,
            "bin_end": 283.8,
            "count": 14
           },
           {
            "bin_start": 283.8,
            "bin_end": 313.2,
            "count": 41
           },
           {
            "bin_start": 313.2,
            "bin_end": 342.6,
            "count": 53
           },
           {
            "bin_start": 342.6,
            "bin_end": 372,
            "count": 66
           },
           {
            "bin_start": 372,
            "bin_end": 401.4,
            "count": 70
           },
           {
            "bin_start": 401.4,
            "bin_end": 430.79999999999995,
            "count": 39
           },
           {
            "bin_start": 430.79999999999995,
            "bin_end": 460.2,
            "count": 40
           },
           {
            "bin_start": 460.2,
            "bin_end": 489.59999999999997,
            "count": 15
           },
           {
            "bin_start": 489.59999999999997,
            "bin_end": 519,
            "count": 5
           }
          ]
         }
        },
        {
         "name": "RushYds",
         "dtype": "int64",
         "stats": {
          "unique_count": 298,
          "nan_count": 0,
          "min": "1109",
          "max": "2654",
          "histogram": [
           {
            "bin_start": 1109,
            "bin_end": 1263.5,
            "count": 3
           },
           {
            "bin_start": 1263.5,
            "bin_end": 1418,
            "count": 24
           },
           {
            "bin_start": 1418,
            "bin_end": 1572.5,
            "count": 44
           },
           {
            "bin_start": 1572.5,
            "bin_end": 1727,
            "count": 53
           },
           {
            "bin_start": 1727,
            "bin_end": 1881.5,
            "count": 86
           },
           {
            "bin_start": 1881.5,
            "bin_end": 2036,
            "count": 69
           },
           {
            "bin_start": 2036,
            "bin_end": 2190.5,
            "count": 35
           },
           {
            "bin_start": 2190.5,
            "bin_end": 2345,
            "count": 22
           },
           {
            "bin_start": 2345,
            "bin_end": 2499.5,
            "count": 12
           },
           {
            "bin_start": 2499.5,
            "bin_end": 2654,
            "count": 4
           }
          ]
         }
        },
        {
         "name": "PassYds",
         "dtype": "int64",
         "stats": {
          "unique_count": 303,
          "nan_count": 0,
          "min": "2707",
          "max": "4796",
          "histogram": [
           {
            "bin_start": 2707,
            "bin_end": 2915.9,
            "count": 7
           },
           {
            "bin_start": 2915.9,
            "bin_end": 3124.8,
            "count": 15
           },
           {
            "bin_start": 3124.8,
            "bin_end": 3333.7,
            "count": 25
           },
           {
            "bin_start": 3333.7,
            "bin_end": 3542.6,
            "count": 37
           },
           {
            "bin_start": 3542.6,
            "bin_end": 3751.5,
            "count": 70
           },
           {
            "bin_start": 3751.5,
            "bin_end": 3960.4,
            "count": 87
           },
           {
            "bin_start": 3960.4,
            "bin_end": 4169.3,
            "count": 62
           },
           {
            "bin_start": 4169.3,
            "bin_end": 4378.2,
            "count": 26
           },
           {
            "bin_start": 4378.2,
            "bin_end": 4587.1,
            "count": 13
           },
           {
            "bin_start": 4587.1,
            "bin_end": 4796,
            "count": 10
           }
          ]
         }
        },
        {
         "name": "TotYds",
         "dtype": "int64",
         "stats": {
          "unique_count": 317,
          "nan_count": 0,
          "min": "4274",
          "max": "7042",
          "histogram": [
           {
            "bin_start": 4274,
            "bin_end": 4550.8,
            "count": 9
           },
           {
            "bin_start": 4550.8,
            "bin_end": 4827.6,
            "count": 16
           },
           {
            "bin_start": 4827.6,
            "bin_end": 5104.4,
            "count": 33
           },
           {
            "bin_start": 5104.4,
            "bin_end": 5381.2,
            "count": 49
           },
           {
            "bin_start": 5381.2,
            "bin_end": 5658,
            "count": 82
           },
           {
            "bin_start": 5658,
            "bin_end": 5934.8,
            "count": 67
           },
           {
            "bin_start": 5934.8,
            "bin_end": 6211.6,
            "count": 59
           },
           {
            "bin_start": 6211.6,
            "bin_end": 6488.4,
            "count": 23
           },
           {
            "bin_start": 6488.4,
            "bin_end": 6765.200000000001,
            "count": 13
           },
           {
            "bin_start": 6765.200000000001,
            "bin_end": 7042,
            "count": 1
           }
          ]
         }
        },
        {
         "name": "Ranking",
         "dtype": "int64",
         "stats": {
          "unique_count": 32,
          "nan_count": 0,
          "min": "1",
          "max": "32",
          "histogram": [
           {
            "bin_start": 1,
            "bin_end": 4.1,
            "count": 44
           },
           {
            "bin_start": 4.1,
            "bin_end": 7.2,
            "count": 33
           },
           {
            "bin_start": 7.2,
            "bin_end": 10.3,
            "count": 32
           },
           {
            "bin_start": 10.3,
            "bin_end": 13.4,
            "count": 32
           },
           {
            "bin_start": 13.4,
            "bin_end": 16.5,
            "count": 33
           },
           {
            "bin_start": 16.5,
            "bin_end": 19.6,
            "count": 32
           },
           {
            "bin_start": 19.6,
            "bin_end": 22.7,
            "count": 33
           },
           {
            "bin_start": 22.7,
            "bin_end": 25.8,
            "count": 34
           },
           {
            "bin_start": 25.8,
            "bin_end": 28.900000000000002,
            "count": 35
           },
           {
            "bin_start": 28.900000000000002,
            "bin_end": 32,
            "count": 44
           }
          ]
         }
        },
        {
         "name": "wins",
         "dtype": "int64",
         "stats": {
          "unique_count": 16,
          "nan_count": 0,
          "min": "0",
          "max": "15",
          "histogram": [
           {
            "bin_start": 0,
            "bin_end": 1.5,
            "count": 3
           },
           {
            "bin_start": 1.5,
            "bin_end": 3,
            "count": 11
           },
           {
            "bin_start": 3,
            "bin_end": 4.5,
            "count": 40
           },
           {
            "bin_start": 4.5,
            "bin_end": 6,
            "count": 27
           },
           {
            "bin_start": 6,
            "bin_end": 7.5,
            "count": 82
           },
           {
            "bin_start": 7.5,
            "bin_end": 9,
            "count": 36
           },
           {
            "bin_start": 9,
            "bin_end": 10.5,
            "count": 68
           },
           {
            "bin_start": 10.5,
            "bin_end": 12,
            "count": 31
           },
           {
            "bin_start": 12,
            "bin_end": 13.5,
            "count": 48
           },
           {
            "bin_start": 13.5,
            "bin_end": 15,
            "count": 6
           }
          ]
         }
        },
        {
         "name": "losses",
         "dtype": "int64",
         "stats": {
          "unique_count": 16,
          "nan_count": 0,
          "min": "1",
          "max": "16",
          "histogram": [
           {
            "bin_start": 1,
            "bin_end": 2.5,
            "count": 6
           },
           {
            "bin_start": 2.5,
            "bin_end": 4,
            "count": 21
           },
           {
            "bin_start": 4,
            "bin_end": 5.5,
            "count": 60
           },
           {
            "bin_start": 5.5,
            "bin_end": 7,
            "count": 37
           },
           {
            "bin_start": 7,
            "bin_end": 8.5,
            "count": 69
           },
           {
            "bin_start": 8.5,
            "bin_end": 10,
            "count": 44
           },
           {
            "bin_start": 10,
            "bin_end": 11.5,
            "count": 63
           },
           {
            "bin_start": 11.5,
            "bin_end": 13,
            "count": 27
           },
           {
            "bin_start": 13,
            "bin_end": 14.5,
            "count": 22
           },
           {
            "bin_start": 14.5,
            "bin_end": 16,
            "count": 3
           }
          ]
         }
        },
        {
         "name": "ties",
         "dtype": "int64",
         "stats": {
          "unique_count": 2,
          "nan_count": 0,
          "min": "0",
          "max": "1",
          "histogram": [
           {
            "bin_start": 0,
            "bin_end": 0.1,
            "count": 334
           },
           {
            "bin_start": 0.1,
            "bin_end": 0.2,
            "count": 0
           },
           {
            "bin_start": 0.2,
            "bin_end": 0.30000000000000004,
            "count": 0
           },
           {
            "bin_start": 0.30000000000000004,
            "bin_end": 0.4,
            "count": 0
           },
           {
            "bin_start": 0.4,
            "bin_end": 0.5,
            "count": 0
           },
           {
            "bin_start": 0.5,
            "bin_end": 0.6000000000000001,
            "count": 0
           },
           {
            "bin_start": 0.6000000000000001,
            "bin_end": 0.7000000000000001,
            "count": 0
           },
           {
            "bin_start": 0.7000000000000001,
            "bin_end": 0.8,
            "count": 0
           },
           {
            "bin_start": 0.8,
            "bin_end": 0.9,
            "count": 0
           },
           {
            "bin_start": 0.9,
            "bin_end": 1,
            "count": 18
           }
          ]
         }
        },
        {
         "name": "pct",
         "dtype": "float64",
         "stats": {
          "unique_count": 25,
          "nan_count": 0,
          "min": "0.0",
          "max": "0.9375",
          "histogram": [
           {
            "bin_start": 0,
            "bin_end": 0.09375,
            "count": 3
           },
           {
            "bin_start": 0.09375,
            "bin_end": 0.1875,
            "count": 11
           },
           {
            "bin_start": 0.1875,
            "bin_end": 0.28125,
            "count": 38
           },
           {
            "bin_start": 0.28125,
            "bin_end": 0.375,
            "count": 29
           },
           {
            "bin_start": 0.375,
            "bin_end": 0.46875,
            "count": 78
           },
           {
            "bin_start": 0.46875,
            "bin_end": 0.5625,
            "count": 40
           },
           {
            "bin_start": 0.5625,
            "bin_end": 0.65625,
            "count": 66
           },
           {
            "bin_start": 0.65625,
            "bin_end": 0.75,
            "count": 33
           },
           {
            "bin_start": 0.75,
            "bin_end": 0.84375,
            "count": 48
           },
           {
            "bin_start": 0.84375,
            "bin_end": 0.9375,
            "count": 6
           }
          ]
         }
        },
        {
         "name": "scored",
         "dtype": "int64",
         "stats": {
          "unique_count": 188,
          "nan_count": 0,
          "min": "193",
          "max": "606",
          "histogram": [
           {
            "bin_start": 193,
            "bin_end": 234.3,
            "count": 8
           },
           {
            "bin_start": 234.3,
            "bin_end": 275.6,
            "count": 21
           },
           {
            "bin_start": 275.6,
            "bin_end": 316.9,
            "count": 58
           },
           {
            "bin_start": 316.9,
            "bin_end": 358.2,
            "count": 77
           },
           {
            "bin_start": 358.2,
            "bin_end": 399.5,
            "count": 84
           },
           {
            "bin_start": 399.5,
            "bin_end": 440.79999999999995,
            "count": 58
           },
           {
            "bin_start": 440.79999999999995,
            "bin_end": 482.09999999999997,
            "count": 28
           },
           {
            "bin_start": 482.09999999999997,
            "bin_end": 523.4,
            "count": 10
           },
           {
            "bin_start": 523.4,
            "bin_end": 564.7,
            "count": 6
           },
           {
            "bin_start": 564.7,
            "bin_end": 606,
            "count": 2
           }
          ]
         }
        },
        {
         "name": "allowed",
         "dtype": "int64",
         "stats": {
          "unique_count": 180,
          "nan_count": 0,
          "min": "225",
          "max": "519",
          "histogram": [
           {
            "bin_start": 225,
            "bin_end": 254.4,
            "count": 11
           },
           {
            "bin_start": 254.4,
            "bin_end": 283.8,
            "count": 15
           },
           {
            "bin_start": 283.8,
            "bin_end": 313.2,
            "count": 44
           },
           {
            "bin_start": 313.2,
            "bin_end": 342.6,
            "count": 59
           },
           {
            "bin_start": 342.6,
            "bin_end": 372,
            "count": 62
           },
           {
            "bin_start": 372,
            "bin_end": 401.4,
            "count": 68
           },
           {
            "bin_start": 401.4,
            "bin_end": 430.79999999999995,
            "count": 39
           },
           {
            "bin_start": 430.79999999999995,
            "bin_end": 460.2,
            "count": 36
           },
           {
            "bin_start": 460.2,
            "bin_end": 489.59999999999997,
            "count": 14
           },
           {
            "bin_start": 489.59999999999997,
            "bin_end": 519,
            "count": 4
           }
          ]
         }
        },
        {
         "name": "net",
         "dtype": "int64",
         "stats": {
          "unique_count": 235,
          "nan_count": 0,
          "min": "-214",
          "max": "249",
          "histogram": [
           {
            "bin_start": -214,
            "bin_end": -167.7,
            "count": 19
           },
           {
            "bin_start": -167.7,
            "bin_end": -121.4,
            "count": 24
           },
           {
            "bin_start": -121.4,
            "bin_end": -75.10000000000002,
            "count": 42
           },
           {
            "bin_start": -75.10000000000002,
            "bin_end": -28.80000000000001,
            "count": 58
           },
           {
            "bin_start": -28.80000000000001,
            "bin_end": 17.5,
            "count": 58
           },
           {
            "bin_start": 17.5,
            "bin_end": 63.799999999999955,
            "count": 53
           },
           {
            "bin_start": 63.799999999999955,
            "bin_end": 110.09999999999997,
            "count": 40
           },
           {
            "bin_start": 110.09999999999997,
            "bin_end": 156.39999999999998,
            "count": 40
           },
           {
            "bin_start": 156.39999999999998,
            "bin_end": 202.7,
            "count": 13
           },
           {
            "bin_start": 202.7,
            "bin_end": 249,
            "count": 5
           }
          ]
         }
        },
        {
         "name": "seed",
         "dtype": "float64",
         "stats": {
          "unique_count": 7,
          "nan_count": 218,
          "min": "1.0",
          "max": "7.0",
          "histogram": [
           {
            "bin_start": 1,
            "bin_end": 1.6,
            "count": 22
           },
           {
            "bin_start": 1.6,
            "bin_end": 2.2,
            "count": 22
           },
           {
            "bin_start": 2.2,
            "bin_end": 2.8,
            "count": 0
           },
           {
            "bin_start": 2.8,
            "bin_end": 3.4,
            "count": 22
           },
           {
            "bin_start": 3.4,
            "bin_end": 4,
            "count": 0
           },
           {
            "bin_start": 4,
            "bin_end": 4.6,
            "count": 22
           },
           {
            "bin_start": 4.6,
            "bin_end": 5.2,
            "count": 22
           },
           {
            "bin_start": 5.2,
            "bin_end": 5.8,
            "count": 0
           },
           {
            "bin_start": 5.8,
            "bin_end": 6.3999999999999995,
            "count": 22
           },
           {
            "bin_start": 6.3999999999999995,
            "bin_end": 7,
            "count": 2
           }
          ]
         }
        },
        {
         "name": "playoff",
         "dtype": "object",
         "stats": {
          "unique_count": 5,
          "nan_count": 218,
          "categories": [
           {
            "name": "LostWC",
            "count": 46
           },
           {
            "name": "4 others",
            "count": 88
           },
           {
            "name": "Missing",
            "count": 218
           }
          ]
         }
        },
        {
         "name": "_deepnote_index_column",
         "dtype": "int64"
        }
       ],
       "rows": [
        {
         "season": 2010,
         "Team": "Buffalo Bills",
         "Tot Pts": 289,
         "RushYds": 1866,
         "PassYds": 2771,
         "TotYds": 4637,
         "Ranking": 1,
         "wins": 4,
         "losses": 12,
         "ties": 0,
         "pct": 0.25,
         "scored": 283,
         "allowed": 425,
         "net": -142,
         "seed": "nan",
         "playoff": "nan",
         "_deepnote_index_column": 0
        },
        {
         "season": 2010,
         "Team": "Carolina Panthers",
         "Tot Pts": 404,
         "RushYds": 1935,
         "PassYds": 3266,
         "TotYds": 5201,
         "Ranking": 2,
         "wins": 2,
         "losses": 14,
         "ties": 0,
         "pct": 0.125,
         "scored": 196,
         "allowed": 408,
         "net": -212,
         "seed": "nan",
         "playoff": "nan",
         "_deepnote_index_column": 1
        },
        {
         "season": 2010,
         "Team": "San Francisco 49ers",
         "Tot Pts": 365,
         "RushYds": 1760,
         "PassYds": 3510,
         "TotYds": 5270,
         "Ranking": 3,
         "wins": 7,
         "losses": 9,
         "ties": 0,
         "pct": 0.4375,
         "scored": 310,
         "allowed": 407,
         "net": -97,
         "seed": 4,
         "playoff": "LostDV",
         "_deepnote_index_column": 2
        },
        {
         "season": 2010,
         "Team": "New England Patriots",
         "Tot Pts": 303,
         "RushYds": 2103,
         "PassYds": 3181,
         "TotYds": 5284,
         "Ranking": 4,
         "wins": 14,
         "losses": 2,
         "ties": 0,
         "pct": 0.875,
         "scored": 518,
         "allowed": 313,
         "net": 205,
         "seed": 1,
         "playoff": "LostDV",
         "_deepnote_index_column": 3
        },
        {
         "season": 2010,
         "Team": "Cleveland Browns",
         "Tot Pts": 371,
         "RushYds": 1857,
         "PassYds": 3439,
         "TotYds": 5296,
         "Ranking": 5,
         "wins": 5,
         "losses": 11,
         "ties": 0,
         "pct": 0.3125,
         "scored": 271,
         "allowed": 332,
         "net": -61,
         "seed": "nan",
         "playoff": "nan",
         "_deepnote_index_column": 4
        },
        {
         "season": 2010,
         "Team": "Chicago Bears",
         "Tot Pts": 407,
         "RushYds": 2127,
         "PassYds": 3257,
         "TotYds": 5384,
         "Ranking": 6,
         "wins": 11,
         "losses": 5,
         "ties": 0,
         "pct": 0.6875,
         "scored": 334,
         "allowed": 286,
         "net": 48,
         "seed": 2,
         "playoff": "LostCC",
         "_deepnote_index_column": 5
        },
        {
         "season": 2010,
         "Team": "New Orleans Saints",
         "Tot Pts": 335,
         "RushYds": 1589,
         "PassYds": 3821,
         "TotYds": 5410,
         "Ranking": 7,
         "wins": 11,
         "losses": 5,
         "ties": 0,
         "pct": 0.6875,
         "scored": 384,
         "allowed": 307,
         "net": 77,
         "seed": 5,
         "playoff": "LostWC",
         "_deepnote_index_column": 6
        },
        {
         "season": 2010,
         "Team": "Denver Broncos",
         "Tot Pts": 322,
         "RushYds": 1892,
         "PassYds": 3652,
         "TotYds": 5544,
         "Ranking": 8,
         "wins": 4,
         "losses": 12,
         "ties": 0,
         "pct": 0.25,
         "scored": 344,
         "allowed": 471,
         "net": -127,
         "seed": "nan",
         "playoff": "nan",
         "_deepnote_index_column": 7
        },
        {
         "season": 2010,
         "Team": "Green Bay Packers",
         "Tot Pts": 371,
         "RushYds": 1855,
         "PassYds": 3724,
         "TotYds": 5579,
         "Ranking": 9,
         "wins": 10,
         "losses": 6,
         "ties": 0,
         "pct": 0.625,
         "scored": 388,
         "allowed": 240,
         "net": 148,
         "seed": 6,
         "playoff": "WonSB",
         "_deepnote_index_column": 8
        },
        {
         "season": 2010,
         "Team": "Philadelphia Eagles",
         "Tot Pts": 385,
         "RushYds": 1834,
         "PassYds": 3756,
         "TotYds": 5590,
         "Ranking": 10,
         "wins": 10,
         "losses": 6,
         "ties": 0,
         "pct": 0.625,
         "scored": 439,
         "allowed": 377,
         "net": 62,
         "seed": 3,
         "playoff": "LostWC",
         "_deepnote_index_column": 9
        }
       ]
      },
      "text/plain": "     season                  Team  Tot Pts  RushYds  PassYds  TotYds  Ranking  \\\n0      2010         Buffalo Bills      289     1866     2771    4637        1   \n1      2010     Carolina Panthers      404     1935     3266    5201        2   \n2      2010   San Francisco 49ers      365     1760     3510    5270        3   \n3      2010  New England Patriots      303     2103     3181    5284        4   \n4      2010      Cleveland Browns      371     1857     3439    5296        5   \n..      ...                   ...      ...      ...      ...     ...      ...   \n347    2020      Tennessee Titans      439     1933     4439    6372       28   \n348    2020       Atlanta Falcons      414     1677     4697    6374       29   \n349    2020        Houston Texans      464     2564     4104    6668       30   \n350    2020  Jacksonville Jaguars      492     2452     4231    6683       31   \n351    2020         Detroit Lions      519     2158     4558    6716       32   \n\n     wins  losses  ties     pct  scored  allowed  net  seed playoff  \n0       4      12     0  0.2500     283      425 -142   NaN     NaN  \n1       2      14     0  0.1250     196      408 -212   NaN     NaN  \n2       7       9     0  0.4375     310      407  -97   4.0  LostDV  \n3      14       2     0  0.8750     518      313  205   1.0  LostDV  \n4       5      11     0  0.3125     271      332  -61   NaN     NaN  \n..    ...     ...   ...     ...     ...      ...  ...   ...     ...  \n347    11       5     0  0.6875     491      439   52   4.0  LostWC  \n348     4      12     0  0.2500     396      414  -18   NaN     NaN  \n349     4      12     0  0.2500     384      464  -80   NaN     NaN  \n350     1      15     0  0.0625     306      492 -186   NaN     NaN  \n351     5      11     0  0.3125     377      519 -142   NaN     NaN  \n\n[352 rows x 16 columns]",
      "text/html": "<div>\n<style scoped>\n    .dataframe tbody tr th:only-of-type {\n        vertical-align: middle;\n    }\n\n    .dataframe tbody tr th {\n        vertical-align: top;\n    }\n\n    .dataframe thead th {\n        text-align: right;\n    }\n</style>\n<table border=\"1\" class=\"dataframe\">\n  <thead>\n    <tr style=\"text-align: right;\">\n      <th></th>\n      <th>season</th>\n      <th>Team</th>\n      <th>Tot Pts</th>\n      <th>RushYds</th>\n      <th>PassYds</th>\n      <th>TotYds</th>\n      <th>Ranking</th>\n      <th>wins</th>\n      <th>losses</th>\n      <th>ties</th>\n      <th>pct</th>\n      <th>scored</th>\n      <th>allowed</th>\n      <th>net</th>\n      <th>seed</th>\n      <th>playoff</th>\n    </tr>\n  </thead>\n  <tbody>\n    <tr>\n      <th>0</th>\n      <td>2010</td>\n      <td>Buffalo Bills</td>\n      <td>289</td>\n      <td>1866</td>\n      <td>2771</td>\n      <td>4637</td>\n      <td>1</td>\n      <td>4</td>\n      <td>12</td>\n      <td>0</td>\n      <td>0.2500</td>\n      <td>283</td>\n      <td>425</td>\n      <td>-142</td>\n      <td>NaN</td>\n      <td>NaN</td>\n    </tr>\n    <tr>\n      <th>1</th>\n      <td>2010</td>\n      <td>Carolina Panthers</td>\n      <td>404</td>\n      <td>1935</td>\n      <td>3266</td>\n      <td>5201</td>\n      <td>2</td>\n      <td>2</td>\n      <td>14</td>\n      <td>0</td>\n      <td>0.1250</td>\n      <td>196</td>\n      <td>408</td>\n      <td>-212</td>\n      <td>NaN</td>\n      <td>NaN</td>\n    </tr>\n    <tr>\n      <th>2</th>\n      <td>2010</td>\n      <td>San Francisco 49ers</td>\n      <td>365</td>\n      <td>1760</td>\n      <td>3510</td>\n      <td>5270</td>\n      <td>3</td>\n      <td>7</td>\n      <td>9</td>\n      <td>0</td>\n      <td>0.4375</td>\n      <td>310</td>\n      <td>407</td>\n      <td>-97</td>\n      <td>4.0</td>\n      <td>LostDV</td>\n    </tr>\n    <tr>\n      <th>3</th>\n      <td>2010</td>\n      <td>New England Patriots</td>\n      <td>303</td>\n      <td>2103</td>\n      <td>3181</td>\n      <td>5284</td>\n      <td>4</td>\n      <td>14</td>\n      <td>2</td>\n      <td>0</td>\n      <td>0.8750</td>\n      <td>518</td>\n      <td>313</td>\n      <td>205</td>\n      <td>1.0</td>\n      <td>LostDV</td>\n    </tr>\n    <tr>\n      <th>4</th>\n      <td>2010</td>\n      <td>Cleveland Browns</td>\n      <td>371</td>\n      <td>1857</td>\n      <td>3439</td>\n      <td>5296</td>\n      <td>5</td>\n      <td>5</td>\n      <td>11</td>\n      <td>0</td>\n      <td>0.3125</td>\n      <td>271</td>\n      <td>332</td>\n      <td>-61</td>\n      <td>NaN</td>\n      <td>NaN</td>\n    </tr>\n    <tr>\n      <th>...</th>\n      <td>...</td>\n      <td>...</td>\n      <td>...</td>\n      <td>...</td>\n      <td>...</td>\n      <td>...</td>\n      <td>...</td>\n      <td>...</td>\n      <td>...</td>\n      <td>...</td>\n      <td>...</td>\n      <td>...</td>\n      <td>...</td>\n      <td>...</td>\n      <td>...</td>\n      <td>...</td>\n    </tr>\n    <tr>\n      <th>347</th>\n      <td>2020</td>\n      <td>Tennessee Titans</td>\n      <td>439</td>\n      <td>1933</td>\n      <td>4439</td>\n      <td>6372</td>\n      <td>28</td>\n      <td>11</td>\n      <td>5</td>\n      <td>0</td>\n      <td>0.6875</td>\n      <td>491</td>\n      <td>439</td>\n      <td>52</td>\n      <td>4.0</td>\n      <td>LostWC</td>\n    </tr>\n    <tr>\n      <th>348</th>\n      <td>2020</td>\n      <td>Atlanta Falcons</td>\n      <td>414</td>\n      <td>1677</td>\n      <td>4697</td>\n      <td>6374</td>\n      <td>29</td>\n      <td>4</td>\n      <td>12</td>\n      <td>0</td>\n      <td>0.2500</td>\n      <td>396</td>\n      <td>414</td>\n      <td>-18</td>\n      <td>NaN</td>\n      <td>NaN</td>\n    </tr>\n    <tr>\n      <th>349</th>\n      <td>2020</td>\n      <td>Houston Texans</td>\n      <td>464</td>\n      <td>2564</td>\n      <td>4104</td>\n      <td>6668</td>\n      <td>30</td>\n      <td>4</td>\n      <td>12</td>\n      <td>0</td>\n      <td>0.2500</td>\n      <td>384</td>\n      <td>464</td>\n      <td>-80</td>\n      <td>NaN</td>\n      <td>NaN</td>\n    </tr>\n    <tr>\n      <th>350</th>\n      <td>2020</td>\n      <td>Jacksonville Jaguars</td>\n      <td>492</td>\n      <td>2452</td>\n      <td>4231</td>\n      <td>6683</td>\n      <td>31</td>\n      <td>1</td>\n      <td>15</td>\n      <td>0</td>\n      <td>0.0625</td>\n      <td>306</td>\n      <td>492</td>\n      <td>-186</td>\n      <td>NaN</td>\n      <td>NaN</td>\n    </tr>\n    <tr>\n      <th>351</th>\n      <td>2020</td>\n      <td>Detroit Lions</td>\n      <td>519</td>\n      <td>2158</td>\n      <td>4558</td>\n      <td>6716</td>\n      <td>32</td>\n      <td>5</td>\n      <td>11</td>\n      <td>0</td>\n      <td>0.3125</td>\n      <td>377</td>\n      <td>519</td>\n      <td>-142</td>\n      <td>NaN</td>\n      <td>NaN</td>\n    </tr>\n  </tbody>\n</table>\n<p>352 rows × 16 columns</p>\n</div>"
     },
     "metadata": {}
    }
   ],
   "execution_count": null
  },
  {
   "cell_type": "markdown",
   "source": "",
   "metadata": {
    "cell_id": "9a44e98f730d4743af0f60fb0be27441",
    "tags": [],
    "deepnote_cell_type": "markdown",
    "deepnote_cell_height": 46
   }
  },
  {
   "cell_type": "markdown",
   "source": "### Step 4: Cleaning Merged DataFramed \nAfter merging the dataframes, the data needs to be cleaned again to use in later steps easily. First, I want to list all the 32 teams for later use, so I drop all duplicates in the list created from the offenseWins column of teams.",
   "metadata": {
    "cell_id": "b93a6ed41403461782226b4c17b6344c",
    "tags": [],
    "deepnote_cell_type": "markdown",
    "deepnote_cell_height": 122.796875
   }
  },
  {
   "cell_type": "code",
   "metadata": {
    "cell_id": "d9cd76f9849146b38e65c22242902081",
    "tags": [],
    "deepnote_to_be_reexecuted": true,
    "source_hash": "16911cbb",
    "execution_start": 1651098311040,
    "execution_millis": 2,
    "deepnote_cell_type": "code",
    "deepnote_cell_height": 154.1875
   },
   "source": "# Drop duplicates values of team so there is only 32 NFL teams in the list of teams\nteams = offenseWins.Team.drop_duplicates()\nlen(teams)",
   "outputs": [
    {
     "output_type": "execute_result",
     "execution_count": 8,
     "data": {
      "text/plain": "32"
     },
     "metadata": {}
    }
   ],
   "execution_count": null
  },
  {
   "cell_type": "markdown",
   "source": "The output should state that there are 32 items in the list of NFL teams called `teams`. ",
   "metadata": {
    "cell_id": "f85f22d0b0784d79be41c7e0638a8349",
    "tags": [],
    "deepnote_cell_type": "markdown",
    "deepnote_cell_height": 52.390625
   }
  },
  {
   "cell_type": "markdown",
   "source": "Also, I want to create a list of each season contain the offensiveWin dataframe without duplicates so I drop all duplicates from the list created from the offensiveWin column of season.  ",
   "metadata": {
    "cell_id": "c0d1139b48364ecb984756ab485d1041",
    "tags": [],
    "deepnote_cell_type": "markdown",
    "deepnote_cell_height": 74.796875
   }
  },
  {
   "cell_type": "code",
   "metadata": {
    "cell_id": "c93120df00914aad81448b07c3cb3ea7",
    "tags": [],
    "deepnote_to_be_reexecuted": true,
    "source_hash": "ae4a962d",
    "execution_start": 1651098311088,
    "execution_millis": 3,
    "deepnote_cell_type": "code",
    "deepnote_cell_height": 154.1875
   },
   "source": "# Drop duplicates values of season so there is an unique list of season from 2010-2020\nseason = offenseWins[\"season \"].drop_duplicates()\nlen(season)",
   "outputs": [
    {
     "output_type": "execute_result",
     "execution_count": 9,
     "data": {
      "text/plain": "11"
     },
     "metadata": {}
    }
   ],
   "execution_count": null
  },
  {
   "cell_type": "markdown",
   "source": "The output should stated that there is now 11 items in the list of seasons called `season`. ",
   "metadata": {
    "cell_id": "32bf0379747a46a99fe716933943d297",
    "tags": [],
    "deepnote_cell_type": "markdown",
    "deepnote_cell_height": 52.390625
   }
  },
  {
   "cell_type": "markdown",
   "source": "The part of this step is to replace all the nan or missing values in the playoff column to say instead that they did not make the playoffs in both of the merged dataframes.",
   "metadata": {
    "cell_id": "5216e25fda2a4e408fee9d421a17db8d",
    "tags": [],
    "deepnote_cell_type": "markdown",
    "deepnote_cell_height": 74.796875
   }
  },
  {
   "cell_type": "code",
   "metadata": {
    "cell_id": "248e789cb84847e6a10353e28dbb236b",
    "tags": [],
    "deepnote_to_be_reexecuted": true,
    "source_hash": "4a7b6f04",
    "execution_start": 1651098311089,
    "execution_millis": 36,
    "deepnote_table_state": {
     "pageSize": 10,
     "pageIndex": 3,
     "filters": [],
     "sortBy": []
    },
    "deepnote_table_loading": false,
    "deepnote_cell_type": "code",
    "deepnote_cell_height": 670.78125
   },
   "source": "# Replace nan in playoff column when team fail to make the playoffs in offenseWins and DefenseWins.\noffenseWins['playoff'] = offenseWins['playoff'].fillna('Did not make the playoffs')\nDefenseWins['playoff'] = DefenseWins['playoff'].fillna('Did not make the playoffs')\noffenseWins",
   "outputs": [
    {
     "output_type": "execute_result",
     "execution_count": 10,
     "data": {
      "application/vnd.deepnote.dataframe.v3+json": {
       "column_count": 17,
       "row_count": 352,
       "columns": [
        {
         "name": "season ",
         "dtype": "int64",
         "stats": {
          "unique_count": 11,
          "nan_count": 0,
          "min": "2010",
          "max": "2020",
          "histogram": [
           {
            "bin_start": 2010,
            "bin_end": 2011,
            "count": 32
           },
           {
            "bin_start": 2011,
            "bin_end": 2012,
            "count": 32
           },
           {
            "bin_start": 2012,
            "bin_end": 2013,
            "count": 32
           },
           {
            "bin_start": 2013,
            "bin_end": 2014,
            "count": 32
           },
           {
            "bin_start": 2014,
            "bin_end": 2015,
            "count": 32
           },
           {
            "bin_start": 2015,
            "bin_end": 2016,
            "count": 32
           },
           {
            "bin_start": 2016,
            "bin_end": 2017,
            "count": 32
           },
           {
            "bin_start": 2017,
            "bin_end": 2018,
            "count": 32
           },
           {
            "bin_start": 2018,
            "bin_end": 2019,
            "count": 32
           },
           {
            "bin_start": 2019,
            "bin_end": 2020,
            "count": 64
           }
          ]
         }
        },
        {
         "name": "Team",
         "dtype": "object",
         "stats": {
          "unique_count": 32,
          "nan_count": 0,
          "categories": [
           {
            "name": "Las Vegas Raiders",
            "count": 15
           },
           {
            "name": "Los Angeles Chargers",
            "count": 11
           },
           {
            "name": "30 others",
            "count": 326
           }
          ]
         }
        },
        {
         "name": "Gms",
         "dtype": "int64",
         "stats": {
          "unique_count": 1,
          "nan_count": 0,
          "min": "16",
          "max": "16",
          "histogram": [
           {
            "bin_start": 15.5,
            "bin_end": 15.6,
            "count": 0
           },
           {
            "bin_start": 15.6,
            "bin_end": 15.7,
            "count": 0
           },
           {
            "bin_start": 15.7,
            "bin_end": 15.8,
            "count": 0
           },
           {
            "bin_start": 15.8,
            "bin_end": 15.9,
            "count": 0
           },
           {
            "bin_start": 15.9,
            "bin_end": 16,
            "count": 0
           },
           {
            "bin_start": 16,
            "bin_end": 16.1,
            "count": 352
           },
           {
            "bin_start": 16.1,
            "bin_end": 16.2,
            "count": 0
           },
           {
            "bin_start": 16.2,
            "bin_end": 16.3,
            "count": 0
           },
           {
            "bin_start": 16.3,
            "bin_end": 16.4,
            "count": 0
           },
           {
            "bin_start": 16.4,
            "bin_end": 16.5,
            "count": 0
           }
          ]
         }
        },
        {
         "name": "Tot Pts",
         "dtype": "int64",
         "stats": {
          "unique_count": 185,
          "nan_count": 0,
          "min": "193",
          "max": "606",
          "histogram": [
           {
            "bin_start": 193,
            "bin_end": 234.3,
            "count": 7
           },
           {
            "bin_start": 234.3,
            "bin_end": 275.6,
            "count": 21
           },
           {
            "bin_start": 275.6,
            "bin_end": 316.9,
            "count": 61
           },
           {
            "bin_start": 316.9,
            "bin_end": 358.2,
            "count": 77
           },
           {
            "bin_start": 358.2,
            "bin_end": 399.5,
            "count": 83
           },
           {
            "bin_start": 399.5,
            "bin_end": 440.79999999999995,
            "count": 59
           },
           {
            "bin_start": 440.79999999999995,
            "bin_end": 482.09999999999997,
            "count": 27
           },
           {
            "bin_start": 482.09999999999997,
            "bin_end": 523.4,
            "count": 10
           },
           {
            "bin_start": 523.4,
            "bin_end": 564.7,
            "count": 5
           },
           {
            "bin_start": 564.7,
            "bin_end": 606,
            "count": 2
           }
          ]
         }
        },
        {
         "name": "RushYds",
         "dtype": "int64",
         "stats": {
          "unique_count": 300,
          "nan_count": 0,
          "min": "1156",
          "max": "3296",
          "histogram": [
           {
            "bin_start": 1156,
            "bin_end": 1370,
            "count": 21
           },
           {
            "bin_start": 1370,
            "bin_end": 1584,
            "count": 70
           },
           {
            "bin_start": 1584,
            "bin_end": 1798,
            "count": 95
           },
           {
            "bin_start": 1798,
            "bin_end": 2012,
            "count": 81
           },
           {
            "bin_start": 2012,
            "bin_end": 2226,
            "count": 48
           },
           {
            "bin_start": 2226,
            "bin_end": 2440,
            "count": 21
           },
           {
            "bin_start": 2440,
            "bin_end": 2654,
            "count": 11
           },
           {
            "bin_start": 2654,
            "bin_end": 2868,
            "count": 3
           },
           {
            "bin_start": 2868,
            "bin_end": 3082,
            "count": 1
           },
           {
            "bin_start": 3082,
            "bin_end": 3296,
            "count": 1
           }
          ]
         }
        },
        {
         "name": "PassYds",
         "dtype": "int64",
         "stats": {
          "unique_count": 317,
          "nan_count": 0,
          "min": "2179",
          "max": "5444",
          "histogram": [
           {
            "bin_start": 2179,
            "bin_end": 2505.5,
            "count": 3
           },
           {
            "bin_start": 2505.5,
            "bin_end": 2832,
            "count": 11
           },
           {
            "bin_start": 2832,
            "bin_end": 3158.5,
            "count": 48
           },
           {
            "bin_start": 3158.5,
            "bin_end": 3485,
            "count": 57
           },
           {
            "bin_start": 3485,
            "bin_end": 3811.5,
            "count": 79
           },
           {
            "bin_start": 3811.5,
            "bin_end": 4138,
            "count": 76
           },
           {
            "bin_start": 4138,
            "bin_end": 4464.5,
            "count": 37
           },
           {
            "bin_start": 4464.5,
            "bin_end": 4791,
            "count": 24
           },
           {
            "bin_start": 4791,
            "bin_end": 5117.5,
            "count": 14
           },
           {
            "bin_start": 5117.5,
            "bin_end": 5444,
            "count": 3
           }
          ]
         }
        },
        {
         "name": "TotYds",
         "dtype": "int64",
         "stats": {
          "unique_count": 318,
          "nan_count": 0,
          "min": "3865",
          "max": "7474",
          "histogram": [
           {
            "bin_start": 3865,
            "bin_end": 4225.9,
            "count": 4
           },
           {
            "bin_start": 4225.9,
            "bin_end": 4586.8,
            "count": 10
           },
           {
            "bin_start": 4586.8,
            "bin_end": 4947.7,
            "count": 37
           },
           {
            "bin_start": 4947.7,
            "bin_end": 5308.6,
            "count": 67
           },
           {
            "bin_start": 5308.6,
            "bin_end": 5669.5,
            "count": 83
           },
           {
            "bin_start": 5669.5,
            "bin_end": 6030.4,
            "count": 81
           },
           {
            "bin_start": 6030.4,
            "bin_end": 6391.299999999999,
            "count": 46
           },
           {
            "bin_start": 6391.299999999999,
            "bin_end": 6752.2,
            "count": 17
           },
           {
            "bin_start": 6752.2,
            "bin_end": 7113.1,
            "count": 5
           },
           {
            "bin_start": 7113.1,
            "bin_end": 7474,
            "count": 2
           }
          ]
         }
        },
        {
         "name": "Ranking",
         "dtype": "int64",
         "stats": {
          "unique_count": 32,
          "nan_count": 0,
          "min": "1",
          "max": "32",
          "histogram": [
           {
            "bin_start": 1,
            "bin_end": 4.1,
            "count": 43
           },
           {
            "bin_start": 4.1,
            "bin_end": 7.2,
            "count": 33
           },
           {
            "bin_start": 7.2,
            "bin_end": 10.3,
            "count": 32
           },
           {
            "bin_start": 10.3,
            "bin_end": 13.4,
            "count": 34
           },
           {
            "bin_start": 13.4,
            "bin_end": 16.5,
            "count": 33
           },
           {
            "bin_start": 16.5,
            "bin_end": 19.6,
            "count": 34
           },
           {
            "bin_start": 19.6,
            "bin_end": 22.7,
            "count": 33
           },
           {
            "bin_start": 22.7,
            "bin_end": 25.8,
            "count": 34
           },
           {
            "bin_start": 25.8,
            "bin_end": 28.900000000000002,
            "count": 33
           },
           {
            "bin_start": 28.900000000000002,
            "bin_end": 32,
            "count": 43
           }
          ]
         }
        },
        {
         "name": "wins",
         "dtype": "int64",
         "stats": {
          "unique_count": 16,
          "nan_count": 0,
          "min": "0",
          "max": "15",
          "histogram": [
           {
            "bin_start": 0,
            "bin_end": 1.5,
            "count": 3
           },
           {
            "bin_start": 1.5,
            "bin_end": 3,
            "count": 11
           },
           {
            "bin_start": 3,
            "bin_end": 4.5,
            "count": 40
           },
           {
            "bin_start": 4.5,
            "bin_end": 6,
            "count": 27
           },
           {
            "bin_start": 6,
            "bin_end": 7.5,
            "count": 82
           },
           {
            "bin_start": 7.5,
            "bin_end": 9,
            "count": 36
           },
           {
            "bin_start": 9,
            "bin_end": 10.5,
            "count": 68
           },
           {
            "bin_start": 10.5,
            "bin_end": 12,
            "count": 31
           },
           {
            "bin_start": 12,
            "bin_end": 13.5,
            "count": 48
           },
           {
            "bin_start": 13.5,
            "bin_end": 15,
            "count": 6
           }
          ]
         }
        },
        {
         "name": "losses",
         "dtype": "int64",
         "stats": {
          "unique_count": 16,
          "nan_count": 0,
          "min": "1",
          "max": "16",
          "histogram": [
           {
            "bin_start": 1,
            "bin_end": 2.5,
            "count": 6
           },
           {
            "bin_start": 2.5,
            "bin_end": 4,
            "count": 21
           },
           {
            "bin_start": 4,
            "bin_end": 5.5,
            "count": 60
           },
           {
            "bin_start": 5.5,
            "bin_end": 7,
            "count": 37
           },
           {
            "bin_start": 7,
            "bin_end": 8.5,
            "count": 69
           },
           {
            "bin_start": 8.5,
            "bin_end": 10,
            "count": 44
           },
           {
            "bin_start": 10,
            "bin_end": 11.5,
            "count": 63
           },
           {
            "bin_start": 11.5,
            "bin_end": 13,
            "count": 27
           },
           {
            "bin_start": 13,
            "bin_end": 14.5,
            "count": 22
           },
           {
            "bin_start": 14.5,
            "bin_end": 16,
            "count": 3
           }
          ]
         }
        },
        {
         "name": "ties",
         "dtype": "int64",
         "stats": {
          "unique_count": 2,
          "nan_count": 0,
          "min": "0",
          "max": "1",
          "histogram": [
           {
            "bin_start": 0,
            "bin_end": 0.1,
            "count": 334
           },
           {
            "bin_start": 0.1,
            "bin_end": 0.2,
            "count": 0
           },
           {
            "bin_start": 0.2,
            "bin_end": 0.30000000000000004,
            "count": 0
           },
           {
            "bin_start": 0.30000000000000004,
            "bin_end": 0.4,
            "count": 0
           },
           {
            "bin_start": 0.4,
            "bin_end": 0.5,
            "count": 0
           },
           {
            "bin_start": 0.5,
            "bin_end": 0.6000000000000001,
            "count": 0
           },
           {
            "bin_start": 0.6000000000000001,
            "bin_end": 0.7000000000000001,
            "count": 0
           },
           {
            "bin_start": 0.7000000000000001,
            "bin_end": 0.8,
            "count": 0
           },
           {
            "bin_start": 0.8,
            "bin_end": 0.9,
            "count": 0
           },
           {
            "bin_start": 0.9,
            "bin_end": 1,
            "count": 18
           }
          ]
         }
        },
        {
         "name": "pct",
         "dtype": "float64",
         "stats": {
          "unique_count": 25,
          "nan_count": 0,
          "min": "0.0",
          "max": "0.9375",
          "histogram": [
           {
            "bin_start": 0,
            "bin_end": 0.09375,
            "count": 3
           },
           {
            "bin_start": 0.09375,
            "bin_end": 0.1875,
            "count": 11
           },
           {
            "bin_start": 0.1875,
            "bin_end": 0.28125,
            "count": 38
           },
           {
            "bin_start": 0.28125,
            "bin_end": 0.375,
            "count": 29
           },
           {
            "bin_start": 0.375,
            "bin_end": 0.46875,
            "count": 78
           },
           {
            "bin_start": 0.46875,
            "bin_end": 0.5625,
            "count": 40
           },
           {
            "bin_start": 0.5625,
            "bin_end": 0.65625,
            "count": 66
           },
           {
            "bin_start": 0.65625,
            "bin_end": 0.75,
            "count": 33
           },
           {
            "bin_start": 0.75,
            "bin_end": 0.84375,
            "count": 48
           },
           {
            "bin_start": 0.84375,
            "bin_end": 0.9375,
            "count": 6
           }
          ]
         }
        },
        {
         "name": "scored",
         "dtype": "int64",
         "stats": {
          "unique_count": 188,
          "nan_count": 0,
          "min": "193",
          "max": "606",
          "histogram": [
           {
            "bin_start": 193,
            "bin_end": 234.3,
            "count": 8
           },
           {
            "bin_start": 234.3,
            "bin_end": 275.6,
            "count": 21
           },
           {
            "bin_start": 275.6,
            "bin_end": 316.9,
            "count": 58
           },
           {
            "bin_start": 316.9,
            "bin_end": 358.2,
            "count": 77
           },
           {
            "bin_start": 358.2,
            "bin_end": 399.5,
            "count": 84
           },
           {
            "bin_start": 399.5,
            "bin_end": 440.79999999999995,
            "count": 58
           },
           {
            "bin_start": 440.79999999999995,
            "bin_end": 482.09999999999997,
            "count": 28
           },
           {
            "bin_start": 482.09999999999997,
            "bin_end": 523.4,
            "count": 10
           },
           {
            "bin_start": 523.4,
            "bin_end": 564.7,
            "count": 6
           },
           {
            "bin_start": 564.7,
            "bin_end": 606,
            "count": 2
           }
          ]
         }
        },
        {
         "name": "allowed",
         "dtype": "int64",
         "stats": {
          "unique_count": 180,
          "nan_count": 0,
          "min": "225",
          "max": "519",
          "histogram": [
           {
            "bin_start": 225,
            "bin_end": 254.4,
            "count": 11
           },
           {
            "bin_start": 254.4,
            "bin_end": 283.8,
            "count": 15
           },
           {
            "bin_start": 283.8,
            "bin_end": 313.2,
            "count": 44
           },
           {
            "bin_start": 313.2,
            "bin_end": 342.6,
            "count": 59
           },
           {
            "bin_start": 342.6,
            "bin_end": 372,
            "count": 62
           },
           {
            "bin_start": 372,
            "bin_end": 401.4,
            "count": 68
           },
           {
            "bin_start": 401.4,
            "bin_end": 430.79999999999995,
            "count": 39
           },
           {
            "bin_start": 430.79999999999995,
            "bin_end": 460.2,
            "count": 36
           },
           {
            "bin_start": 460.2,
            "bin_end": 489.59999999999997,
            "count": 14
           },
           {
            "bin_start": 489.59999999999997,
            "bin_end": 519,
            "count": 4
           }
          ]
         }
        },
        {
         "name": "net",
         "dtype": "int64",
         "stats": {
          "unique_count": 235,
          "nan_count": 0,
          "min": "-214",
          "max": "249",
          "histogram": [
           {
            "bin_start": -214,
            "bin_end": -167.7,
            "count": 19
           },
           {
            "bin_start": -167.7,
            "bin_end": -121.4,
            "count": 24
           },
           {
            "bin_start": -121.4,
            "bin_end": -75.10000000000002,
            "count": 42
           },
           {
            "bin_start": -75.10000000000002,
            "bin_end": -28.80000000000001,
            "count": 58
           },
           {
            "bin_start": -28.80000000000001,
            "bin_end": 17.5,
            "count": 58
           },
           {
            "bin_start": 17.5,
            "bin_end": 63.799999999999955,
            "count": 53
           },
           {
            "bin_start": 63.799999999999955,
            "bin_end": 110.09999999999997,
            "count": 40
           },
           {
            "bin_start": 110.09999999999997,
            "bin_end": 156.39999999999998,
            "count": 40
           },
           {
            "bin_start": 156.39999999999998,
            "bin_end": 202.7,
            "count": 13
           },
           {
            "bin_start": 202.7,
            "bin_end": 249,
            "count": 5
           }
          ]
         }
        },
        {
         "name": "seed",
         "dtype": "float64",
         "stats": {
          "unique_count": 7,
          "nan_count": 218,
          "min": "1.0",
          "max": "7.0",
          "histogram": [
           {
            "bin_start": 1,
            "bin_end": 1.6,
            "count": 22
           },
           {
            "bin_start": 1.6,
            "bin_end": 2.2,
            "count": 22
           },
           {
            "bin_start": 2.2,
            "bin_end": 2.8,
            "count": 0
           },
           {
            "bin_start": 2.8,
            "bin_end": 3.4,
            "count": 22
           },
           {
            "bin_start": 3.4,
            "bin_end": 4,
            "count": 0
           },
           {
            "bin_start": 4,
            "bin_end": 4.6,
            "count": 22
           },
           {
            "bin_start": 4.6,
            "bin_end": 5.2,
            "count": 22
           },
           {
            "bin_start": 5.2,
            "bin_end": 5.8,
            "count": 0
           },
           {
            "bin_start": 5.8,
            "bin_end": 6.3999999999999995,
            "count": 22
           },
           {
            "bin_start": 6.3999999999999995,
            "bin_end": 7,
            "count": 2
           }
          ]
         }
        },
        {
         "name": "playoff",
         "dtype": "object",
         "stats": {
          "unique_count": 6,
          "nan_count": 0,
          "categories": [
           {
            "name": "Did not make the playoffs",
            "count": 218
           },
           {
            "name": "LostWC",
            "count": 46
           },
           {
            "name": "4 others",
            "count": 88
           }
          ]
         }
        },
        {
         "name": "_deepnote_index_column",
         "dtype": "int64"
        }
       ],
       "rows": [
        {
         "season ": 2010,
         "Team": "Arizona Cardinals",
         "Gms": 16,
         "Tot Pts": 289,
         "RushYds": 1388,
         "PassYds": 2921,
         "TotYds": 4309,
         "Ranking": 31,
         "wins": 5,
         "losses": 11,
         "ties": 0,
         "pct": 0.3125,
         "scored": 289,
         "allowed": 434,
         "net": -145,
         "seed": "nan",
         "playoff": "Did not make the playoffs",
         "_deepnote_index_column": 30
        },
        {
         "season ": 2010,
         "Team": "Carolina Panthers",
         "Gms": 16,
         "Tot Pts": 196,
         "RushYds": 1846,
         "PassYds": 2289,
         "TotYds": 4135,
         "Ranking": 32,
         "wins": 2,
         "losses": 14,
         "ties": 0,
         "pct": 0.125,
         "scored": 196,
         "allowed": 408,
         "net": -212,
         "seed": "nan",
         "playoff": "Did not make the playoffs",
         "_deepnote_index_column": 31
        },
        {
         "season ": 2011,
         "Team": "New Orleans Saints",
         "Gms": 16,
         "Tot Pts": 547,
         "RushYds": 2127,
         "PassYds": 5347,
         "TotYds": 7474,
         "Ranking": 1,
         "wins": 13,
         "losses": 3,
         "ties": 0,
         "pct": 0.8125,
         "scored": 547,
         "allowed": 339,
         "net": 208,
         "seed": 3,
         "playoff": "LostDV",
         "_deepnote_index_column": 32
        },
        {
         "season ": 2011,
         "Team": "New England Patriots",
         "Gms": 16,
         "Tot Pts": 513,
         "RushYds": 1764,
         "PassYds": 5084,
         "TotYds": 6848,
         "Ranking": 2,
         "wins": 13,
         "losses": 3,
         "ties": 0,
         "pct": 0.8125,
         "scored": 513,
         "allowed": 342,
         "net": 171,
         "seed": 1,
         "playoff": "LostSB",
         "_deepnote_index_column": 33
        },
        {
         "season ": 2011,
         "Team": "Green Bay Packers",
         "Gms": 16,
         "Tot Pts": 560,
         "RushYds": 1558,
         "PassYds": 4924,
         "TotYds": 6482,
         "Ranking": 3,
         "wins": 15,
         "losses": 1,
         "ties": 0,
         "pct": 0.9375,
         "scored": 560,
         "allowed": 359,
         "net": 201,
         "seed": 1,
         "playoff": "LostDV",
         "_deepnote_index_column": 34
        },
        {
         "season ": 2011,
         "Team": "Philadelphia Eagles",
         "Gms": 16,
         "Tot Pts": 396,
         "RushYds": 2276,
         "PassYds": 4110,
         "TotYds": 6386,
         "Ranking": 4,
         "wins": 8,
         "losses": 8,
         "ties": 0,
         "pct": 0.5,
         "scored": 396,
         "allowed": 328,
         "net": 68,
         "seed": "nan",
         "playoff": "Did not make the playoffs",
         "_deepnote_index_column": 35
        },
        {
         "season ": 2011,
         "Team": "Detroit Lions",
         "Gms": 16,
         "Tot Pts": 474,
         "RushYds": 1523,
         "PassYds": 4814,
         "TotYds": 6337,
         "Ranking": 5,
         "wins": 10,
         "losses": 6,
         "ties": 0,
         "pct": 0.625,
         "scored": 474,
         "allowed": 387,
         "net": 87,
         "seed": 6,
         "playoff": "LostWC",
         "_deepnote_index_column": 36
        },
        {
         "season ": 2011,
         "Team": "Los Angeles Chargers",
         "Gms": 16,
         "Tot Pts": 406,
         "RushYds": 1864,
         "PassYds": 4426,
         "TotYds": 6290,
         "Ranking": 6,
         "wins": 8,
         "losses": 8,
         "ties": 0,
         "pct": 0.5,
         "scored": 406,
         "allowed": 377,
         "net": 29,
         "seed": "nan",
         "playoff": "Did not make the playoffs",
         "_deepnote_index_column": 37
        },
        {
         "season ": 2011,
         "Team": "Carolina Panthers",
         "Gms": 16,
         "Tot Pts": 406,
         "RushYds": 2408,
         "PassYds": 3829,
         "TotYds": 6237,
         "Ranking": 7,
         "wins": 6,
         "losses": 10,
         "ties": 0,
         "pct": 0.375,
         "scored": 406,
         "allowed": 429,
         "net": -23,
         "seed": "nan",
         "playoff": "Did not make the playoffs",
         "_deepnote_index_column": 38
        },
        {
         "season ": 2011,
         "Team": "New York Giants",
         "Gms": 16,
         "Tot Pts": 394,
         "RushYds": 1427,
         "PassYds": 4734,
         "TotYds": 6161,
         "Ranking": 8,
         "wins": 9,
         "losses": 7,
         "ties": 0,
         "pct": 0.5625,
         "scored": 394,
         "allowed": 400,
         "net": -6,
         "seed": 4,
         "playoff": "WonSB",
         "_deepnote_index_column": 39
        }
       ]
      },
      "text/plain": "     season                       Team  Gms  Tot Pts  RushYds  PassYds  \\\n0       2010      Los Angeles Chargers   16      441     1810     4519   \n1       2010       Philadelphia Eagles   16      439     2324     3906   \n2       2010            Houston Texans   16      390     2042     4144   \n3       2010        Indianapolis Colts   16      435     1483     4609   \n4       2010           New York Giants   16      394     2200     3885   \n..       ...                       ...  ...      ...      ...      ...   \n347     2020      Jacksonville Jaguars   16      306     1519     3699   \n348     2020        Cincinnati Bengals   16      311     1668     3448   \n349     2020  Washington Football Team   16      335     1611     3465   \n350     2020           New York Giants   16      280     1768     3026   \n351     2020             New York Jets   16      243     1683     2796   \n\n     TotYds  Ranking  wins  losses  ties      pct  scored  allowed  net  seed  \\\n0      6329        1     9       7     0  0.56250     441      322  119   NaN   \n1      6230        2    10       6     0  0.62500     439      377   62   3.0   \n2      6186        3     6      10     0  0.37500     390      427  -37   NaN   \n3      6092        4    10       6     0  0.62500     435      388   47   3.0   \n4      6085        5    10       6     0  0.62500     394      347   47   NaN   \n..      ...      ...   ...     ...   ...      ...     ...      ...  ...   ...   \n347    5218       28     1      15     0  0.06250     306      492 -186   NaN   \n348    5116       29     4      11     1  0.28125     311      424 -113   NaN   \n349    5076       30     7       9     0  0.43750     335      329    6   4.0   \n350    4794       31     6      10     0  0.37500     280      357  -77   NaN   \n351    4479       32     2      14     0  0.12500     243      457 -214   NaN   \n\n                       playoff  \n0    Did not make the playoffs  \n1                       LostWC  \n2    Did not make the playoffs  \n3                       LostWC  \n4    Did not make the playoffs  \n..                         ...  \n347  Did not make the playoffs  \n348  Did not make the playoffs  \n349                     LostWC  \n350  Did not make the playoffs  \n351  Did not make the playoffs  \n\n[352 rows x 17 columns]",
      "text/html": "<div>\n<style scoped>\n    .dataframe tbody tr th:only-of-type {\n        vertical-align: middle;\n    }\n\n    .dataframe tbody tr th {\n        vertical-align: top;\n    }\n\n    .dataframe thead th {\n        text-align: right;\n    }\n</style>\n<table border=\"1\" class=\"dataframe\">\n  <thead>\n    <tr style=\"text-align: right;\">\n      <th></th>\n      <th>season</th>\n      <th>Team</th>\n      <th>Gms</th>\n      <th>Tot Pts</th>\n      <th>RushYds</th>\n      <th>PassYds</th>\n      <th>TotYds</th>\n      <th>Ranking</th>\n      <th>wins</th>\n      <th>losses</th>\n      <th>ties</th>\n      <th>pct</th>\n      <th>scored</th>\n      <th>allowed</th>\n      <th>net</th>\n      <th>seed</th>\n      <th>playoff</th>\n    </tr>\n  </thead>\n  <tbody>\n    <tr>\n      <th>0</th>\n      <td>2010</td>\n      <td>Los Angeles Chargers</td>\n      <td>16</td>\n      <td>441</td>\n      <td>1810</td>\n      <td>4519</td>\n      <td>6329</td>\n      <td>1</td>\n      <td>9</td>\n      <td>7</td>\n      <td>0</td>\n      <td>0.56250</td>\n      <td>441</td>\n      <td>322</td>\n      <td>119</td>\n      <td>NaN</td>\n      <td>Did not make the playoffs</td>\n    </tr>\n    <tr>\n      <th>1</th>\n      <td>2010</td>\n      <td>Philadelphia Eagles</td>\n      <td>16</td>\n      <td>439</td>\n      <td>2324</td>\n      <td>3906</td>\n      <td>6230</td>\n      <td>2</td>\n      <td>10</td>\n      <td>6</td>\n      <td>0</td>\n      <td>0.62500</td>\n      <td>439</td>\n      <td>377</td>\n      <td>62</td>\n      <td>3.0</td>\n      <td>LostWC</td>\n    </tr>\n    <tr>\n      <th>2</th>\n      <td>2010</td>\n      <td>Houston Texans</td>\n      <td>16</td>\n      <td>390</td>\n      <td>2042</td>\n      <td>4144</td>\n      <td>6186</td>\n      <td>3</td>\n      <td>6</td>\n      <td>10</td>\n      <td>0</td>\n      <td>0.37500</td>\n      <td>390</td>\n      <td>427</td>\n      <td>-37</td>\n      <td>NaN</td>\n      <td>Did not make the playoffs</td>\n    </tr>\n    <tr>\n      <th>3</th>\n      <td>2010</td>\n      <td>Indianapolis Colts</td>\n      <td>16</td>\n      <td>435</td>\n      <td>1483</td>\n      <td>4609</td>\n      <td>6092</td>\n      <td>4</td>\n      <td>10</td>\n      <td>6</td>\n      <td>0</td>\n      <td>0.62500</td>\n      <td>435</td>\n      <td>388</td>\n      <td>47</td>\n      <td>3.0</td>\n      <td>LostWC</td>\n    </tr>\n    <tr>\n      <th>4</th>\n      <td>2010</td>\n      <td>New York Giants</td>\n      <td>16</td>\n      <td>394</td>\n      <td>2200</td>\n      <td>3885</td>\n      <td>6085</td>\n      <td>5</td>\n      <td>10</td>\n      <td>6</td>\n      <td>0</td>\n      <td>0.62500</td>\n      <td>394</td>\n      <td>347</td>\n      <td>47</td>\n      <td>NaN</td>\n      <td>Did not make the playoffs</td>\n    </tr>\n    <tr>\n      <th>...</th>\n      <td>...</td>\n      <td>...</td>\n      <td>...</td>\n      <td>...</td>\n      <td>...</td>\n      <td>...</td>\n      <td>...</td>\n      <td>...</td>\n      <td>...</td>\n      <td>...</td>\n      <td>...</td>\n      <td>...</td>\n      <td>...</td>\n      <td>...</td>\n      <td>...</td>\n      <td>...</td>\n      <td>...</td>\n    </tr>\n    <tr>\n      <th>347</th>\n      <td>2020</td>\n      <td>Jacksonville Jaguars</td>\n      <td>16</td>\n      <td>306</td>\n      <td>1519</td>\n      <td>3699</td>\n      <td>5218</td>\n      <td>28</td>\n      <td>1</td>\n      <td>15</td>\n      <td>0</td>\n      <td>0.06250</td>\n      <td>306</td>\n      <td>492</td>\n      <td>-186</td>\n      <td>NaN</td>\n      <td>Did not make the playoffs</td>\n    </tr>\n    <tr>\n      <th>348</th>\n      <td>2020</td>\n      <td>Cincinnati Bengals</td>\n      <td>16</td>\n      <td>311</td>\n      <td>1668</td>\n      <td>3448</td>\n      <td>5116</td>\n      <td>29</td>\n      <td>4</td>\n      <td>11</td>\n      <td>1</td>\n      <td>0.28125</td>\n      <td>311</td>\n      <td>424</td>\n      <td>-113</td>\n      <td>NaN</td>\n      <td>Did not make the playoffs</td>\n    </tr>\n    <tr>\n      <th>349</th>\n      <td>2020</td>\n      <td>Washington Football Team</td>\n      <td>16</td>\n      <td>335</td>\n      <td>1611</td>\n      <td>3465</td>\n      <td>5076</td>\n      <td>30</td>\n      <td>7</td>\n      <td>9</td>\n      <td>0</td>\n      <td>0.43750</td>\n      <td>335</td>\n      <td>329</td>\n      <td>6</td>\n      <td>4.0</td>\n      <td>LostWC</td>\n    </tr>\n    <tr>\n      <th>350</th>\n      <td>2020</td>\n      <td>New York Giants</td>\n      <td>16</td>\n      <td>280</td>\n      <td>1768</td>\n      <td>3026</td>\n      <td>4794</td>\n      <td>31</td>\n      <td>6</td>\n      <td>10</td>\n      <td>0</td>\n      <td>0.37500</td>\n      <td>280</td>\n      <td>357</td>\n      <td>-77</td>\n      <td>NaN</td>\n      <td>Did not make the playoffs</td>\n    </tr>\n    <tr>\n      <th>351</th>\n      <td>2020</td>\n      <td>New York Jets</td>\n      <td>16</td>\n      <td>243</td>\n      <td>1683</td>\n      <td>2796</td>\n      <td>4479</td>\n      <td>32</td>\n      <td>2</td>\n      <td>14</td>\n      <td>0</td>\n      <td>0.12500</td>\n      <td>243</td>\n      <td>457</td>\n      <td>-214</td>\n      <td>NaN</td>\n      <td>Did not make the playoffs</td>\n    </tr>\n  </tbody>\n</table>\n<p>352 rows × 17 columns</p>\n</div>"
     },
     "metadata": {}
    }
   ],
   "execution_count": null
  },
  {
   "cell_type": "markdown",
   "source": "In the offenseWin there should now be no missing values in the playoff column to check this step. ",
   "metadata": {
    "cell_id": "86027670ec7f408d9655ff72e6d6818d",
    "tags": [],
    "deepnote_cell_type": "markdown",
    "deepnote_cell_height": 52.390625
   }
  },
  {
   "cell_type": "markdown",
   "source": "### Step 5: Exploring the Data \n#### Question: Is having a top-ranked offense or defense more associated with making the playoff over the past 11 seasons? How often does the first ranked make it to the playoffs?\n\nThe first pattern that I want to find is if the 1st ranked defensive or offensive is more likely to make it to the playoffs. To answer this question, I want to filter through my data to understand the number of times that the top-ranking defense and offense have made it to the playoffs over the past 11 seasons. ",
   "metadata": {
    "cell_id": "54f29c6b098b49a1bbb11cdf4b42cbbf",
    "tags": [],
    "deepnote_cell_type": "markdown",
    "deepnote_cell_height": 205.1875
   }
  },
  {
   "cell_type": "code",
   "metadata": {
    "cell_id": "3625f4606a8d47b8ba7e6833729db364",
    "tags": [],
    "deepnote_to_be_reexecuted": true,
    "source_hash": "9c1a7069",
    "execution_start": 1651098445751,
    "execution_millis": 14,
    "deepnote_table_state": {
     "pageSize": 25,
     "pageIndex": 0,
     "filters": [],
     "sortBy": []
    },
    "deepnote_table_loading": false,
    "deepnote_cell_type": "code",
    "deepnote_cell_height": 133
   },
   "source": "topdefense = DefenseWins[(DefenseWins.Ranking == 1)]\ntopPlayoffDefense = topdefense.dropna(subset=[\"seed\",\"playoff\"])\nlen(topPlayoffDefense)",
   "outputs": [
    {
     "output_type": "execute_result",
     "execution_count": 35,
     "data": {
      "text/plain": "7"
     },
     "metadata": {}
    }
   ],
   "execution_count": null
  },
  {
   "cell_type": "markdown",
   "source": "Using the lens function, we can see that from the 2010-2020 seasons, only seven top-ranked defenses made it to the playoffs.",
   "metadata": {
    "cell_id": "388a22a0fc0c4e91b403fb1595432d9b",
    "tags": [],
    "deepnote_cell_type": "markdown",
    "deepnote_cell_height": 52.390625
   }
  },
  {
   "cell_type": "markdown",
   "source": "Now, I do the same for the defense data to the offense data to compare the number of playoffs over the past 11 seasons. ",
   "metadata": {
    "cell_id": "7c7ba850de5842538a3b497349c9f683",
    "tags": [],
    "deepnote_cell_type": "markdown",
    "deepnote_cell_height": 52.390625
   }
  },
  {
   "cell_type": "code",
   "metadata": {
    "cell_id": "c6ec382dbc1d4de6904f1a78b7a1828a",
    "tags": [],
    "deepnote_to_be_reexecuted": true,
    "source_hash": "f0a606f5",
    "execution_start": 1651098442876,
    "execution_millis": 2,
    "deepnote_table_state": {
     "pageSize": 10,
     "pageIndex": 0,
     "filters": [],
     "sortBy": []
    },
    "deepnote_table_loading": false,
    "deepnote_cell_type": "code",
    "deepnote_cell_height": 154.1875
   },
   "source": "topOffense = offenseWins[(offenseWins.Ranking == 1)]\ntopPlayoffOffense = topOffense.dropna(subset=[\"seed\",\"playoff\"])\nlen(topPlayoffOffense)",
   "outputs": [
    {
     "output_type": "execute_result",
     "execution_count": 34,
     "data": {
      "text/plain": "7"
     },
     "metadata": {}
    }
   ],
   "execution_count": null
  },
  {
   "cell_type": "markdown",
   "source": "Using the lens function, we can see that from the 2010-2020 seasons, seven top-ranked offenses made it to the playoffs. According to the data, the top-ranked offense made it to the playoffs same time as the top-ranked defense.",
   "metadata": {
    "cell_id": "eb6da7bede4044aa857fe9658d65cdbf",
    "tags": [],
    "deepnote_cell_type": "markdown",
    "deepnote_cell_height": 74.796875
   }
  },
  {
   "cell_type": "markdown",
   "source": "#### Question: How often do the top-ranked offense and defense make it to the Super Bowl and win? \n\nSince top likely ranked defensive and offense give a similar amount of tripd for their team to make into the playoffs, I now want to understand if one of them makes their team more likely to make it to the Superbowl and win. To do this, I need to filter the data to only look at data that has the playoff equal to \"WonSB\" or \"LossSB.\" So, I first filter the data from the defense perspective. ",
   "metadata": {
    "cell_id": "22400dff7bec4f47b77c64daebff68ee",
    "tags": [],
    "deepnote_cell_type": "markdown",
    "deepnote_cell_height": 133.1875
   }
  },
  {
   "cell_type": "code",
   "metadata": {
    "cell_id": "e415a4989af74f5a978d4cfce45d10bc",
    "tags": [],
    "deepnote_to_be_reexecuted": true,
    "source_hash": "aaa68a78",
    "execution_start": 1651098311177,
    "execution_millis": 17,
    "deepnote_cell_type": "code",
    "deepnote_cell_height": 265.796875
   },
   "source": "superbowltopDefense = topPlayoffDefense[(topPlayoffDefense.playoff == \"WonSB\") | (topPlayoffDefense.playoff == \"LostSB\") ]\nsuperbowltopDefense",
   "outputs": [
    {
     "output_type": "execute_result",
     "execution_count": 13,
     "data": {
      "application/vnd.deepnote.dataframe.v3+json": {
       "column_count": 16,
       "row_count": 1,
       "columns": [
        {
         "name": "season",
         "dtype": "int64",
         "stats": {
          "unique_count": 1,
          "nan_count": 0,
          "min": "2015",
          "max": "2015",
          "histogram": [
           {
            "bin_start": 2014.5,
            "bin_end": 2014.6,
            "count": 0
           },
           {
            "bin_start": 2014.6,
            "bin_end": 2014.7,
            "count": 0
           },
           {
            "bin_start": 2014.7,
            "bin_end": 2014.8,
            "count": 0
           },
           {
            "bin_start": 2014.8,
            "bin_end": 2014.9,
            "count": 0
           },
           {
            "bin_start": 2014.9,
            "bin_end": 2015,
            "count": 0
           },
           {
            "bin_start": 2015,
            "bin_end": 2015.1,
            "count": 1
           },
           {
            "bin_start": 2015.1,
            "bin_end": 2015.2,
            "count": 0
           },
           {
            "bin_start": 2015.2,
            "bin_end": 2015.3,
            "count": 0
           },
           {
            "bin_start": 2015.3,
            "bin_end": 2015.4,
            "count": 0
           },
           {
            "bin_start": 2015.4,
            "bin_end": 2015.5,
            "count": 0
           }
          ]
         }
        },
        {
         "name": "Team",
         "dtype": "object",
         "stats": {
          "unique_count": 1,
          "nan_count": 0,
          "categories": [
           {
            "name": "Denver Broncos",
            "count": 1
           }
          ]
         }
        },
        {
         "name": "Tot Pts",
         "dtype": "int64",
         "stats": {
          "unique_count": 1,
          "nan_count": 0,
          "min": "296",
          "max": "296",
          "histogram": [
           {
            "bin_start": 295.5,
            "bin_end": 295.6,
            "count": 0
           },
           {
            "bin_start": 295.6,
            "bin_end": 295.7,
            "count": 0
           },
           {
            "bin_start": 295.7,
            "bin_end": 295.8,
            "count": 0
           },
           {
            "bin_start": 295.8,
            "bin_end": 295.9,
            "count": 0
           },
           {
            "bin_start": 295.9,
            "bin_end": 296,
            "count": 0
           },
           {
            "bin_start": 296,
            "bin_end": 296.1,
            "count": 1
           },
           {
            "bin_start": 296.1,
            "bin_end": 296.2,
            "count": 0
           },
           {
            "bin_start": 296.2,
            "bin_end": 296.3,
            "count": 0
           },
           {
            "bin_start": 296.3,
            "bin_end": 296.4,
            "count": 0
           },
           {
            "bin_start": 296.4,
            "bin_end": 296.5,
            "count": 0
           }
          ]
         }
        },
        {
         "name": "RushYds",
         "dtype": "int64",
         "stats": {
          "unique_count": 1,
          "nan_count": 0,
          "min": "1337",
          "max": "1337",
          "histogram": [
           {
            "bin_start": 1336.5,
            "bin_end": 1336.6,
            "count": 0
           },
           {
            "bin_start": 1336.6,
            "bin_end": 1336.7,
            "count": 0
           },
           {
            "bin_start": 1336.7,
            "bin_end": 1336.8,
            "count": 0
           },
           {
            "bin_start": 1336.8,
            "bin_end": 1336.9,
            "count": 0
           },
           {
            "bin_start": 1336.9,
            "bin_end": 1337,
            "count": 0
           },
           {
            "bin_start": 1337,
            "bin_end": 1337.1,
            "count": 1
           },
           {
            "bin_start": 1337.1,
            "bin_end": 1337.2,
            "count": 0
           },
           {
            "bin_start": 1337.2,
            "bin_end": 1337.3,
            "count": 0
           },
           {
            "bin_start": 1337.3,
            "bin_end": 1337.4,
            "count": 0
           },
           {
            "bin_start": 1337.4,
            "bin_end": 1337.5,
            "count": 0
           }
          ]
         }
        },
        {
         "name": "PassYds",
         "dtype": "int64",
         "stats": {
          "unique_count": 1,
          "nan_count": 0,
          "min": "3193",
          "max": "3193",
          "histogram": [
           {
            "bin_start": 3192.5,
            "bin_end": 3192.6,
            "count": 0
           },
           {
            "bin_start": 3192.6,
            "bin_end": 3192.7,
            "count": 0
           },
           {
            "bin_start": 3192.7,
            "bin_end": 3192.8,
            "count": 0
           },
           {
            "bin_start": 3192.8,
            "bin_end": 3192.9,
            "count": 0
           },
           {
            "bin_start": 3192.9,
            "bin_end": 3193,
            "count": 0
           },
           {
            "bin_start": 3193,
            "bin_end": 3193.1,
            "count": 1
           },
           {
            "bin_start": 3193.1,
            "bin_end": 3193.2,
            "count": 0
           },
           {
            "bin_start": 3193.2,
            "bin_end": 3193.3,
            "count": 0
           },
           {
            "bin_start": 3193.3,
            "bin_end": 3193.4,
            "count": 0
           },
           {
            "bin_start": 3193.4,
            "bin_end": 3193.5,
            "count": 0
           }
          ]
         }
        },
        {
         "name": "TotYds",
         "dtype": "int64",
         "stats": {
          "unique_count": 1,
          "nan_count": 0,
          "min": "4530",
          "max": "4530",
          "histogram": [
           {
            "bin_start": 4529.5,
            "bin_end": 4529.6,
            "count": 0
           },
           {
            "bin_start": 4529.6,
            "bin_end": 4529.7,
            "count": 0
           },
           {
            "bin_start": 4529.7,
            "bin_end": 4529.8,
            "count": 0
           },
           {
            "bin_start": 4529.8,
            "bin_end": 4529.9,
            "count": 0
           },
           {
            "bin_start": 4529.9,
            "bin_end": 4530,
            "count": 0
           },
           {
            "bin_start": 4530,
            "bin_end": 4530.1,
            "count": 1
           },
           {
            "bin_start": 4530.1,
            "bin_end": 4530.2,
            "count": 0
           },
           {
            "bin_start": 4530.2,
            "bin_end": 4530.3,
            "count": 0
           },
           {
            "bin_start": 4530.3,
            "bin_end": 4530.4,
            "count": 0
           },
           {
            "bin_start": 4530.4,
            "bin_end": 4530.5,
            "count": 0
           }
          ]
         }
        },
        {
         "name": "Ranking",
         "dtype": "int64",
         "stats": {
          "unique_count": 1,
          "nan_count": 0,
          "min": "1",
          "max": "1",
          "histogram": [
           {
            "bin_start": 0.5,
            "bin_end": 0.6,
            "count": 0
           },
           {
            "bin_start": 0.6,
            "bin_end": 0.7,
            "count": 0
           },
           {
            "bin_start": 0.7,
            "bin_end": 0.8,
            "count": 0
           },
           {
            "bin_start": 0.8,
            "bin_end": 0.9,
            "count": 0
           },
           {
            "bin_start": 0.9,
            "bin_end": 1,
            "count": 0
           },
           {
            "bin_start": 1,
            "bin_end": 1.1,
            "count": 1
           },
           {
            "bin_start": 1.1,
            "bin_end": 1.2000000000000002,
            "count": 0
           },
           {
            "bin_start": 1.2000000000000002,
            "bin_end": 1.3,
            "count": 0
           },
           {
            "bin_start": 1.3,
            "bin_end": 1.4,
            "count": 0
           },
           {
            "bin_start": 1.4,
            "bin_end": 1.5,
            "count": 0
           }
          ]
         }
        },
        {
         "name": "wins",
         "dtype": "int64",
         "stats": {
          "unique_count": 1,
          "nan_count": 0,
          "min": "12",
          "max": "12",
          "histogram": [
           {
            "bin_start": 11.5,
            "bin_end": 11.6,
            "count": 0
           },
           {
            "bin_start": 11.6,
            "bin_end": 11.7,
            "count": 0
           },
           {
            "bin_start": 11.7,
            "bin_end": 11.8,
            "count": 0
           },
           {
            "bin_start": 11.8,
            "bin_end": 11.9,
            "count": 0
           },
           {
            "bin_start": 11.9,
            "bin_end": 12,
            "count": 0
           },
           {
            "bin_start": 12,
            "bin_end": 12.1,
            "count": 1
           },
           {
            "bin_start": 12.1,
            "bin_end": 12.2,
            "count": 0
           },
           {
            "bin_start": 12.2,
            "bin_end": 12.3,
            "count": 0
           },
           {
            "bin_start": 12.3,
            "bin_end": 12.4,
            "count": 0
           },
           {
            "bin_start": 12.4,
            "bin_end": 12.5,
            "count": 0
           }
          ]
         }
        },
        {
         "name": "losses",
         "dtype": "int64",
         "stats": {
          "unique_count": 1,
          "nan_count": 0,
          "min": "4",
          "max": "4",
          "histogram": [
           {
            "bin_start": 3.5,
            "bin_end": 3.6,
            "count": 0
           },
           {
            "bin_start": 3.6,
            "bin_end": 3.7,
            "count": 0
           },
           {
            "bin_start": 3.7,
            "bin_end": 3.8,
            "count": 0
           },
           {
            "bin_start": 3.8,
            "bin_end": 3.9,
            "count": 0
           },
           {
            "bin_start": 3.9,
            "bin_end": 4,
            "count": 0
           },
           {
            "bin_start": 4,
            "bin_end": 4.1,
            "count": 1
           },
           {
            "bin_start": 4.1,
            "bin_end": 4.2,
            "count": 0
           },
           {
            "bin_start": 4.2,
            "bin_end": 4.3,
            "count": 0
           },
           {
            "bin_start": 4.3,
            "bin_end": 4.4,
            "count": 0
           },
           {
            "bin_start": 4.4,
            "bin_end": 4.5,
            "count": 0
           }
          ]
         }
        },
        {
         "name": "ties",
         "dtype": "int64",
         "stats": {
          "unique_count": 1,
          "nan_count": 0,
          "min": "0",
          "max": "0",
          "histogram": [
           {
            "bin_start": -0.5,
            "bin_end": -0.4,
            "count": 0
           },
           {
            "bin_start": -0.4,
            "bin_end": -0.3,
            "count": 0
           },
           {
            "bin_start": -0.3,
            "bin_end": -0.19999999999999996,
            "count": 0
           },
           {
            "bin_start": -0.19999999999999996,
            "bin_end": -0.09999999999999998,
            "count": 0
           },
           {
            "bin_start": -0.09999999999999998,
            "bin_end": 0,
            "count": 0
           },
           {
            "bin_start": 0,
            "bin_end": 0.10000000000000009,
            "count": 1
           },
           {
            "bin_start": 0.10000000000000009,
            "bin_end": 0.20000000000000007,
            "count": 0
           },
           {
            "bin_start": 0.20000000000000007,
            "bin_end": 0.30000000000000004,
            "count": 0
           },
           {
            "bin_start": 0.30000000000000004,
            "bin_end": 0.4,
            "count": 0
           },
           {
            "bin_start": 0.4,
            "bin_end": 0.5,
            "count": 0
           }
          ]
         }
        },
        {
         "name": "pct",
         "dtype": "float64",
         "stats": {
          "unique_count": 1,
          "nan_count": 0,
          "min": "0.75",
          "max": "0.75",
          "histogram": [
           {
            "bin_start": 0.25,
            "bin_end": 0.35,
            "count": 0
           },
           {
            "bin_start": 0.35,
            "bin_end": 0.45,
            "count": 0
           },
           {
            "bin_start": 0.45,
            "bin_end": 0.55,
            "count": 0
           },
           {
            "bin_start": 0.55,
            "bin_end": 0.65,
            "count": 0
           },
           {
            "bin_start": 0.65,
            "bin_end": 0.75,
            "count": 0
           },
           {
            "bin_start": 0.75,
            "bin_end": 0.8500000000000001,
            "count": 1
           },
           {
            "bin_start": 0.8500000000000001,
            "bin_end": 0.9500000000000001,
            "count": 0
           },
           {
            "bin_start": 0.9500000000000001,
            "bin_end": 1.05,
            "count": 0
           },
           {
            "bin_start": 1.05,
            "bin_end": 1.15,
            "count": 0
           },
           {
            "bin_start": 1.15,
            "bin_end": 1.25,
            "count": 0
           }
          ]
         }
        },
        {
         "name": "scored",
         "dtype": "int64",
         "stats": {
          "unique_count": 1,
          "nan_count": 0,
          "min": "355",
          "max": "355",
          "histogram": [
           {
            "bin_start": 354.5,
            "bin_end": 354.6,
            "count": 0
           },
           {
            "bin_start": 354.6,
            "bin_end": 354.7,
            "count": 0
           },
           {
            "bin_start": 354.7,
            "bin_end": 354.8,
            "count": 0
           },
           {
            "bin_start": 354.8,
            "bin_end": 354.9,
            "count": 0
           },
           {
            "bin_start": 354.9,
            "bin_end": 355,
            "count": 0
           },
           {
            "bin_start": 355,
            "bin_end": 355.1,
            "count": 1
           },
           {
            "bin_start": 355.1,
            "bin_end": 355.2,
            "count": 0
           },
           {
            "bin_start": 355.2,
            "bin_end": 355.3,
            "count": 0
           },
           {
            "bin_start": 355.3,
            "bin_end": 355.4,
            "count": 0
           },
           {
            "bin_start": 355.4,
            "bin_end": 355.5,
            "count": 0
           }
          ]
         }
        },
        {
         "name": "allowed",
         "dtype": "int64",
         "stats": {
          "unique_count": 1,
          "nan_count": 0,
          "min": "296",
          "max": "296",
          "histogram": [
           {
            "bin_start": 295.5,
            "bin_end": 295.6,
            "count": 0
           },
           {
            "bin_start": 295.6,
            "bin_end": 295.7,
            "count": 0
           },
           {
            "bin_start": 295.7,
            "bin_end": 295.8,
            "count": 0
           },
           {
            "bin_start": 295.8,
            "bin_end": 295.9,
            "count": 0
           },
           {
            "bin_start": 295.9,
            "bin_end": 296,
            "count": 0
           },
           {
            "bin_start": 296,
            "bin_end": 296.1,
            "count": 1
           },
           {
            "bin_start": 296.1,
            "bin_end": 296.2,
            "count": 0
           },
           {
            "bin_start": 296.2,
            "bin_end": 296.3,
            "count": 0
           },
           {
            "bin_start": 296.3,
            "bin_end": 296.4,
            "count": 0
           },
           {
            "bin_start": 296.4,
            "bin_end": 296.5,
            "count": 0
           }
          ]
         }
        },
        {
         "name": "net",
         "dtype": "int64",
         "stats": {
          "unique_count": 1,
          "nan_count": 0,
          "min": "59",
          "max": "59",
          "histogram": [
           {
            "bin_start": 58.5,
            "bin_end": 58.6,
            "count": 0
           },
           {
            "bin_start": 58.6,
            "bin_end": 58.7,
            "count": 0
           },
           {
            "bin_start": 58.7,
            "bin_end": 58.8,
            "count": 0
           },
           {
            "bin_start": 58.8,
            "bin_end": 58.9,
            "count": 0
           },
           {
            "bin_start": 58.9,
            "bin_end": 59,
            "count": 0
           },
           {
            "bin_start": 59,
            "bin_end": 59.1,
            "count": 1
           },
           {
            "bin_start": 59.1,
            "bin_end": 59.2,
            "count": 0
           },
           {
            "bin_start": 59.2,
            "bin_end": 59.3,
            "count": 0
           },
           {
            "bin_start": 59.3,
            "bin_end": 59.4,
            "count": 0
           },
           {
            "bin_start": 59.4,
            "bin_end": 59.5,
            "count": 0
           }
          ]
         }
        },
        {
         "name": "seed",
         "dtype": "float64",
         "stats": {
          "unique_count": 1,
          "nan_count": 0,
          "min": "1.0",
          "max": "1.0",
          "histogram": [
           {
            "bin_start": 0.5,
            "bin_end": 0.6,
            "count": 0
           },
           {
            "bin_start": 0.6,
            "bin_end": 0.7,
            "count": 0
           },
           {
            "bin_start": 0.7,
            "bin_end": 0.8,
            "count": 0
           },
           {
            "bin_start": 0.8,
            "bin_end": 0.9,
            "count": 0
           },
           {
            "bin_start": 0.9,
            "bin_end": 1,
            "count": 0
           },
           {
            "bin_start": 1,
            "bin_end": 1.1,
            "count": 1
           },
           {
            "bin_start": 1.1,
            "bin_end": 1.2000000000000002,
            "count": 0
           },
           {
            "bin_start": 1.2000000000000002,
            "bin_end": 1.3,
            "count": 0
           },
           {
            "bin_start": 1.3,
            "bin_end": 1.4,
            "count": 0
           },
           {
            "bin_start": 1.4,
            "bin_end": 1.5,
            "count": 0
           }
          ]
         }
        },
        {
         "name": "playoff",
         "dtype": "object",
         "stats": {
          "unique_count": 1,
          "nan_count": 0,
          "categories": [
           {
            "name": "WonSB",
            "count": 1
           }
          ]
         }
        },
        {
         "name": "_deepnote_index_column",
         "dtype": "int64"
        }
       ],
       "rows": [
        {
         "season": 2015,
         "Team": "Denver Broncos",
         "Tot Pts": 296,
         "RushYds": 1337,
         "PassYds": 3193,
         "TotYds": 4530,
         "Ranking": 1,
         "wins": 12,
         "losses": 4,
         "ties": 0,
         "pct": 0.75,
         "scored": 355,
         "allowed": 296,
         "net": 59,
         "seed": 1,
         "playoff": "WonSB",
         "_deepnote_index_column": 160
        }
       ]
      },
      "text/plain": "     season            Team  Tot Pts  RushYds  PassYds  TotYds  Ranking  wins  \\\n160    2015  Denver Broncos      296     1337     3193    4530        1    12   \n\n     losses  ties   pct  scored  allowed  net  seed playoff  \n160       4     0  0.75     355      296   59   1.0   WonSB  ",
      "text/html": "<div>\n<style scoped>\n    .dataframe tbody tr th:only-of-type {\n        vertical-align: middle;\n    }\n\n    .dataframe tbody tr th {\n        vertical-align: top;\n    }\n\n    .dataframe thead th {\n        text-align: right;\n    }\n</style>\n<table border=\"1\" class=\"dataframe\">\n  <thead>\n    <tr style=\"text-align: right;\">\n      <th></th>\n      <th>season</th>\n      <th>Team</th>\n      <th>Tot Pts</th>\n      <th>RushYds</th>\n      <th>PassYds</th>\n      <th>TotYds</th>\n      <th>Ranking</th>\n      <th>wins</th>\n      <th>losses</th>\n      <th>ties</th>\n      <th>pct</th>\n      <th>scored</th>\n      <th>allowed</th>\n      <th>net</th>\n      <th>seed</th>\n      <th>playoff</th>\n    </tr>\n  </thead>\n  <tbody>\n    <tr>\n      <th>160</th>\n      <td>2015</td>\n      <td>Denver Broncos</td>\n      <td>296</td>\n      <td>1337</td>\n      <td>3193</td>\n      <td>4530</td>\n      <td>1</td>\n      <td>12</td>\n      <td>4</td>\n      <td>0</td>\n      <td>0.75</td>\n      <td>355</td>\n      <td>296</td>\n      <td>59</td>\n      <td>1.0</td>\n      <td>WonSB</td>\n    </tr>\n  </tbody>\n</table>\n</div>"
     },
     "metadata": {}
    }
   ],
   "execution_count": null
  },
  {
   "cell_type": "markdown",
   "source": "From filtering the data to see that the top-ranked defense has won the Superbowl once over the past 11 seasons. The output displays that only the 2015 Denver Broncos had the 1st ranked defense and won the Superbowl. ",
   "metadata": {
    "cell_id": "a0206eb4a8ea4ee8818be0294b3d87df",
    "tags": [],
    "deepnote_cell_type": "markdown",
    "deepnote_cell_height": 74.796875
   }
  },
  {
   "cell_type": "markdown",
   "source": "Next, I repeat the steps above but for the offense data. ",
   "metadata": {
    "cell_id": "5df7f546bde949b19d5b930da4aab0a5",
    "tags": [],
    "deepnote_cell_type": "markdown",
    "deepnote_cell_height": 52.390625
   }
  },
  {
   "cell_type": "code",
   "metadata": {
    "cell_id": "8252d7536fcc415c8d21a30682168e71",
    "tags": [],
    "deepnote_to_be_reexecuted": true,
    "source_hash": "9fd0a9f6",
    "execution_start": 1651098311231,
    "execution_millis": 12,
    "deepnote_cell_type": "code",
    "deepnote_cell_height": 347.796875
   },
   "source": "superbowltopOffense = topPlayoffOffense[(topPlayoffOffense.playoff == \"WonSB\")| (topPlayoffOffense.playoff == \"LostSB\")]\nsuperbowltopOffense",
   "outputs": [
    {
     "output_type": "execute_result",
     "execution_count": 14,
     "data": {
      "application/vnd.deepnote.dataframe.v3+json": {
       "column_count": 17,
       "row_count": 3,
       "columns": [
        {
         "name": "season ",
         "dtype": "int64",
         "stats": {
          "unique_count": 3,
          "nan_count": 0,
          "min": "2013",
          "max": "2020",
          "histogram": [
           {
            "bin_start": 2013,
            "bin_end": 2013.7,
            "count": 1
           },
           {
            "bin_start": 2013.7,
            "bin_end": 2014.4,
            "count": 0
           },
           {
            "bin_start": 2014.4,
            "bin_end": 2015.1,
            "count": 0
           },
           {
            "bin_start": 2015.1,
            "bin_end": 2015.8,
            "count": 0
           },
           {
            "bin_start": 2015.8,
            "bin_end": 2016.5,
            "count": 0
           },
           {
            "bin_start": 2016.5,
            "bin_end": 2017.2,
            "count": 1
           },
           {
            "bin_start": 2017.2,
            "bin_end": 2017.9,
            "count": 0
           },
           {
            "bin_start": 2017.9,
            "bin_end": 2018.6,
            "count": 0
           },
           {
            "bin_start": 2018.6,
            "bin_end": 2019.3,
            "count": 0
           },
           {
            "bin_start": 2019.3,
            "bin_end": 2020,
            "count": 1
           }
          ]
         }
        },
        {
         "name": "Team",
         "dtype": "object",
         "stats": {
          "unique_count": 3,
          "nan_count": 0,
          "categories": [
           {
            "name": "Denver Broncos",
            "count": 1
           },
           {
            "name": "New England Patriots",
            "count": 1
           },
           {
            "name": "Kansas City Chiefs",
            "count": 1
           }
          ]
         }
        },
        {
         "name": "Gms",
         "dtype": "int64",
         "stats": {
          "unique_count": 1,
          "nan_count": 0,
          "min": "16",
          "max": "16",
          "histogram": [
           {
            "bin_start": 15.5,
            "bin_end": 15.6,
            "count": 0
           },
           {
            "bin_start": 15.6,
            "bin_end": 15.7,
            "count": 0
           },
           {
            "bin_start": 15.7,
            "bin_end": 15.8,
            "count": 0
           },
           {
            "bin_start": 15.8,
            "bin_end": 15.9,
            "count": 0
           },
           {
            "bin_start": 15.9,
            "bin_end": 16,
            "count": 0
           },
           {
            "bin_start": 16,
            "bin_end": 16.1,
            "count": 3
           },
           {
            "bin_start": 16.1,
            "bin_end": 16.2,
            "count": 0
           },
           {
            "bin_start": 16.2,
            "bin_end": 16.3,
            "count": 0
           },
           {
            "bin_start": 16.3,
            "bin_end": 16.4,
            "count": 0
           },
           {
            "bin_start": 16.4,
            "bin_end": 16.5,
            "count": 0
           }
          ]
         }
        },
        {
         "name": "Tot Pts",
         "dtype": "int64",
         "stats": {
          "unique_count": 3,
          "nan_count": 0,
          "min": "458",
          "max": "606",
          "histogram": [
           {
            "bin_start": 458,
            "bin_end": 472.8,
            "count": 1
           },
           {
            "bin_start": 472.8,
            "bin_end": 487.6,
            "count": 1
           },
           {
            "bin_start": 487.6,
            "bin_end": 502.4,
            "count": 0
           },
           {
            "bin_start": 502.4,
            "bin_end": 517.2,
            "count": 0
           },
           {
            "bin_start": 517.2,
            "bin_end": 532,
            "count": 0
           },
           {
            "bin_start": 532,
            "bin_end": 546.8,
            "count": 0
           },
           {
            "bin_start": 546.8,
            "bin_end": 561.6,
            "count": 0
           },
           {
            "bin_start": 561.6,
            "bin_end": 576.4,
            "count": 0
           },
           {
            "bin_start": 576.4,
            "bin_end": 591.2,
            "count": 0
           },
           {
            "bin_start": 591.2,
            "bin_end": 606,
            "count": 1
           }
          ]
         }
        },
        {
         "name": "RushYds",
         "dtype": "int64",
         "stats": {
          "unique_count": 3,
          "nan_count": 0,
          "min": "1799",
          "max": "1889",
          "histogram": [
           {
            "bin_start": 1799,
            "bin_end": 1808,
            "count": 1
           },
           {
            "bin_start": 1808,
            "bin_end": 1817,
            "count": 0
           },
           {
            "bin_start": 1817,
            "bin_end": 1826,
            "count": 0
           },
           {
            "bin_start": 1826,
            "bin_end": 1835,
            "count": 0
           },
           {
            "bin_start": 1835,
            "bin_end": 1844,
            "count": 0
           },
           {
            "bin_start": 1844,
            "bin_end": 1853,
            "count": 0
           },
           {
            "bin_start": 1853,
            "bin_end": 1862,
            "count": 0
           },
           {
            "bin_start": 1862,
            "bin_end": 1871,
            "count": 0
           },
           {
            "bin_start": 1871,
            "bin_end": 1880,
            "count": 1
           },
           {
            "bin_start": 1880,
            "bin_end": 1889,
            "count": 1
           }
          ]
         }
        },
        {
         "name": "PassYds",
         "dtype": "int64",
         "stats": {
          "unique_count": 3,
          "nan_count": 0,
          "min": "4418",
          "max": "5444",
          "histogram": [
           {
            "bin_start": 4418,
            "bin_end": 4520.6,
            "count": 1
           },
           {
            "bin_start": 4520.6,
            "bin_end": 4623.2,
            "count": 0
           },
           {
            "bin_start": 4623.2,
            "bin_end": 4725.8,
            "count": 0
           },
           {
            "bin_start": 4725.8,
            "bin_end": 4828.4,
            "count": 0
           },
           {
            "bin_start": 4828.4,
            "bin_end": 4931,
            "count": 1
           },
           {
            "bin_start": 4931,
            "bin_end": 5033.6,
            "count": 0
           },
           {
            "bin_start": 5033.6,
            "bin_end": 5136.2,
            "count": 0
           },
           {
            "bin_start": 5136.2,
            "bin_end": 5238.8,
            "count": 0
           },
           {
            "bin_start": 5238.8,
            "bin_end": 5341.4,
            "count": 0
           },
           {
            "bin_start": 5341.4,
            "bin_end": 5444,
            "count": 1
           }
          ]
         }
        },
        {
         "name": "TotYds",
         "dtype": "int64",
         "stats": {
          "unique_count": 3,
          "nan_count": 0,
          "min": "6307",
          "max": "7317",
          "histogram": [
           {
            "bin_start": 6307,
            "bin_end": 6408,
            "count": 1
           },
           {
            "bin_start": 6408,
            "bin_end": 6509,
            "count": 0
           },
           {
            "bin_start": 6509,
            "bin_end": 6610,
            "count": 0
           },
           {
            "bin_start": 6610,
            "bin_end": 6711,
            "count": 1
           },
           {
            "bin_start": 6711,
            "bin_end": 6812,
            "count": 0
           },
           {
            "bin_start": 6812,
            "bin_end": 6913,
            "count": 0
           },
           {
            "bin_start": 6913,
            "bin_end": 7014,
            "count": 0
           },
           {
            "bin_start": 7014,
            "bin_end": 7115,
            "count": 0
           },
           {
            "bin_start": 7115,
            "bin_end": 7216,
            "count": 0
           },
           {
            "bin_start": 7216,
            "bin_end": 7317,
            "count": 1
           }
          ]
         }
        },
        {
         "name": "Ranking",
         "dtype": "int64",
         "stats": {
          "unique_count": 1,
          "nan_count": 0,
          "min": "1",
          "max": "1",
          "histogram": [
           {
            "bin_start": 0.5,
            "bin_end": 0.6,
            "count": 0
           },
           {
            "bin_start": 0.6,
            "bin_end": 0.7,
            "count": 0
           },
           {
            "bin_start": 0.7,
            "bin_end": 0.8,
            "count": 0
           },
           {
            "bin_start": 0.8,
            "bin_end": 0.9,
            "count": 0
           },
           {
            "bin_start": 0.9,
            "bin_end": 1,
            "count": 0
           },
           {
            "bin_start": 1,
            "bin_end": 1.1,
            "count": 3
           },
           {
            "bin_start": 1.1,
            "bin_end": 1.2000000000000002,
            "count": 0
           },
           {
            "bin_start": 1.2000000000000002,
            "bin_end": 1.3,
            "count": 0
           },
           {
            "bin_start": 1.3,
            "bin_end": 1.4,
            "count": 0
           },
           {
            "bin_start": 1.4,
            "bin_end": 1.5,
            "count": 0
           }
          ]
         }
        },
        {
         "name": "wins",
         "dtype": "int64",
         "stats": {
          "unique_count": 2,
          "nan_count": 0,
          "min": "13",
          "max": "14",
          "histogram": [
           {
            "bin_start": 13,
            "bin_end": 13.1,
            "count": 2
           },
           {
            "bin_start": 13.1,
            "bin_end": 13.2,
            "count": 0
           },
           {
            "bin_start": 13.2,
            "bin_end": 13.3,
            "count": 0
           },
           {
            "bin_start": 13.3,
            "bin_end": 13.4,
            "count": 0
           },
           {
            "bin_start": 13.4,
            "bin_end": 13.5,
            "count": 0
           },
           {
            "bin_start": 13.5,
            "bin_end": 13.6,
            "count": 0
           },
           {
            "bin_start": 13.6,
            "bin_end": 13.7,
            "count": 0
           },
           {
            "bin_start": 13.7,
            "bin_end": 13.8,
            "count": 0
           },
           {
            "bin_start": 13.8,
            "bin_end": 13.9,
            "count": 0
           },
           {
            "bin_start": 13.9,
            "bin_end": 14,
            "count": 1
           }
          ]
         }
        },
        {
         "name": "losses",
         "dtype": "int64",
         "stats": {
          "unique_count": 2,
          "nan_count": 0,
          "min": "2",
          "max": "3",
          "histogram": [
           {
            "bin_start": 2,
            "bin_end": 2.1,
            "count": 1
           },
           {
            "bin_start": 2.1,
            "bin_end": 2.2,
            "count": 0
           },
           {
            "bin_start": 2.2,
            "bin_end": 2.3,
            "count": 0
           },
           {
            "bin_start": 2.3,
            "bin_end": 2.4,
            "count": 0
           },
           {
            "bin_start": 2.4,
            "bin_end": 2.5,
            "count": 0
           },
           {
            "bin_start": 2.5,
            "bin_end": 2.6,
            "count": 0
           },
           {
            "bin_start": 2.6,
            "bin_end": 2.7,
            "count": 0
           },
           {
            "bin_start": 2.7,
            "bin_end": 2.8,
            "count": 0
           },
           {
            "bin_start": 2.8,
            "bin_end": 2.9,
            "count": 0
           },
           {
            "bin_start": 2.9,
            "bin_end": 3,
            "count": 2
           }
          ]
         }
        },
        {
         "name": "ties",
         "dtype": "int64",
         "stats": {
          "unique_count": 1,
          "nan_count": 0,
          "min": "0",
          "max": "0",
          "histogram": [
           {
            "bin_start": -0.5,
            "bin_end": -0.4,
            "count": 0
           },
           {
            "bin_start": -0.4,
            "bin_end": -0.3,
            "count": 0
           },
           {
            "bin_start": -0.3,
            "bin_end": -0.19999999999999996,
            "count": 0
           },
           {
            "bin_start": -0.19999999999999996,
            "bin_end": -0.09999999999999998,
            "count": 0
           },
           {
            "bin_start": -0.09999999999999998,
            "bin_end": 0,
            "count": 0
           },
           {
            "bin_start": 0,
            "bin_end": 0.10000000000000009,
            "count": 3
           },
           {
            "bin_start": 0.10000000000000009,
            "bin_end": 0.20000000000000007,
            "count": 0
           },
           {
            "bin_start": 0.20000000000000007,
            "bin_end": 0.30000000000000004,
            "count": 0
           },
           {
            "bin_start": 0.30000000000000004,
            "bin_end": 0.4,
            "count": 0
           },
           {
            "bin_start": 0.4,
            "bin_end": 0.5,
            "count": 0
           }
          ]
         }
        },
        {
         "name": "pct",
         "dtype": "float64",
         "stats": {
          "unique_count": 2,
          "nan_count": 0,
          "min": "0.8125",
          "max": "0.875",
          "histogram": [
           {
            "bin_start": 0.8125,
            "bin_end": 0.81875,
            "count": 2
           },
           {
            "bin_start": 0.81875,
            "bin_end": 0.825,
            "count": 0
           },
           {
            "bin_start": 0.825,
            "bin_end": 0.83125,
            "count": 0
           },
           {
            "bin_start": 0.83125,
            "bin_end": 0.8375,
            "count": 0
           },
           {
            "bin_start": 0.8375,
            "bin_end": 0.84375,
            "count": 0
           },
           {
            "bin_start": 0.84375,
            "bin_end": 0.85,
            "count": 0
           },
           {
            "bin_start": 0.85,
            "bin_end": 0.85625,
            "count": 0
           },
           {
            "bin_start": 0.85625,
            "bin_end": 0.8625,
            "count": 0
           },
           {
            "bin_start": 0.8625,
            "bin_end": 0.86875,
            "count": 0
           },
           {
            "bin_start": 0.86875,
            "bin_end": 0.875,
            "count": 1
           }
          ]
         }
        },
        {
         "name": "scored",
         "dtype": "int64",
         "stats": {
          "unique_count": 3,
          "nan_count": 0,
          "min": "458",
          "max": "606",
          "histogram": [
           {
            "bin_start": 458,
            "bin_end": 472.8,
            "count": 1
           },
           {
            "bin_start": 472.8,
            "bin_end": 487.6,
            "count": 1
           },
           {
            "bin_start": 487.6,
            "bin_end": 502.4,
            "count": 0
           },
           {
            "bin_start": 502.4,
            "bin_end": 517.2,
            "count": 0
           },
           {
            "bin_start": 517.2,
            "bin_end": 532,
            "count": 0
           },
           {
            "bin_start": 532,
            "bin_end": 546.8,
            "count": 0
           },
           {
            "bin_start": 546.8,
            "bin_end": 561.6,
            "count": 0
           },
           {
            "bin_start": 561.6,
            "bin_end": 576.4,
            "count": 0
           },
           {
            "bin_start": 576.4,
            "bin_end": 591.2,
            "count": 0
           },
           {
            "bin_start": 591.2,
            "bin_end": 606,
            "count": 1
           }
          ]
         }
        },
        {
         "name": "allowed",
         "dtype": "int64",
         "stats": {
          "unique_count": 3,
          "nan_count": 0,
          "min": "296",
          "max": "399",
          "histogram": [
           {
            "bin_start": 296,
            "bin_end": 306.3,
            "count": 1
           },
           {
            "bin_start": 306.3,
            "bin_end": 316.6,
            "count": 0
           },
           {
            "bin_start": 316.6,
            "bin_end": 326.9,
            "count": 0
           },
           {
            "bin_start": 326.9,
            "bin_end": 337.2,
            "count": 0
           },
           {
            "bin_start": 337.2,
            "bin_end": 347.5,
            "count": 0
           },
           {
            "bin_start": 347.5,
            "bin_end": 357.8,
            "count": 0
           },
           {
            "bin_start": 357.8,
            "bin_end": 368.1,
            "count": 1
           },
           {
            "bin_start": 368.1,
            "bin_end": 378.4,
            "count": 0
           },
           {
            "bin_start": 378.4,
            "bin_end": 388.7,
            "count": 0
           },
           {
            "bin_start": 388.7,
            "bin_end": 399,
            "count": 1
           }
          ]
         }
        },
        {
         "name": "net",
         "dtype": "int64",
         "stats": {
          "unique_count": 3,
          "nan_count": 0,
          "min": "111",
          "max": "207",
          "histogram": [
           {
            "bin_start": 111,
            "bin_end": 120.6,
            "count": 1
           },
           {
            "bin_start": 120.6,
            "bin_end": 130.2,
            "count": 0
           },
           {
            "bin_start": 130.2,
            "bin_end": 139.8,
            "count": 0
           },
           {
            "bin_start": 139.8,
            "bin_end": 149.4,
            "count": 0
           },
           {
            "bin_start": 149.4,
            "bin_end": 159,
            "count": 0
           },
           {
            "bin_start": 159,
            "bin_end": 168.6,
            "count": 1
           },
           {
            "bin_start": 168.6,
            "bin_end": 178.2,
            "count": 0
           },
           {
            "bin_start": 178.2,
            "bin_end": 187.8,
            "count": 0
           },
           {
            "bin_start": 187.8,
            "bin_end": 197.39999999999998,
            "count": 0
           },
           {
            "bin_start": 197.39999999999998,
            "bin_end": 207,
            "count": 1
           }
          ]
         }
        },
        {
         "name": "seed",
         "dtype": "float64",
         "stats": {
          "unique_count": 1,
          "nan_count": 0,
          "min": "1.0",
          "max": "1.0",
          "histogram": [
           {
            "bin_start": 0.5,
            "bin_end": 0.6,
            "count": 0
           },
           {
            "bin_start": 0.6,
            "bin_end": 0.7,
            "count": 0
           },
           {
            "bin_start": 0.7,
            "bin_end": 0.8,
            "count": 0
           },
           {
            "bin_start": 0.8,
            "bin_end": 0.9,
            "count": 0
           },
           {
            "bin_start": 0.9,
            "bin_end": 1,
            "count": 0
           },
           {
            "bin_start": 1,
            "bin_end": 1.1,
            "count": 3
           },
           {
            "bin_start": 1.1,
            "bin_end": 1.2000000000000002,
            "count": 0
           },
           {
            "bin_start": 1.2000000000000002,
            "bin_end": 1.3,
            "count": 0
           },
           {
            "bin_start": 1.3,
            "bin_end": 1.4,
            "count": 0
           },
           {
            "bin_start": 1.4,
            "bin_end": 1.5,
            "count": 0
           }
          ]
         }
        },
        {
         "name": "playoff",
         "dtype": "object",
         "stats": {
          "unique_count": 1,
          "nan_count": 0,
          "categories": [
           {
            "name": "LostSB",
            "count": 3
           }
          ]
         }
        },
        {
         "name": "_deepnote_index_column",
         "dtype": "int64"
        }
       ],
       "rows": [
        {
         "season ": 2013,
         "Team": "Denver Broncos",
         "Gms": 16,
         "Tot Pts": 606,
         "RushYds": 1873,
         "PassYds": 5444,
         "TotYds": 7317,
         "Ranking": 1,
         "wins": 13,
         "losses": 3,
         "ties": 0,
         "pct": 0.8125,
         "scored": 606,
         "allowed": 399,
         "net": 207,
         "seed": 1,
         "playoff": "LostSB",
         "_deepnote_index_column": 96
        },
        {
         "season ": 2017,
         "Team": "New England Patriots",
         "Gms": 16,
         "Tot Pts": 458,
         "RushYds": 1889,
         "PassYds": 4418,
         "TotYds": 6307,
         "Ranking": 1,
         "wins": 13,
         "losses": 3,
         "ties": 0,
         "pct": 0.8125,
         "scored": 458,
         "allowed": 296,
         "net": 162,
         "seed": 1,
         "playoff": "LostSB",
         "_deepnote_index_column": 224
        },
        {
         "season ": 2020,
         "Team": "Kansas City Chiefs",
         "Gms": 16,
         "Tot Pts": 473,
         "RushYds": 1799,
         "PassYds": 4854,
         "TotYds": 6653,
         "Ranking": 1,
         "wins": 14,
         "losses": 2,
         "ties": 0,
         "pct": 0.875,
         "scored": 473,
         "allowed": 362,
         "net": 111,
         "seed": 1,
         "playoff": "LostSB",
         "_deepnote_index_column": 320
        }
       ]
      },
      "text/plain": "     season                   Team  Gms  Tot Pts  RushYds  PassYds  TotYds  \\\n96      2013        Denver Broncos   16      606     1873     5444    7317   \n224     2017  New England Patriots   16      458     1889     4418    6307   \n320     2020    Kansas City Chiefs   16      473     1799     4854    6653   \n\n     Ranking  wins  losses  ties     pct  scored  allowed  net  seed playoff  \n96         1    13       3     0  0.8125     606      399  207   1.0  LostSB  \n224        1    13       3     0  0.8125     458      296  162   1.0  LostSB  \n320        1    14       2     0  0.8750     473      362  111   1.0  LostSB  ",
      "text/html": "<div>\n<style scoped>\n    .dataframe tbody tr th:only-of-type {\n        vertical-align: middle;\n    }\n\n    .dataframe tbody tr th {\n        vertical-align: top;\n    }\n\n    .dataframe thead th {\n        text-align: right;\n    }\n</style>\n<table border=\"1\" class=\"dataframe\">\n  <thead>\n    <tr style=\"text-align: right;\">\n      <th></th>\n      <th>season</th>\n      <th>Team</th>\n      <th>Gms</th>\n      <th>Tot Pts</th>\n      <th>RushYds</th>\n      <th>PassYds</th>\n      <th>TotYds</th>\n      <th>Ranking</th>\n      <th>wins</th>\n      <th>losses</th>\n      <th>ties</th>\n      <th>pct</th>\n      <th>scored</th>\n      <th>allowed</th>\n      <th>net</th>\n      <th>seed</th>\n      <th>playoff</th>\n    </tr>\n  </thead>\n  <tbody>\n    <tr>\n      <th>96</th>\n      <td>2013</td>\n      <td>Denver Broncos</td>\n      <td>16</td>\n      <td>606</td>\n      <td>1873</td>\n      <td>5444</td>\n      <td>7317</td>\n      <td>1</td>\n      <td>13</td>\n      <td>3</td>\n      <td>0</td>\n      <td>0.8125</td>\n      <td>606</td>\n      <td>399</td>\n      <td>207</td>\n      <td>1.0</td>\n      <td>LostSB</td>\n    </tr>\n    <tr>\n      <th>224</th>\n      <td>2017</td>\n      <td>New England Patriots</td>\n      <td>16</td>\n      <td>458</td>\n      <td>1889</td>\n      <td>4418</td>\n      <td>6307</td>\n      <td>1</td>\n      <td>13</td>\n      <td>3</td>\n      <td>0</td>\n      <td>0.8125</td>\n      <td>458</td>\n      <td>296</td>\n      <td>162</td>\n      <td>1.0</td>\n      <td>LostSB</td>\n    </tr>\n    <tr>\n      <th>320</th>\n      <td>2020</td>\n      <td>Kansas City Chiefs</td>\n      <td>16</td>\n      <td>473</td>\n      <td>1799</td>\n      <td>4854</td>\n      <td>6653</td>\n      <td>1</td>\n      <td>14</td>\n      <td>2</td>\n      <td>0</td>\n      <td>0.8750</td>\n      <td>473</td>\n      <td>362</td>\n      <td>111</td>\n      <td>1.0</td>\n      <td>LostSB</td>\n    </tr>\n  </tbody>\n</table>\n</div>"
     },
     "metadata": {}
    }
   ],
   "execution_count": null
  },
  {
   "cell_type": "markdown",
   "source": "The output shows that three top-ranked offenses made it to the Super Bowl, but none won it. Therefore, the data indicate that top-ranked offenses in the past 11 seasons are more likely to make it to the Superbowl, but that does not mean they are more likely to win the Superbowl. Our data is too few seasons to fully understand and conclude if the 1st ranked offensive or defense is more valuable to teams in winning playoffs games and becoming Superbowl Champions. ",
   "metadata": {
    "cell_id": "16fb0ddc9adf4c8b8fee5948757f4956",
    "tags": [],
    "deepnote_cell_type": "markdown",
    "deepnote_cell_height": 119.59375
   }
  },
  {
   "cell_type": "markdown",
   "source": "#### Question: What is the average ranked offensive that wins the Superbowl and the average ranked defensive that wins the Superbowl? \n\nThe next question I want to investigate is finding the average rank of offenses and defenses that has won the Superbowl from 2010-to 2020. As seen in the previous question, the top-ranked offense or defense rarely wins the Superbowl. This result led me to wonder about the average rank of SuperBowl champs from the 2010-2020 seasons. To find this answer, I first loop through offenseWins dataframe to collect all the offensive rankings of teams that have won the Superbowl from 2010-to 2020. Then, I took the average of that list to find the average offense rank of the Superbowl champs. ",
   "metadata": {
    "cell_id": "fa22622d031c459a86e7da0380cd36da",
    "tags": [],
    "deepnote_cell_type": "markdown",
    "deepnote_cell_height": 202
   }
  },
  {
   "cell_type": "code",
   "metadata": {
    "cell_id": "10ea19b0d209445bbc3fdeccb3a6a294",
    "tags": [],
    "deepnote_to_be_reexecuted": true,
    "source_hash": "c45a9f99",
    "execution_start": 1651098311285,
    "execution_millis": 1,
    "deepnote_cell_type": "code",
    "deepnote_cell_height": 208.1875,
    "deepnote_output_heights": [
     21.1875
    ]
   },
   "source": "import statistics\noffenseRankingList = []\nfor index,row in offenseWins.iterrows():\n    if row[\"playoff\"]== 'WonSB':\n        offenseRankingList.append(row['Ranking'])\nstatistics.mean(offenseRankingList)",
   "outputs": [
    {
     "output_type": "execute_result",
     "execution_count": 15,
     "data": {
      "text/plain": "10.272727272727273"
     },
     "metadata": {}
    }
   ],
   "execution_count": null
  },
  {
   "cell_type": "markdown",
   "source": "The data shows that the average offensive rank of SuperBowl champions from the range of the data is 10.3",
   "metadata": {
    "cell_id": "4e47c5a040a543dbbe3fa8eb50c2c9a2",
    "tags": [],
    "deepnote_cell_type": "markdown",
    "deepnote_cell_height": 52.390625
   }
  },
  {
   "cell_type": "markdown",
   "source": "Next, I repeat the step above but for the defense ranking instead to compare the averages. ",
   "metadata": {
    "cell_id": "d6dca6a917094c36aa63c568974a39d0",
    "tags": [],
    "deepnote_cell_type": "markdown",
    "deepnote_cell_height": 52.390625
   }
  },
  {
   "cell_type": "code",
   "metadata": {
    "cell_id": "bba8f9fc6aa3479bb4f20e0b2fd6c316",
    "tags": [],
    "deepnote_to_be_reexecuted": true,
    "source_hash": "160a4c80",
    "execution_start": 1651098311334,
    "execution_millis": 3,
    "deepnote_cell_type": "code",
    "deepnote_cell_height": 190.1875,
    "deepnote_output_heights": [
     21.1875
    ]
   },
   "source": "defenseRankingList = []\nfor index,row in DefenseWins.iterrows():\n    if row[\"playoff\"]== 'WonSB':\n        defenseRankingList.append(row['Ranking'])\nstatistics.mean(defenseRankingList)",
   "outputs": [
    {
     "output_type": "execute_result",
     "execution_count": 16,
     "data": {
      "text/plain": "11.636363636363637"
     },
     "metadata": {}
    }
   ],
   "execution_count": null
  },
  {
   "cell_type": "markdown",
   "source": "According to the data, the average defensive rank of Superbowl champs from the 2010-2020 season is 11.6. The average defensive rank is higher than the offensive rank, but these averages are not close to being the top five rank offense or defense. This means that a team does not need to have the best offense or defense during the season to make or win the Superbowl. ",
   "metadata": {
    "cell_id": "33b1ef1aa3be4893bae67500ac96179b",
    "tags": [],
    "deepnote_cell_type": "markdown",
    "deepnote_cell_height": 97.1875
   }
  },
  {
   "cell_type": "markdown",
   "source": "#### Question: What are the offensive trends in the NFL from 2010 to 2020?\n\nThe next question that I want to explore is the offensive trends in NFL over the 11 seasons from the data. To find patterns displaying offensive trends, I create graphs of total rushing yards and the total passing yards over the 11 seasons. Firstly, I need to list all the rushing yards for each season and then combine these 11 seasons into a single list with all the averages from each season. Then, I zip this list with the season to create a dictionary. Finally, I used this dictionary to create the bar graph of the average rushing yards for each season. ",
   "metadata": {
    "cell_id": "336f7be6bf6b4f68a00af6aa496d4e63",
    "tags": [],
    "deepnote_cell_type": "markdown",
    "deepnote_cell_height": 178
   }
  },
  {
   "cell_type": "code",
   "metadata": {
    "cell_id": "162635e5b81e4b2c8a0bcf014761e3d8",
    "tags": [],
    "deepnote_to_be_reexecuted": true,
    "source_hash": "17edf55f",
    "execution_start": 1651098311373,
    "execution_millis": 323,
    "deepnote_cell_type": "code",
    "deepnote_cell_height": 1156.1875,
    "deepnote_output_heights": [
     213.1875
    ]
   },
   "source": "import statistics\nRushData2010 = []\nfor index,row in offenseWins.iterrows():\n            if row[\"season \"] == 2010 :\n                RushData2010.append(row['RushYds'])\nRushData2011 = []\nfor index,row in offenseWins.iterrows():\n            if row[\"season \"] == 2011 :\n                RushData2011.append(row['RushYds'])\nRushData2012 = []\nfor index,row in offenseWins.iterrows():\n            if row[\"season \"] == 2012 :\n                RushData2012.append(row['RushYds'])\nRushData2013 = []\nfor index,row in offenseWins.iterrows():\n            if row[\"season \"] == 2013 :\n                RushData2013.append(row['RushYds'])\nRushData2014 = []\nfor index,row in offenseWins.iterrows():\n            if row[\"season \"] == 2014 :\n                RushData2014.append(row['RushYds'])\nRushData2015 = []\nfor index,row in offenseWins.iterrows():\n            if row[\"season \"] == 2015 :\n                RushData2015.append(row['RushYds'])\nRushData2016 = []\nfor index,row in offenseWins.iterrows():\n            if row[\"season \"] == 2016 :\n                RushData2016.append(row['RushYds'])\nRushData2017 = []\nfor index,row in offenseWins.iterrows():\n            if row[\"season \"] == 2017 :\n                RushData2017.append(row['RushYds'])\nRushData2018 = []\nfor index,row in offenseWins.iterrows():\n            if row[\"season \"] == 2018 :\n                RushData2018.append(row['RushYds'])\nRushData2019 =[]\nfor index,row in offenseWins.iterrows():\n            if row[\"season \"] == 2019 :\n                RushData2019.append(row['RushYds'])\nRushData2020 = []\nfor index,row in offenseWins.iterrows():\n            if row[\"season \"] == 2020 :\n                RushData2020.append(row['RushYds'])               \nRushingData= [statistics.mean(RushData2010), statistics.mean(RushData2011), statistics.mean(RushData2012), statistics.mean(RushData2013), statistics.mean(RushData2014), statistics.mean(RushData2015), statistics.mean(RushData2016), statistics.mean(RushData2017), statistics.mean(RushData2018), statistics.mean(RushData2019), statistics.mean(RushData2020)]\nseasonavgRushing = dict(zip(season, RushingData))\nseasonavgRushing",
   "outputs": [
    {
     "output_type": "execute_result",
     "execution_count": 17,
     "data": {
      "text/plain": "{2010: 1831.46875,\n 2011: 1874.3125,\n 2012: 1854.65625,\n 2013: 1806.09375,\n 2014: 1781.3125,\n 2015: 1741.375,\n 2016: 1763.53125,\n 2017: 1742.90625,\n 2018: 1812.3125,\n 2019: 1818.75,\n 2020: 1902.125}"
     },
     "metadata": {}
    }
   ],
   "execution_count": null
  },
  {
   "cell_type": "code",
   "metadata": {
    "cell_id": "ddebdccb7ce54a788d03433ae8025a8a",
    "tags": [],
    "deepnote_to_be_reexecuted": true,
    "source_hash": "d2377644",
    "execution_start": 1651098311704,
    "execution_millis": 263,
    "deepnote_cell_type": "code",
    "deepnote_cell_height": 503,
    "deepnote_output_heights": [
     280
    ]
   },
   "source": "plt.figure()\nnames = list(seasonavgRushing.keys())\nvalues = list(seasonavgRushing.values())\nplt.xlabel('Seasons')\nplt.ylabel('Average Rushing Yards')\nplt.title(\"Average Rushing Yards Over 2010-2020 Seasons\")\nplt.bar(range(len(seasonavgRushing)), values, tick_label=names)\nplt.show()",
   "outputs": [
    {
     "data": {
      "text/plain": "<Figure size 432x288 with 1 Axes>",
      "image/png": "[encoded data removed]"
     },
     "metadata": {
      "needs_background": "light",
      "image/png": {
       "width": 395,
       "height": 278
      }
     },
     "output_type": "display_data"
    }
   ],
   "execution_count": null
  },
  {
   "cell_type": "markdown",
   "source": "The graph displays that in the recent season of 2018 to 2020, there was an increase in the total rushing yard in NFL. Also, the graph shows that from 2011 to 2015, there was a trend of decreasing the amount of rushing yards.  ",
   "metadata": {
    "cell_id": "61a8fd67e8764fc0bd8d7a2b76269527",
    "tags": [],
    "deepnote_cell_type": "markdown",
    "deepnote_cell_height": 74.796875
   }
  },
  {
   "cell_type": "markdown",
   "source": "Next, I created a similar bar graph for passing yards. Like in the previous step, I make 11 eleven lists, but for passing yards this time. Then, I combined these 11 seasons into a single list with all the averages from each season. Next, I zip this list with the season to create a dictionary. Finally, I used this dictionary to create the bar graph of the average passing yards for each season.",
   "metadata": {
    "cell_id": "546db29943ff4dd886265eb133283599",
    "tags": [],
    "deepnote_cell_type": "markdown",
    "deepnote_cell_height": 97.1875
   }
  },
  {
   "cell_type": "code",
   "metadata": {
    "cell_id": "7d6a3967e7684c55beb2785a87d5110f",
    "tags": [],
    "deepnote_to_be_reexecuted": true,
    "source_hash": "e9a51c90",
    "execution_start": 1651098311982,
    "execution_millis": 360,
    "deepnote_cell_type": "code",
    "deepnote_cell_height": 1156.1875,
    "deepnote_output_heights": [
     213.1875
    ]
   },
   "source": "import statistics\nPassData2010 = []\nfor index,row in offenseWins.iterrows():\n            if row[\"season \"] == 2010 :\n                PassData2010.append(row['PassYds'])\nPassData2011 = []\nfor index,row in offenseWins.iterrows():\n            if row[\"season \"] == 2011 :\n                PassData2011.append(row['PassYds'])\nPassData2012 = []\nfor index,row in offenseWins.iterrows():\n            if row[\"season \"] == 2012 :\n                PassData2012.append(row['PassYds'])\nPassData2013 = []\nfor index,row in offenseWins.iterrows():\n            if row[\"season \"] == 2013 :\n                PassData2013.append(row['PassYds'])\nPassData2014 = []\nfor index,row in offenseWins.iterrows():\n            if row[\"season \"] == 2014 :\n                PassData2014.append(row['PassYds'])\nPassData2015 = []\nfor index,row in offenseWins.iterrows():\n            if row[\"season \"] == 2015 :\n                PassData2015.append(row['PassYds'])\nPassData2016 = []\nfor index,row in offenseWins.iterrows():\n            if row[\"season \"] == 2016 :\n                PassData2016.append(row['PassYds'])\nPassData2017 = []\nfor index,row in offenseWins.iterrows():\n            if row[\"season \"] == 2017 :\n                PassData2017.append(row['PassYds'])\nPassData2018 = []\nfor index,row in offenseWins.iterrows():\n            if row[\"season \"] == 2018 :\n                PassData2018.append(row['PassYds'])\nPassData2019 =[]\nfor index,row in offenseWins.iterrows():\n            if row[\"season \"] == 2019 :\n                PassData2019.append(row['PassYds'])\nPassData2020 = []\nfor index,row in offenseWins.iterrows():\n            if row[\"season \"] == 2020 :\n                PassData2020.append(row['PassYds'])\nPassingData= [statistics.mean(PassData2010), statistics.mean(PassData2011), statistics.mean(PassData2012), statistics.mean(PassData2013), statistics.mean(PassData2014), statistics.mean(PassData2015), statistics.mean(PassData2016), statistics.mean(PassData2017), statistics.mean(PassData2018), statistics.mean(PassData2019), statistics.mean(PassData2020)]\nseasonavgpassing = dict(zip(season, PassingData))\nseasonavgpassing",
   "outputs": [
    {
     "output_type": "execute_result",
     "execution_count": 19,
     "data": {
      "text/plain": "{2010: 3544.75,\n 2011: 3675.03125,\n 2012: 3700.5625,\n 2013: 3769.78125,\n 2014: 3788.96875,\n 2015: 3901.125,\n 2016: 3898.09375,\n 2017: 3583.4375,\n 2018: 3780.65625,\n 2019: 3741.5,\n 2020: 3842.40625}"
     },
     "metadata": {}
    }
   ],
   "execution_count": null
  },
  {
   "cell_type": "code",
   "metadata": {
    "cell_id": "b79be474f357454a9a141f54303e77dc",
    "tags": [],
    "deepnote_to_be_reexecuted": true,
    "source_hash": "7c72d345",
    "execution_start": 1651098312348,
    "execution_millis": 619,
    "deepnote_cell_type": "code"
   },
   "source": "plt.figure()\nnames = list(seasonavgpassing.keys())\nPassingvalues = list(seasonavgpassing.values())\nplt.xlabel('Seasons')\nplt.ylabel('Total Passing Yards')\nplt.title(\"Total Passing Yards Over 2010-2020 Seasons\")\nplt.bar(range(len(seasonavgpassing)), Passingvalues, tick_label=names)\nplt.show()",
   "outputs": [
    {
     "data": {
      "text/plain": "<Figure size 432x288 with 1 Axes>",
      "image/png": "[encoded data removed]"
     },
     "metadata": {
      "needs_background": "light",
      "image/png": {
       "width": 395,
       "height": 278
      }
     },
     "output_type": "display_data"
    }
   ],
   "execution_count": null
  },
  {
   "cell_type": "markdown",
   "source": "The graph displays an increase in passing yards from the 2010 to 2016 seasons, and in recent seasons of 2019 and 2020, the passing yards stay relatively the same, around 3,750 yards. ",
   "metadata": {
    "cell_id": "6097b17984f14f2d88239601c1113c50",
    "tags": [],
    "deepnote_cell_type": "markdown"
   }
  },
  {
   "cell_type": "markdown",
   "source": "#### Question: Over the past 11 seasons, which teams have won the most?\nThe last part of the data that I want to examine is each team's history and which teams have been successful and have struggled over the past 11 seasons. To explore this question, I need to create a series called `winsperTeam` grouped by each team with their total wins from the past 11 seasons.",
   "metadata": {
    "cell_id": "31aecbca9b3d4f49b71556e8f77f90a1",
    "tags": [],
    "deepnote_cell_type": "markdown",
    "deepnote_cell_height": 133.1875
   }
  },
  {
   "cell_type": "code",
   "metadata": {
    "cell_id": "7426f34bf2ab47878b20896563e11866",
    "tags": [],
    "deepnote_to_be_reexecuted": true,
    "source_hash": "33729182",
    "execution_start": 1651098312638,
    "execution_millis": 332,
    "deepnote_cell_type": "code",
    "deepnote_cell_height": 726,
    "deepnote_output_heights": [
     611
    ]
   },
   "source": "winsperTeam = offenseWins.groupby(\"Team\")['wins'].sum()\nwinsperTeam",
   "outputs": [
    {
     "output_type": "execute_result",
     "execution_count": 21,
     "data": {
      "text/plain": "Team\nArizona Cardinals            83\nAtlanta Falcons              93\nBaltimore Ravens            109\nBuffalo Bills                84\nCarolina Panthers            83\nChicago Bears                84\nCincinnati Bengals           81\nCleveland Browns             53\nDallas Cowboys               92\nDenver Broncos               94\nDetroit Lions                77\nGreen Bay Packers           115\nHouston Texans               86\nIndianapolis Colts           93\nJacksonville Jaguars         52\nKansas City Chiefs          110\nLas Vegas Raiders           110\nLos Angeles Chargers         84\nLos Angeles Rams             44\nMiami Dolphins               80\nMinnesota Vikings            88\nNew England Patriots        132\nNew Orleans Saints          112\nNew York Giants              76\nNew York Jets                70\nPhiladelphia Eagles          91\nPittsburgh Steelers         114\nSan Francisco 49ers         112\nSeattle Seahawks             86\nTampa Bay Buccaneers         70\nTennessee Titans             80\nWashington Football Team     69\nName: wins, dtype: int64"
     },
     "metadata": {}
    }
   ],
   "execution_count": null
  },
  {
   "cell_type": "markdown",
   "source": "The output should create a series with each team in one column and their total wins in another column. ",
   "metadata": {
    "cell_id": "91c4d87d37d44a0aae2136c2fb91e08b",
    "tags": [],
    "deepnote_cell_type": "markdown",
    "deepnote_cell_height": 52.390625
   }
  },
  {
   "cell_type": "markdown",
   "source": "After creating this series, I made a pie chart of the teams' total wins to see if any team's amount of wins stood out. ",
   "metadata": {
    "cell_id": "5c211c3d977443f785ab47185ccdaa60",
    "tags": [],
    "deepnote_cell_type": "markdown",
    "deepnote_cell_height": 52.390625
   }
  },
  {
   "cell_type": "code",
   "metadata": {
    "cell_id": "838feb9e1eb8431eadfe41e317b20fa7",
    "tags": [],
    "deepnote_to_be_reexecuted": true,
    "source_hash": "d60d1463",
    "execution_start": 1651098312639,
    "execution_millis": 410,
    "deepnote_cell_type": "code",
    "deepnote_cell_height": 400,
    "deepnote_output_heights": [
     249
    ]
   },
   "source": "plt.figure()\nplt.pie(winsperTeam, labels=teams)\nplt.title(\"Team's Win from 2010 to 2020\")\nplt.show()",
   "outputs": [
    {
     "data": {
      "text/plain": "<Figure size 432x288 with 1 Axes>",
      "image/png": "[encoded data removed]"
     },
     "metadata": {
      "image/png": {
       "width": 439,
       "height": 247
      }
     },
     "output_type": "display_data"
    }
   ],
   "execution_count": null
  },
  {
   "cell_type": "markdown",
   "source": "The pie chart displayed that most team has a relatively equal percentage of the total wins. Some are less noticeable than the other team, the Jacksonville Jaguars, Cleveland Browns, and Los Angeles Rams. However, this pie chart does not tells which team has won the most and least in the 11 seasons looked at from the data. ",
   "metadata": {
    "cell_id": "46a1103a4ceb4e72a84ad1bc4c3ef7d7",
    "tags": [],
    "deepnote_cell_type": "markdown",
    "deepnote_cell_height": 97.1875
   }
  },
  {
   "cell_type": "markdown",
   "source": "To find the definite answer of the most winnest team from 2010 to 20202, I created a variable called `Mostwins` that find the max value in the `winsperTeam` series. Next, I created a list from a for loop that finds items in the series equal to the max value of wins. ",
   "metadata": {
    "cell_id": "a407e2e27ee9479fb19e365b9688d405",
    "tags": [],
    "deepnote_cell_type": "markdown",
    "deepnote_cell_height": 74.796875
   }
  },
  {
   "cell_type": "code",
   "metadata": {
    "cell_id": "a78356ef441545c39489308dd4a73d86",
    "tags": [],
    "deepnote_to_be_reexecuted": true,
    "source_hash": "9816b784",
    "execution_start": 1651098313051,
    "execution_millis": 21,
    "deepnote_cell_type": "code",
    "deepnote_cell_height": 154.1875,
    "deepnote_output_heights": [
     21.1875
    ]
   },
   "source": "Mostwins = winsperTeam.max()\nWinnestteam = [key for key, value in winsperTeam.items() if value == Mostwins]\nMostwins, Winnestteam",
   "outputs": [
    {
     "output_type": "execute_result",
     "execution_count": 23,
     "data": {
      "text/plain": "(132, ['New England Patriots'])"
     },
     "metadata": {}
    }
   ],
   "execution_count": null
  },
  {
   "cell_type": "markdown",
   "source": "The team that has won the most games over the 2010 to 2020 seasons is the New England Patriots, with 132 wins. ",
   "metadata": {
    "cell_id": "dfdbc1475b3a4eada916936926cb22e5",
    "tags": [],
    "deepnote_cell_type": "markdown",
    "deepnote_cell_height": 52.390625
   }
  },
  {
   "cell_type": "code",
   "metadata": {
    "cell_id": "5b1c364620234e518e6585db28e4ef72",
    "tags": [],
    "deepnote_to_be_reexecuted": true,
    "source_hash": "f874917",
    "execution_start": 1651098313058,
    "execution_millis": 19,
    "deepnote_cell_type": "code",
    "deepnote_cell_height": 154.1875,
    "deepnote_output_heights": [
     21.1875
    ]
   },
   "source": "Leastwins = winsperTeam.min()\nLoserTeams = [key for key, value in winsperTeam.items() if value == Leastwins]\nLeastwins, LoserTeams",
   "outputs": [
    {
     "output_type": "execute_result",
     "execution_count": 24,
     "data": {
      "text/plain": "(44, ['Los Angeles Rams'])"
     },
     "metadata": {}
    }
   ],
   "execution_count": null
  },
  {
   "cell_type": "markdown",
   "source": "The team that has won the least games over the 2010 to 2020 seasons is the Los Angeles Rams, with 44 wins.",
   "metadata": {
    "cell_id": "c752767e4a5b42de9f39bfe653933b3c",
    "tags": [],
    "deepnote_cell_type": "markdown",
    "deepnote_cell_height": 52.390625
   }
  },
  {
   "cell_type": "markdown",
   "source": "### Step 6: Dashboard \nThe last task of this program is to create an interactive dashboard for users to explore the data further. The dashboard allows users to examine data through the inputs of a specific NFL Team and by a particular season. This dashboard will enable users to gain more insight into the team's trends and seasons results like total wins, SuperBowl champs, and top ten offense and defense. The link to the dashboard is created below and uses code in `streamlit_app.py` to make the app. ",
   "metadata": {
    "cell_id": "6a3b38990dca4a07b212b89873da4a6f",
    "tags": [],
    "deepnote_cell_type": "markdown",
    "deepnote_cell_height": 167.59375
   }
  },
  {
   "cell_type": "code",
   "metadata": {
    "cell_id": "f031b0299dbd496391575e0f2ab5c9ae",
    "tags": [],
    "deepnote_to_be_reexecuted": true,
    "source_hash": "1e1d637c",
    "execution_start": 1651098313064,
    "execution_millis": 19041125,
    "deepnote_cell_type": "code",
    "deepnote_cell_height": 200,
    "deepnote_output_heights": [
     48.796875
    ]
   },
   "source": "from IPython.display import HTML\nimport os\n\ndisplay( HTML( f'<h2><a href=\"http://{os.environ[\"DEEPNOTE_PROJECT_ID\"]}.deepnoteproject.com\" target=\"_blank\">Click here to open your Streamlit app.</a></h2>' ) )",
   "outputs": [
    {
     "data": {
      "text/plain": "<IPython.core.display.HTML object>",
      "text/html": "<h2><a href=\"http://0ddb3e5f-34f6-4a5d-a113-53c22ace5185.deepnoteproject.com\" target=\"_blank\">Click here to open your Streamlit app.</a></h2>"
     },
     "metadata": {},
     "output_type": "display_data"
    }
   ],
   "execution_count": null
  },
  {
   "cell_type": "markdown",
   "source": "This code below pushing the work done above to GitHub.",
   "metadata": {
    "cell_id": "eaa4ae66154d4a2d8daef3a684caf01f",
    "tags": [],
    "owner_user_id": "08be4f03-5d50-4426-9449-69a123b194f7",
    "deepnote_cell_type": "markdown",
    "deepnote_cell_height": 52.390625
   }
  },
  {
   "cell_type": "code",
   "metadata": {
    "cell_id": "a48f570ea76742d8b5449a12a9fbed6f",
    "tags": [],
    "deepnote_to_be_reexecuted": true,
    "source_hash": "3bcf6ded",
    "execution_start": 1651098313108,
    "execution_millis": 3,
    "deepnote_cell_type": "code",
    "deepnote_cell_height": 130
   },
   "source": "# This records the name of your git folder for use in code later in this notebook.\n%env MA346FinalProject MA346FinalProject",
   "outputs": [
    {
     "name": "stdout",
     "text": "env: MA346FinalProject=MA346FinalProject\n",
     "output_type": "stream"
    }
   ],
   "execution_count": null
  },
  {
   "cell_type": "code",
   "metadata": {
    "cell_id": "0f0f673a18d44f5b8fd9545b3300e5ab",
    "tags": [],
    "deepnote_to_be_reexecuted": true,
    "source_hash": "abad2fb6",
    "execution_start": 1651098313109,
    "execution_millis": 3319,
    "deepnote_cell_type": "code",
    "deepnote_cell_height": 654
   },
   "source": "# This copies the latest version of all your files into the folder for syncing with GitHub:\n!cp *.* \"$MA346FinalProject/\"\n\n# This commits those changes and pushes them to GitHub:\n!cd \"$MA346FinalProject/\" && git add -A && git commit -m '2' && git push",
   "outputs": [
    {
     "name": "stdout",
     "text": "[master 069b01b] 2\n Committer: root <root@p-0ddb3e5f-34f6-4a5d-a113-53c22ace5185.projects-domain.projects.svc.cluster.local>\nYour name and email address were configured automatically based\non your username and hostname. Please check that they are accurate.\nYou can suppress this message by setting them explicitly. Run the\nfollowing command and follow the instructions in your editor to edit\nyour configuration file:\n\n    git config --global --edit\n\nAfter doing this, you may fix the identity used for this commit with:\n\n    git commit --amend --reset-author\n\n 2 files changed, 370 insertions(+), 1399 deletions(-)\n rewrite init.ipynb (77%)\nEnumerating objects: 7, done.\nCounting objects: 100% (7/7), done.\nDelta compression using up to 2 threads\nCompressing objects: 100% (4/4), done.\nWriting objects: 100% (4/4), 6.03 KiB | 686.00 KiB/s, done.\nTotal 4 (delta 3), reused 0 (delta 0)\nremote: Resolving deltas: 100% (3/3), completed with 3 local objects.\u001b[K\nTo https://github.com/eblatt15/MA346FinalProject.git\n   9c05d7e..069b01b  master -> master\n",
     "output_type": "stream"
    }
   ],
   "execution_count": null
  },
  {
   "cell_type": "code",
   "metadata": {
    "cell_id": "8fa011ffb86b42b1bf1dd92f89abded0",
    "tags": [],
    "deepnote_to_be_reexecuted": true,
    "source_hash": "2047dd06",
    "execution_start": 1651098316444,
    "execution_millis": 29639,
    "deepnote_cell_type": "code"
   },
   "source": "!streamlit run streamlit_app.py --server.port=8080 --server.address='0.0.0.0'",
   "outputs": [
    {
     "name": "stdout",
     "text": "\u001b[0m\n\u001b[34m\u001b[1m  You can now view your Streamlit app in your browser.\u001b[0m\n\u001b[0m\n\u001b[34m  URL: \u001b[0m\u001b[1mhttp://0.0.0.0:8080\u001b[0m\n\u001b[0m\n^C\n\u001b[34m  Stopping...\u001b[0m\n",
     "output_type": "stream"
    }
   ],
   "execution_count": null
  },
  {
   "cell_type": "markdown",
   "source": "<a style='text-decoration:none;line-height:16px;display:flex;color:#5B5B62;padding:10px;justify-content:end;' href='https://deepnote.com?utm_source=created-in-deepnote-cell&projectId=0ddb3e5f-34f6-4a5d-a113-53c22ace5185' target=\"_blank\">\n<img alt='Created in deepnote.com' style='display:inline;max-height:16px;margin:0px;margin-right:7.5px;' src='data:image/svg+xml;base64,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' > </img>\nCreated in <span style='font-weight:600;margin-left:4px;'>Deepnote</span></a>",
   "metadata": {
    "tags": [],
    "created_in_deepnote_cell": true,
    "deepnote_cell_type": "markdown"
   }
  }
 ],
 "nbformat": 4,
 "nbformat_minor": 2,
 "metadata": {
  "orig_nbformat": 2,
  "deepnote": {},
  "deepnote_notebook_id": "64b0e02c-39a2-42af-9dd7-94e1122d1674",
  "deepnote_execution_queue": [
   {
    "cellId": "7a6c7257-5749-4c19-ac11-b9a985467190",
    "sessionId": "dcda337d-bf11-4be9-b3d7-3a04a0489df9",
    "msgId": "4cde7289-fd4d-4365-9b35-5997d3b06865"
   },
   {
    "cellId": "1e7d254580ef47f299063d531fad82cf",
    "sessionId": "dcda337d-bf11-4be9-b3d7-3a04a0489df9",
    "msgId": "8836f912-5cc0-41a4-b694-6a2c2647283c"
   },
   {
    "cellId": "5f5d1ae656e64e1b81994eb2e3723b84",
    "sessionId": "dcda337d-bf11-4be9-b3d7-3a04a0489df9",
    "msgId": "3070040d-1e5c-42ca-840f-301cc31d3480"
   },
   {
    "cellId": "255f59e0333b46a5b23a70142778ed9f",
    "sessionId": "dcda337d-bf11-4be9-b3d7-3a04a0489df9",
    "msgId": "3e3eb701-63e7-4037-bdf2-df9bc41ae9da"
   },
   {
    "cellId": "031655e0335641d8b0c86b54880b07d4",
    "sessionId": "dcda337d-bf11-4be9-b3d7-3a04a0489df9",
    "msgId": "86509b9d-141e-4da7-bf75-7a4c60e4aa9b"
   },
   {
    "cellId": "d91f95aba90a44088c505cc8079bc8fa",
    "sessionId": "dcda337d-bf11-4be9-b3d7-3a04a0489df9",
    "msgId": "a68b039a-4862-4c88-97fd-e55c6d413523"
   },
   {
    "cellId": "c6fc6c6a0d844f3bace08e56f127954d",
    "sessionId": "dcda337d-bf11-4be9-b3d7-3a04a0489df9",
    "msgId": "30ee8d86-6e5b-45ff-bbd9-2f7ce75e62d7"
   },
   {
    "cellId": "d9cd76f9849146b38e65c22242902081",
    "sessionId": "dcda337d-bf11-4be9-b3d7-3a04a0489df9",
    "msgId": "5870e3ab-4fb2-49ab-b90b-da6ac18a162f"
   },
   {
    "cellId": "c93120df00914aad81448b07c3cb3ea7",
    "sessionId": "dcda337d-bf11-4be9-b3d7-3a04a0489df9",
    "msgId": "7dd5f580-a02f-4236-b502-e9217cb7406b"
   },
   {
    "cellId": "248e789cb84847e6a10353e28dbb236b",
    "sessionId": "dcda337d-bf11-4be9-b3d7-3a04a0489df9",
    "msgId": "d746d681-ed2f-41ca-b8da-311cd1ded934"
   },
   {
    "cellId": "3625f4606a8d47b8ba7e6833729db364",
    "sessionId": "dcda337d-bf11-4be9-b3d7-3a04a0489df9",
    "msgId": "67ec61d1-1759-4e78-bca1-12db16a30187"
   },
   {
    "cellId": "c6ec382dbc1d4de6904f1a78b7a1828a",
    "sessionId": "dcda337d-bf11-4be9-b3d7-3a04a0489df9",
    "msgId": "c112a629-ae81-48b2-b591-e0e3d6ce14e0"
   },
   {
    "cellId": "e415a4989af74f5a978d4cfce45d10bc",
    "sessionId": "dcda337d-bf11-4be9-b3d7-3a04a0489df9",
    "msgId": "5147970e-e779-4764-98e6-9db345e271c1"
   },
   {
    "cellId": "8252d7536fcc415c8d21a30682168e71",
    "sessionId": "dcda337d-bf11-4be9-b3d7-3a04a0489df9",
    "msgId": "77aa7d4d-f08f-4e2f-be2a-32a758a07b96"
   },
   {
    "cellId": "10ea19b0d209445bbc3fdeccb3a6a294",
    "sessionId": "dcda337d-bf11-4be9-b3d7-3a04a0489df9",
    "msgId": "e95002e8-2875-45e3-a5f2-839c0e2392a4"
   },
   {
    "cellId": "bba8f9fc6aa3479bb4f20e0b2fd6c316",
    "sessionId": "dcda337d-bf11-4be9-b3d7-3a04a0489df9",
    "msgId": "8ff3f314-548c-4568-8131-4762ccfcc425"
   },
   {
    "cellId": "162635e5b81e4b2c8a0bcf014761e3d8",
    "sessionId": "dcda337d-bf11-4be9-b3d7-3a04a0489df9",
    "msgId": "08e2a36a-7b15-4357-ba0d-d9e7193b7256"
   },
   {
    "cellId": "ddebdccb7ce54a788d03433ae8025a8a",
    "sessionId": "dcda337d-bf11-4be9-b3d7-3a04a0489df9",
    "msgId": "6df67aaf-b2c6-4437-ab39-4fba0aa16f48"
   },
   {
    "cellId": "7d6a3967e7684c55beb2785a87d5110f",
    "sessionId": "dcda337d-bf11-4be9-b3d7-3a04a0489df9",
    "msgId": "85d50203-321f-48a6-915f-da4da4e85a19"
   },
   {
    "cellId": "b79be474f357454a9a141f54303e77dc",
    "sessionId": "dcda337d-bf11-4be9-b3d7-3a04a0489df9",
    "msgId": "e803de20-34da-4241-be3e-e6bb80164803"
   },
   {
    "cellId": "7426f34bf2ab47878b20896563e11866",
    "sessionId": "dcda337d-bf11-4be9-b3d7-3a04a0489df9",
    "msgId": "98952878-91e2-435c-9997-a5dbe2a8f7cc"
   },
   {
    "cellId": "838feb9e1eb8431eadfe41e317b20fa7",
    "sessionId": "dcda337d-bf11-4be9-b3d7-3a04a0489df9",
    "msgId": "1525f2cd-63a1-4479-9780-81085efe22a3"
   },
   {
    "cellId": "a78356ef441545c39489308dd4a73d86",
    "sessionId": "dcda337d-bf11-4be9-b3d7-3a04a0489df9",
    "msgId": "b8a89076-0f10-498d-8812-4d27ab1a81b2"
   },
   {
    "cellId": "5b1c364620234e518e6585db28e4ef72",
    "sessionId": "dcda337d-bf11-4be9-b3d7-3a04a0489df9",
    "msgId": "e8f7dfb8-7306-498c-9242-a07b045d43e2"
   },
   {
    "cellId": "f031b0299dbd496391575e0f2ab5c9ae",
    "sessionId": "dcda337d-bf11-4be9-b3d7-3a04a0489df9",
    "msgId": "6d7e5360-3303-49dc-965d-84169b522885"
   },
   {
    "cellId": "a48f570ea76742d8b5449a12a9fbed6f",
    "sessionId": "dcda337d-bf11-4be9-b3d7-3a04a0489df9",
    "msgId": "bf7fdaf5-5cf5-4dee-ad90-3520aabb377b"
   },
   {
    "cellId": "0f0f673a18d44f5b8fd9545b3300e5ab",
    "sessionId": "dcda337d-bf11-4be9-b3d7-3a04a0489df9",
    "msgId": "5cd99bdb-0991-4062-998f-ff7e25a9ce49"
   },
   {
    "cellId": "8fa011ffb86b42b1bf1dd92f89abded0",
    "sessionId": "dcda337d-bf11-4be9-b3d7-3a04a0489df9",
    "msgId": "d21e76c3-b2a7-4f8c-b2ee-23066691f4dd"
   }
  ]
 }
}